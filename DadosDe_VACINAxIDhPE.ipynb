{
  "nbformat": 4,
  "nbformat_minor": 0,
  "metadata": {
    "colab": {
      "name": "DadosDe VACINAxIDhPE.ipynb",
      "provenance": [],
      "include_colab_link": true
    },
    "kernelspec": {
      "name": "python3",
      "display_name": "Python 3"
    },
    "language_info": {
      "name": "python"
    }
  },
  "cells": [
    {
      "cell_type": "markdown",
      "metadata": {
        "id": "view-in-github",
        "colab_type": "text"
      },
      "source": [
        "<a href=\"https://colab.research.google.com/github/CamilaSDantas/vacina_covid19_pernambuco/blob/main/DadosDe_VACINAxIDhPE.ipynb\" target=\"_parent\"><img src=\"https://colab.research.google.com/assets/colab-badge.svg\" alt=\"Open In Colab\"/></a>"
      ]
    },
    {
      "cell_type": "markdown",
      "metadata": {
        "id": "uLGUKmIcyIPi"
      },
      "source": [
        "## **Breve Análise dos dados de vacinação em Pernambuco**"
      ]
    },
    {
      "cell_type": "markdown",
      "metadata": {
        "id": "Gg87yQEWySeh"
      },
      "source": [
        "- instalações e importações necessárias;"
      ]
    },
    {
      "cell_type": "code",
      "metadata": {
        "colab": {
          "base_uri": "https://localhost:8080/"
        },
        "id": "EYqQTAiDX8By",
        "outputId": "d78623b5-61d2-4691-cbf2-d3dbaa59f481"
      },
      "source": [
        "!pip install geopandas"
      ],
      "execution_count": null,
      "outputs": [
        {
          "output_type": "stream",
          "name": "stdout",
          "text": [
            "Requirement already satisfied: geopandas in /usr/local/lib/python3.7/dist-packages (0.10.2)\n",
            "Requirement already satisfied: fiona>=1.8 in /usr/local/lib/python3.7/dist-packages (from geopandas) (1.8.20)\n",
            "Requirement already satisfied: pyproj>=2.2.0 in /usr/local/lib/python3.7/dist-packages (from geopandas) (3.2.1)\n",
            "Requirement already satisfied: shapely>=1.6 in /usr/local/lib/python3.7/dist-packages (from geopandas) (1.8.0)\n",
            "Requirement already satisfied: pandas>=0.25.0 in /usr/local/lib/python3.7/dist-packages (from geopandas) (1.1.5)\n",
            "Requirement already satisfied: munch in /usr/local/lib/python3.7/dist-packages (from fiona>=1.8->geopandas) (2.5.0)\n",
            "Requirement already satisfied: cligj>=0.5 in /usr/local/lib/python3.7/dist-packages (from fiona>=1.8->geopandas) (0.7.2)\n",
            "Requirement already satisfied: six>=1.7 in /usr/local/lib/python3.7/dist-packages (from fiona>=1.8->geopandas) (1.15.0)\n",
            "Requirement already satisfied: attrs>=17 in /usr/local/lib/python3.7/dist-packages (from fiona>=1.8->geopandas) (21.2.0)\n",
            "Requirement already satisfied: click>=4.0 in /usr/local/lib/python3.7/dist-packages (from fiona>=1.8->geopandas) (7.1.2)\n",
            "Requirement already satisfied: certifi in /usr/local/lib/python3.7/dist-packages (from fiona>=1.8->geopandas) (2021.10.8)\n",
            "Requirement already satisfied: setuptools in /usr/local/lib/python3.7/dist-packages (from fiona>=1.8->geopandas) (57.4.0)\n",
            "Requirement already satisfied: click-plugins>=1.0 in /usr/local/lib/python3.7/dist-packages (from fiona>=1.8->geopandas) (1.1.1)\n",
            "Requirement already satisfied: python-dateutil>=2.7.3 in /usr/local/lib/python3.7/dist-packages (from pandas>=0.25.0->geopandas) (2.8.2)\n",
            "Requirement already satisfied: numpy>=1.15.4 in /usr/local/lib/python3.7/dist-packages (from pandas>=0.25.0->geopandas) (1.19.5)\n",
            "Requirement already satisfied: pytz>=2017.2 in /usr/local/lib/python3.7/dist-packages (from pandas>=0.25.0->geopandas) (2018.9)\n"
          ]
        }
      ]
    },
    {
      "cell_type": "markdown",
      "metadata": {
        "id": "6aXjuBkuyPsQ"
      },
      "source": [
        ""
      ]
    },
    {
      "cell_type": "code",
      "metadata": {
        "id": "ATSk6_yVYAbb"
      },
      "source": [
        "import pandas as pd\n",
        "import geopandas as gpd\n",
        "import numpy as np\n",
        "import matplotlib.pyplot as plt\n"
      ],
      "execution_count": null,
      "outputs": []
    },
    {
      "cell_type": "code",
      "metadata": {
        "id": "Y5ZzecWDYE65"
      },
      "source": [
        "municipios = pd.read_csv('/content/drive/MyDrive/Covid19 dados tcc/tcc/coordmunicipios.csv')\n",
        "idhm = pd.read_csv('/content/drive/MyDrive/001-VACINA/idhpe.csv', decimal=',')\n",
        "covid = pd.read_csv('/content/drive/MyDrive/Covid19 dados tcc/PEdadosVACINA.csv',sep=';', decimal=',')"
      ],
      "execution_count": null,
      "outputs": []
    },
    {
      "cell_type": "markdown",
      "metadata": {
        "id": "KhG9YxbgyXIZ"
      },
      "source": [
        "- visualizando o topo dos Dataframes;"
      ]
    },
    {
      "cell_type": "code",
      "metadata": {
        "colab": {
          "base_uri": "https://localhost:8080/",
          "height": 206
        },
        "id": "OKaJ4OOOYgTK",
        "outputId": "9f633d8f-6efc-4541-dbfd-e995e03ffa01"
      },
      "source": [
        "municipios.head()"
      ],
      "execution_count": null,
      "outputs": [
        {
          "output_type": "execute_result",
          "data": {
            "text/html": [
              "<div>\n",
              "<style scoped>\n",
              "    .dataframe tbody tr th:only-of-type {\n",
              "        vertical-align: middle;\n",
              "    }\n",
              "\n",
              "    .dataframe tbody tr th {\n",
              "        vertical-align: top;\n",
              "    }\n",
              "\n",
              "    .dataframe thead th {\n",
              "        text-align: right;\n",
              "    }\n",
              "</style>\n",
              "<table border=\"1\" class=\"dataframe\">\n",
              "  <thead>\n",
              "    <tr style=\"text-align: right;\">\n",
              "      <th></th>\n",
              "      <th>Codmun</th>\n",
              "      <th>Município</th>\n",
              "      <th>latitude</th>\n",
              "      <th>longitude</th>\n",
              "    </tr>\n",
              "  </thead>\n",
              "  <tbody>\n",
              "    <tr>\n",
              "      <th>0</th>\n",
              "      <td>260005</td>\n",
              "      <td>ABREU E LIMA</td>\n",
              "      <td>-7.90072</td>\n",
              "      <td>-34.8984</td>\n",
              "    </tr>\n",
              "    <tr>\n",
              "      <th>1</th>\n",
              "      <td>260010</td>\n",
              "      <td>AFOGADOS DA INGAZEIRA</td>\n",
              "      <td>-7.74312</td>\n",
              "      <td>-37631.0000</td>\n",
              "    </tr>\n",
              "    <tr>\n",
              "      <th>2</th>\n",
              "      <td>260020</td>\n",
              "      <td>AFRÂNIO</td>\n",
              "      <td>-8.51136</td>\n",
              "      <td>-41.0095</td>\n",
              "    </tr>\n",
              "    <tr>\n",
              "      <th>3</th>\n",
              "      <td>260030</td>\n",
              "      <td>AGRESTINA</td>\n",
              "      <td>-8.45966</td>\n",
              "      <td>-35.9447</td>\n",
              "    </tr>\n",
              "    <tr>\n",
              "      <th>4</th>\n",
              "      <td>260040</td>\n",
              "      <td>ÁGUA PRETA</td>\n",
              "      <td>-8.70609</td>\n",
              "      <td>-35.5263</td>\n",
              "    </tr>\n",
              "  </tbody>\n",
              "</table>\n",
              "</div>"
            ],
            "text/plain": [
              "   Codmun              Município  latitude   longitude\n",
              "0  260005           ABREU E LIMA  -7.90072    -34.8984\n",
              "1  260010  AFOGADOS DA INGAZEIRA  -7.74312 -37631.0000\n",
              "2  260020                AFRÂNIO  -8.51136    -41.0095\n",
              "3  260030              AGRESTINA  -8.45966    -35.9447\n",
              "4  260040             ÁGUA PRETA  -8.70609    -35.5263"
            ]
          },
          "metadata": {},
          "execution_count": 14
        }
      ]
    },
    {
      "cell_type": "code",
      "metadata": {
        "colab": {
          "base_uri": "https://localhost:8080/",
          "height": 206
        },
        "id": "saQTWmyfZVnZ",
        "outputId": "a0580ed5-c1c0-4e42-cd3a-6fc21cf8ddb1"
      },
      "source": [
        "idhm.head()"
      ],
      "execution_count": null,
      "outputs": [
        {
          "output_type": "execute_result",
          "data": {
            "text/html": [
              "<div>\n",
              "<style scoped>\n",
              "    .dataframe tbody tr th:only-of-type {\n",
              "        vertical-align: middle;\n",
              "    }\n",
              "\n",
              "    .dataframe tbody tr th {\n",
              "        vertical-align: top;\n",
              "    }\n",
              "\n",
              "    .dataframe thead th {\n",
              "        text-align: right;\n",
              "    }\n",
              "</style>\n",
              "<table border=\"1\" class=\"dataframe\">\n",
              "  <thead>\n",
              "    <tr style=\"text-align: right;\">\n",
              "      <th></th>\n",
              "      <th>Codmun6</th>\n",
              "      <th>Município</th>\n",
              "      <th>IDHM</th>\n",
              "      <th>IDHM_E</th>\n",
              "      <th>IDHM_L</th>\n",
              "      <th>IDHM_R</th>\n",
              "    </tr>\n",
              "  </thead>\n",
              "  <tbody>\n",
              "    <tr>\n",
              "      <th>0</th>\n",
              "      <td>260005</td>\n",
              "      <td>ABREU E LIMA</td>\n",
              "      <td>0.679</td>\n",
              "      <td>0.632</td>\n",
              "      <td>0.791</td>\n",
              "      <td>0.625</td>\n",
              "    </tr>\n",
              "    <tr>\n",
              "      <th>1</th>\n",
              "      <td>260010</td>\n",
              "      <td>AFOGADOS DA INGAZEIRA</td>\n",
              "      <td>0.657</td>\n",
              "      <td>0.565</td>\n",
              "      <td>0.807</td>\n",
              "      <td>0.623</td>\n",
              "    </tr>\n",
              "    <tr>\n",
              "      <th>2</th>\n",
              "      <td>260020</td>\n",
              "      <td>AFRÂNIO</td>\n",
              "      <td>0.588</td>\n",
              "      <td>0.493</td>\n",
              "      <td>0.761</td>\n",
              "      <td>0.542</td>\n",
              "    </tr>\n",
              "    <tr>\n",
              "      <th>3</th>\n",
              "      <td>260030</td>\n",
              "      <td>AGRESTINA</td>\n",
              "      <td>0.592</td>\n",
              "      <td>0.470</td>\n",
              "      <td>0.760</td>\n",
              "      <td>0.581</td>\n",
              "    </tr>\n",
              "    <tr>\n",
              "      <th>4</th>\n",
              "      <td>260040</td>\n",
              "      <td>ÁGUA PRETA</td>\n",
              "      <td>0.553</td>\n",
              "      <td>0.432</td>\n",
              "      <td>0.761</td>\n",
              "      <td>0.514</td>\n",
              "    </tr>\n",
              "  </tbody>\n",
              "</table>\n",
              "</div>"
            ],
            "text/plain": [
              "   Codmun6              Município   IDHM  IDHM_E  IDHM_L  IDHM_R\n",
              "0   260005           ABREU E LIMA  0.679   0.632   0.791   0.625\n",
              "1   260010  AFOGADOS DA INGAZEIRA  0.657   0.565   0.807   0.623\n",
              "2   260020                AFRÂNIO  0.588   0.493   0.761   0.542\n",
              "3   260030              AGRESTINA  0.592   0.470   0.760   0.581\n",
              "4   260040             ÁGUA PRETA  0.553   0.432   0.761   0.514"
            ]
          },
          "metadata": {},
          "execution_count": 15
        }
      ]
    },
    {
      "cell_type": "code",
      "metadata": {
        "colab": {
          "base_uri": "https://localhost:8080/",
          "height": 383
        },
        "id": "8NEs2pjDtCQ-",
        "outputId": "41e8a75e-250a-4a2f-881e-727b920fd554"
      },
      "source": [
        "covid.head()"
      ],
      "execution_count": null,
      "outputs": [
        {
          "output_type": "execute_result",
          "data": {
            "text/html": [
              "<div>\n",
              "<style scoped>\n",
              "    .dataframe tbody tr th:only-of-type {\n",
              "        vertical-align: middle;\n",
              "    }\n",
              "\n",
              "    .dataframe tbody tr th {\n",
              "        vertical-align: top;\n",
              "    }\n",
              "\n",
              "    .dataframe thead th {\n",
              "        text-align: right;\n",
              "    }\n",
              "</style>\n",
              "<table border=\"1\" class=\"dataframe\">\n",
              "  <thead>\n",
              "    <tr style=\"text-align: right;\">\n",
              "      <th></th>\n",
              "      <th>paciente_idade</th>\n",
              "      <th>paciente_enumsexobiologico</th>\n",
              "      <th>paciente_racacor_valor</th>\n",
              "      <th>estabelecimento_municipio_codigo</th>\n",
              "      <th>estabelecimento_municipio_nome</th>\n",
              "      <th>estabelecimento_uf</th>\n",
              "      <th>vacina_grupoatendimento_nome</th>\n",
              "      <th>vacina_nome</th>\n",
              "    </tr>\n",
              "  </thead>\n",
              "  <tbody>\n",
              "    <tr>\n",
              "      <th>0</th>\n",
              "      <td>36.0</td>\n",
              "      <td>M</td>\n",
              "      <td>PARDA</td>\n",
              "      <td>260530</td>\n",
              "      <td>EXU</td>\n",
              "      <td>PE</td>\n",
              "      <td>Pessoas de 60 a 64 anos</td>\n",
              "      <td>Vacina covid-19 - BNT162b2 - BioNTech/Fosun Ph...</td>\n",
              "    </tr>\n",
              "    <tr>\n",
              "      <th>1</th>\n",
              "      <td>72.0</td>\n",
              "      <td>F</td>\n",
              "      <td>PARDA</td>\n",
              "      <td>260845</td>\n",
              "      <td>LAGOA DO CARRO</td>\n",
              "      <td>PE</td>\n",
              "      <td>Pessoas de 70 a 74 anos</td>\n",
              "      <td>Covid-19-Coronavac-Sinovac/Butantan</td>\n",
              "    </tr>\n",
              "    <tr>\n",
              "      <th>2</th>\n",
              "      <td>59.0</td>\n",
              "      <td>M</td>\n",
              "      <td>SEM INFORMACAO</td>\n",
              "      <td>260290</td>\n",
              "      <td>CABO DE SANTO AGOSTINHO</td>\n",
              "      <td>PE</td>\n",
              "      <td>Pessoas de 18 a 64 anos</td>\n",
              "      <td>Covid-19-AstraZeneca</td>\n",
              "    </tr>\n",
              "    <tr>\n",
              "      <th>3</th>\n",
              "      <td>71.0</td>\n",
              "      <td>M</td>\n",
              "      <td>AMARELA</td>\n",
              "      <td>261640</td>\n",
              "      <td>VITORIA DE SANTO ANTAO</td>\n",
              "      <td>PE</td>\n",
              "      <td>Pessoas de 70 a 74 anos</td>\n",
              "      <td>Covid-19-Coronavac-Sinovac/Butantan</td>\n",
              "    </tr>\n",
              "    <tr>\n",
              "      <th>4</th>\n",
              "      <td>27.0</td>\n",
              "      <td>F</td>\n",
              "      <td>PARDA</td>\n",
              "      <td>261610</td>\n",
              "      <td>VERDEJANTE</td>\n",
              "      <td>PE</td>\n",
              "      <td>Pessoas de 18 a 64 anos</td>\n",
              "      <td>Vacina Covid-19 - Covishield</td>\n",
              "    </tr>\n",
              "  </tbody>\n",
              "</table>\n",
              "</div>"
            ],
            "text/plain": [
              "   paciente_idade  ...                                        vacina_nome\n",
              "0            36.0  ...  Vacina covid-19 - BNT162b2 - BioNTech/Fosun Ph...\n",
              "1            72.0  ...                Covid-19-Coronavac-Sinovac/Butantan\n",
              "2            59.0  ...                               Covid-19-AstraZeneca\n",
              "3            71.0  ...                Covid-19-Coronavac-Sinovac/Butantan\n",
              "4            27.0  ...                       Vacina Covid-19 - Covishield\n",
              "\n",
              "[5 rows x 8 columns]"
            ]
          },
          "metadata": {},
          "execution_count": 16
        }
      ]
    },
    {
      "cell_type": "markdown",
      "metadata": {
        "id": "zov_Qsgcyby5"
      },
      "source": [
        "- Usando o método Describe obtemos importantes informações estatísticas, como o desvio padrão do IDH no estado(IDHM), valores mínimo e máximo, média e quartis;"
      ]
    },
    {
      "cell_type": "code",
      "metadata": {
        "colab": {
          "base_uri": "https://localhost:8080/",
          "height": 300
        },
        "id": "S9wnz6CmZYdK",
        "outputId": "79d4f7a4-255e-41f3-c584-4ce7f75ef684"
      },
      "source": [
        "idhm.describe()"
      ],
      "execution_count": null,
      "outputs": [
        {
          "output_type": "execute_result",
          "data": {
            "text/html": [
              "<div>\n",
              "<style scoped>\n",
              "    .dataframe tbody tr th:only-of-type {\n",
              "        vertical-align: middle;\n",
              "    }\n",
              "\n",
              "    .dataframe tbody tr th {\n",
              "        vertical-align: top;\n",
              "    }\n",
              "\n",
              "    .dataframe thead th {\n",
              "        text-align: right;\n",
              "    }\n",
              "</style>\n",
              "<table border=\"1\" class=\"dataframe\">\n",
              "  <thead>\n",
              "    <tr style=\"text-align: right;\">\n",
              "      <th></th>\n",
              "      <th>Codmun6</th>\n",
              "      <th>IDHM</th>\n",
              "      <th>IDHM_E</th>\n",
              "      <th>IDHM_L</th>\n",
              "      <th>IDHM_R</th>\n",
              "    </tr>\n",
              "  </thead>\n",
              "  <tbody>\n",
              "    <tr>\n",
              "      <th>count</th>\n",
              "      <td>171.000000</td>\n",
              "      <td>171.000000</td>\n",
              "      <td>170.000000</td>\n",
              "      <td>170.000000</td>\n",
              "      <td>170.000000</td>\n",
              "    </tr>\n",
              "    <tr>\n",
              "      <th>mean</th>\n",
              "      <td>260760.801170</td>\n",
              "      <td>0.595953</td>\n",
              "      <td>0.490206</td>\n",
              "      <td>0.755547</td>\n",
              "      <td>0.573976</td>\n",
              "    </tr>\n",
              "    <tr>\n",
              "      <th>std</th>\n",
              "      <td>431.933119</td>\n",
              "      <td>0.048275</td>\n",
              "      <td>0.069077</td>\n",
              "      <td>0.035587</td>\n",
              "      <td>0.047548</td>\n",
              "    </tr>\n",
              "    <tr>\n",
              "      <th>min</th>\n",
              "      <td>260005.000000</td>\n",
              "      <td>0.487000</td>\n",
              "      <td>0.354000</td>\n",
              "      <td>0.676000</td>\n",
              "      <td>0.477000</td>\n",
              "    </tr>\n",
              "    <tr>\n",
              "      <th>25%</th>\n",
              "      <td>260396.000000</td>\n",
              "      <td>0.567000</td>\n",
              "      <td>0.440250</td>\n",
              "      <td>0.730250</td>\n",
              "      <td>0.543000</td>\n",
              "    </tr>\n",
              "    <tr>\n",
              "      <th>50%</th>\n",
              "      <td>260775.000000</td>\n",
              "      <td>0.593000</td>\n",
              "      <td>0.488500</td>\n",
              "      <td>0.758000</td>\n",
              "      <td>0.565500</td>\n",
              "    </tr>\n",
              "    <tr>\n",
              "      <th>75%</th>\n",
              "      <td>261135.000000</td>\n",
              "      <td>0.612500</td>\n",
              "      <td>0.523750</td>\n",
              "      <td>0.780500</td>\n",
              "      <td>0.595000</td>\n",
              "    </tr>\n",
              "    <tr>\n",
              "      <th>max</th>\n",
              "      <td>261520.000000</td>\n",
              "      <td>0.788000</td>\n",
              "      <td>0.748000</td>\n",
              "      <td>0.839000</td>\n",
              "      <td>0.798000</td>\n",
              "    </tr>\n",
              "  </tbody>\n",
              "</table>\n",
              "</div>"
            ],
            "text/plain": [
              "             Codmun6        IDHM      IDHM_E      IDHM_L      IDHM_R\n",
              "count     171.000000  171.000000  170.000000  170.000000  170.000000\n",
              "mean   260760.801170    0.595953    0.490206    0.755547    0.573976\n",
              "std       431.933119    0.048275    0.069077    0.035587    0.047548\n",
              "min    260005.000000    0.487000    0.354000    0.676000    0.477000\n",
              "25%    260396.000000    0.567000    0.440250    0.730250    0.543000\n",
              "50%    260775.000000    0.593000    0.488500    0.758000    0.565500\n",
              "75%    261135.000000    0.612500    0.523750    0.780500    0.595000\n",
              "max    261520.000000    0.788000    0.748000    0.839000    0.798000"
            ]
          },
          "metadata": {},
          "execution_count": 17
        }
      ]
    },
    {
      "cell_type": "markdown",
      "metadata": {
        "id": "6ZOq6wduywoa"
      },
      "source": [
        "- selecionando as colunas necessárias no Dataframe \"covid\";"
      ]
    },
    {
      "cell_type": "code",
      "metadata": {
        "id": "PRSAKI5jtURi"
      },
      "source": [
        "colunas = ['paciente_idade', 'paciente_enumsexobiologico', 'paciente_racacor_valor','estabelecimento_municipio_codigo', 'estabelecimento_municipio_nome', 'estabelecimento_uf', 'vacina_grupoatendimento_nome', 'vacina_nome']\n",
        "covid = covid[colunas]"
      ],
      "execution_count": null,
      "outputs": []
    },
    {
      "cell_type": "markdown",
      "metadata": {
        "id": "d7YSmloQy1ho"
      },
      "source": [
        "- eliminando valores Not a Number possivelmente existentes;"
      ]
    },
    {
      "cell_type": "code",
      "metadata": {
        "id": "shCgIlxQtVnE"
      },
      "source": [
        "covid = covid.dropna()"
      ],
      "execution_count": null,
      "outputs": []
    },
    {
      "cell_type": "code",
      "metadata": {
        "colab": {
          "base_uri": "https://localhost:8080/",
          "height": 383
        },
        "id": "jiVaZnS-tbzL",
        "outputId": "b52e05ac-8be0-4260-91be-ae943c1e5cb3"
      },
      "source": [
        "covid.head()"
      ],
      "execution_count": null,
      "outputs": [
        {
          "output_type": "execute_result",
          "data": {
            "text/html": [
              "<div>\n",
              "<style scoped>\n",
              "    .dataframe tbody tr th:only-of-type {\n",
              "        vertical-align: middle;\n",
              "    }\n",
              "\n",
              "    .dataframe tbody tr th {\n",
              "        vertical-align: top;\n",
              "    }\n",
              "\n",
              "    .dataframe thead th {\n",
              "        text-align: right;\n",
              "    }\n",
              "</style>\n",
              "<table border=\"1\" class=\"dataframe\">\n",
              "  <thead>\n",
              "    <tr style=\"text-align: right;\">\n",
              "      <th></th>\n",
              "      <th>paciente_idade</th>\n",
              "      <th>paciente_enumsexobiologico</th>\n",
              "      <th>paciente_racacor_valor</th>\n",
              "      <th>estabelecimento_municipio_codigo</th>\n",
              "      <th>estabelecimento_municipio_nome</th>\n",
              "      <th>estabelecimento_uf</th>\n",
              "      <th>vacina_grupoatendimento_nome</th>\n",
              "      <th>vacina_nome</th>\n",
              "    </tr>\n",
              "  </thead>\n",
              "  <tbody>\n",
              "    <tr>\n",
              "      <th>0</th>\n",
              "      <td>36.0</td>\n",
              "      <td>M</td>\n",
              "      <td>PARDA</td>\n",
              "      <td>260530</td>\n",
              "      <td>EXU</td>\n",
              "      <td>PE</td>\n",
              "      <td>Pessoas de 60 a 64 anos</td>\n",
              "      <td>Vacina covid-19 - BNT162b2 - BioNTech/Fosun Ph...</td>\n",
              "    </tr>\n",
              "    <tr>\n",
              "      <th>1</th>\n",
              "      <td>72.0</td>\n",
              "      <td>F</td>\n",
              "      <td>PARDA</td>\n",
              "      <td>260845</td>\n",
              "      <td>LAGOA DO CARRO</td>\n",
              "      <td>PE</td>\n",
              "      <td>Pessoas de 70 a 74 anos</td>\n",
              "      <td>Covid-19-Coronavac-Sinovac/Butantan</td>\n",
              "    </tr>\n",
              "    <tr>\n",
              "      <th>2</th>\n",
              "      <td>59.0</td>\n",
              "      <td>M</td>\n",
              "      <td>SEM INFORMACAO</td>\n",
              "      <td>260290</td>\n",
              "      <td>CABO DE SANTO AGOSTINHO</td>\n",
              "      <td>PE</td>\n",
              "      <td>Pessoas de 18 a 64 anos</td>\n",
              "      <td>Covid-19-AstraZeneca</td>\n",
              "    </tr>\n",
              "    <tr>\n",
              "      <th>3</th>\n",
              "      <td>71.0</td>\n",
              "      <td>M</td>\n",
              "      <td>AMARELA</td>\n",
              "      <td>261640</td>\n",
              "      <td>VITORIA DE SANTO ANTAO</td>\n",
              "      <td>PE</td>\n",
              "      <td>Pessoas de 70 a 74 anos</td>\n",
              "      <td>Covid-19-Coronavac-Sinovac/Butantan</td>\n",
              "    </tr>\n",
              "    <tr>\n",
              "      <th>4</th>\n",
              "      <td>27.0</td>\n",
              "      <td>F</td>\n",
              "      <td>PARDA</td>\n",
              "      <td>261610</td>\n",
              "      <td>VERDEJANTE</td>\n",
              "      <td>PE</td>\n",
              "      <td>Pessoas de 18 a 64 anos</td>\n",
              "      <td>Vacina Covid-19 - Covishield</td>\n",
              "    </tr>\n",
              "  </tbody>\n",
              "</table>\n",
              "</div>"
            ],
            "text/plain": [
              "   paciente_idade  ...                                        vacina_nome\n",
              "0            36.0  ...  Vacina covid-19 - BNT162b2 - BioNTech/Fosun Ph...\n",
              "1            72.0  ...                Covid-19-Coronavac-Sinovac/Butantan\n",
              "2            59.0  ...                               Covid-19-AstraZeneca\n",
              "3            71.0  ...                Covid-19-Coronavac-Sinovac/Butantan\n",
              "4            27.0  ...                       Vacina Covid-19 - Covishield\n",
              "\n",
              "[5 rows x 8 columns]"
            ]
          },
          "metadata": {},
          "execution_count": 20
        }
      ]
    },
    {
      "cell_type": "markdown",
      "metadata": {
        "id": "sEV_DCZXzdDA"
      },
      "source": [
        "- conversão do tipo da variável idade para inteiro;"
      ]
    },
    {
      "cell_type": "code",
      "metadata": {
        "id": "L22ZTYyPzbno"
      },
      "source": [
        "vacinacao.paciente_idade = vacinacao.paciente_idade.astype('int64')"
      ],
      "execution_count": null,
      "outputs": []
    },
    {
      "cell_type": "markdown",
      "metadata": {
        "id": "xIIdmdOsy-TY"
      },
      "source": [
        "- agrupando as informações de \"idhm\" e \"covid\" em um único Dataframe;"
      ]
    },
    {
      "cell_type": "code",
      "metadata": {
        "id": "tGMdEpCetjp8"
      },
      "source": [
        "vacinacao = pd.merge(idhm,covid,left_on='Codmun6', right_on='estabelecimento_municipio_codigo')"
      ],
      "execution_count": null,
      "outputs": []
    },
    {
      "cell_type": "markdown",
      "metadata": {
        "id": "gh0ls0VVzJiP"
      },
      "source": [
        "- assim obtemos um Dataframe com dados sobre IDH das cidades das pessoas vacinadas;"
      ]
    },
    {
      "cell_type": "code",
      "metadata": {
        "colab": {
          "base_uri": "https://localhost:8080/",
          "height": 400
        },
        "id": "xPZYl2KUuDTd",
        "outputId": "0715004f-45e4-4b77-f494-4c1d16fe866a"
      },
      "source": [
        "vacinacao.head()"
      ],
      "execution_count": null,
      "outputs": [
        {
          "output_type": "execute_result",
          "data": {
            "text/html": [
              "<div>\n",
              "<style scoped>\n",
              "    .dataframe tbody tr th:only-of-type {\n",
              "        vertical-align: middle;\n",
              "    }\n",
              "\n",
              "    .dataframe tbody tr th {\n",
              "        vertical-align: top;\n",
              "    }\n",
              "\n",
              "    .dataframe thead th {\n",
              "        text-align: right;\n",
              "    }\n",
              "</style>\n",
              "<table border=\"1\" class=\"dataframe\">\n",
              "  <thead>\n",
              "    <tr style=\"text-align: right;\">\n",
              "      <th></th>\n",
              "      <th>Codmun6</th>\n",
              "      <th>Município</th>\n",
              "      <th>IDHM</th>\n",
              "      <th>IDHM_E</th>\n",
              "      <th>IDHM_L</th>\n",
              "      <th>IDHM_R</th>\n",
              "      <th>paciente_idade</th>\n",
              "      <th>paciente_enumsexobiologico</th>\n",
              "      <th>paciente_racacor_valor</th>\n",
              "      <th>estabelecimento_municipio_codigo</th>\n",
              "      <th>estabelecimento_municipio_nome</th>\n",
              "      <th>estabelecimento_uf</th>\n",
              "      <th>vacina_grupoatendimento_nome</th>\n",
              "      <th>vacina_nome</th>\n",
              "    </tr>\n",
              "  </thead>\n",
              "  <tbody>\n",
              "    <tr>\n",
              "      <th>0</th>\n",
              "      <td>260005</td>\n",
              "      <td>ABREU E LIMA</td>\n",
              "      <td>0.679</td>\n",
              "      <td>0.632</td>\n",
              "      <td>0.791</td>\n",
              "      <td>0.625</td>\n",
              "      <td>48.0</td>\n",
              "      <td>M</td>\n",
              "      <td>SEM INFORMACAO</td>\n",
              "      <td>260005</td>\n",
              "      <td>ABREU E LIMA</td>\n",
              "      <td>PE</td>\n",
              "      <td>Outros</td>\n",
              "      <td>Covid-19-Coronavac-Sinovac/Butantan</td>\n",
              "    </tr>\n",
              "    <tr>\n",
              "      <th>1</th>\n",
              "      <td>260005</td>\n",
              "      <td>ABREU E LIMA</td>\n",
              "      <td>0.679</td>\n",
              "      <td>0.632</td>\n",
              "      <td>0.791</td>\n",
              "      <td>0.625</td>\n",
              "      <td>53.0</td>\n",
              "      <td>M</td>\n",
              "      <td>PRETA</td>\n",
              "      <td>260005</td>\n",
              "      <td>ABREU E LIMA</td>\n",
              "      <td>PE</td>\n",
              "      <td>Ensino Básico</td>\n",
              "      <td>Vacina Covid-19 - Covishield</td>\n",
              "    </tr>\n",
              "    <tr>\n",
              "      <th>2</th>\n",
              "      <td>260005</td>\n",
              "      <td>ABREU E LIMA</td>\n",
              "      <td>0.679</td>\n",
              "      <td>0.632</td>\n",
              "      <td>0.791</td>\n",
              "      <td>0.625</td>\n",
              "      <td>26.0</td>\n",
              "      <td>M</td>\n",
              "      <td>SEM INFORMACAO</td>\n",
              "      <td>260005</td>\n",
              "      <td>ABREU E LIMA</td>\n",
              "      <td>PE</td>\n",
              "      <td>Pessoas de 60 a 64 anos</td>\n",
              "      <td>Vacina covid-19 - BNT162b2 - BioNTech/Fosun Ph...</td>\n",
              "    </tr>\n",
              "    <tr>\n",
              "      <th>3</th>\n",
              "      <td>260005</td>\n",
              "      <td>ABREU E LIMA</td>\n",
              "      <td>0.679</td>\n",
              "      <td>0.632</td>\n",
              "      <td>0.791</td>\n",
              "      <td>0.625</td>\n",
              "      <td>59.0</td>\n",
              "      <td>F</td>\n",
              "      <td>AMARELA</td>\n",
              "      <td>260005</td>\n",
              "      <td>ABREU E LIMA</td>\n",
              "      <td>PE</td>\n",
              "      <td>Diabetes Mellitus</td>\n",
              "      <td>Vacina Covid-19 - Covishield</td>\n",
              "    </tr>\n",
              "    <tr>\n",
              "      <th>4</th>\n",
              "      <td>260005</td>\n",
              "      <td>ABREU E LIMA</td>\n",
              "      <td>0.679</td>\n",
              "      <td>0.632</td>\n",
              "      <td>0.791</td>\n",
              "      <td>0.625</td>\n",
              "      <td>34.0</td>\n",
              "      <td>F</td>\n",
              "      <td>PARDA</td>\n",
              "      <td>260005</td>\n",
              "      <td>ABREU E LIMA</td>\n",
              "      <td>PE</td>\n",
              "      <td>Pessoas de 60 a 64 anos</td>\n",
              "      <td>Vacina covid-19 - BNT162b2 - BioNTech/Fosun Ph...</td>\n",
              "    </tr>\n",
              "  </tbody>\n",
              "</table>\n",
              "</div>"
            ],
            "text/plain": [
              "   Codmun6  ...                                        vacina_nome\n",
              "0   260005  ...                Covid-19-Coronavac-Sinovac/Butantan\n",
              "1   260005  ...                       Vacina Covid-19 - Covishield\n",
              "2   260005  ...  Vacina covid-19 - BNT162b2 - BioNTech/Fosun Ph...\n",
              "3   260005  ...                       Vacina Covid-19 - Covishield\n",
              "4   260005  ...  Vacina covid-19 - BNT162b2 - BioNTech/Fosun Ph...\n",
              "\n",
              "[5 rows x 14 columns]"
            ]
          },
          "metadata": {},
          "execution_count": 23
        }
      ]
    },
    {
      "cell_type": "markdown",
      "metadata": {
        "id": "m3qK-guezxmw"
      },
      "source": [
        "- visualizando dados sobre as vacinas mais aplicadas no estado;"
      ]
    },
    {
      "cell_type": "code",
      "metadata": {
        "colab": {
          "base_uri": "https://localhost:8080/",
          "height": 586
        },
        "id": "DSzBWyJtuXHj",
        "outputId": "b8edac68-a6fe-4439-c3f2-e837b5226cc8"
      },
      "source": [
        "vacinacao['vacina_nome'].value_counts().plot(kind='bar')"
      ],
      "execution_count": null,
      "outputs": [
        {
          "output_type": "execute_result",
          "data": {
            "text/plain": [
              "<matplotlib.axes._subplots.AxesSubplot at 0x7fe6efe552d0>"
            ]
          },
          "metadata": {},
          "execution_count": 24
        },
        {
          "output_type": "display_data",
          "data": {
            "image/png": "[encoded data removed]",
            "text/plain": [
              "<Figure size 432x288 with 1 Axes>"
            ]
          },
          "metadata": {
            "needs_background": "light"
          }
        }
      ]
    },
    {
      "cell_type": "markdown",
      "metadata": {
        "id": "ff_govu0z5hR"
      },
      "source": [
        "- visualizando dados sobre o sexo majoritariamente vacinado no estado;"
      ]
    },
    {
      "cell_type": "code",
      "metadata": {
        "id": "HI-iJmwdugDa"
      },
      "source": [
        "sexo = vacinacao['paciente_enumsexobiologico'].value_counts()"
      ],
      "execution_count": null,
      "outputs": []
    },
    {
      "cell_type": "code",
      "metadata": {
        "colab": {
          "base_uri": "https://localhost:8080/"
        },
        "id": "7nIFekk9ui5U",
        "outputId": "cf3bc2cb-49d5-4db1-ffe3-2bdab811a2cb"
      },
      "source": [
        "sexo.head()"
      ],
      "execution_count": null,
      "outputs": [
        {
          "output_type": "execute_result",
          "data": {
            "text/plain": [
              "F    4899690\n",
              "M    4001632\n",
              "I         12\n",
              "Name: paciente_enumsexobiologico, dtype: int64"
            ]
          },
          "metadata": {},
          "execution_count": 26
        }
      ]
    },
    {
      "cell_type": "code",
      "metadata": {
        "colab": {
          "base_uri": "https://localhost:8080/",
          "height": 296
        },
        "id": "jSkb_aYxulKq",
        "outputId": "6a2ae4de-ed59-4e35-c571-e4c0918f068b"
      },
      "source": [
        "sexo.plot(kind='barh', color = ['red', 'blue'])"
      ],
      "execution_count": null,
      "outputs": [
        {
          "output_type": "execute_result",
          "data": {
            "text/plain": [
              "<matplotlib.axes._subplots.AxesSubplot at 0x7fe69cf49150>"
            ]
          },
          "metadata": {},
          "execution_count": 28
        },
        {
          "output_type": "display_data",
          "data": {
            "image/png": "[encoded data removed]",
            "text/plain": [
              "<Figure size 432x288 with 1 Axes>"
            ]
          },
          "metadata": {
            "needs_background": "light"
          }
        }
      ]
    },
    {
      "cell_type": "markdown",
      "metadata": {
        "id": "IoiDH88S0Mif"
      },
      "source": [
        "- através do gráfico acima percebemos que as mulheres aceitam melhor a campanha de vacinação, visto que representaram 55,04% do total de vacinados. Porém é fundamental considerar que, segundo dados do IBGE, no estado de Pernambuco, 52,28% dos habitantes são do sexo feminino."
      ]
    },
    {
      "cell_type": "markdown",
      "metadata": {
        "id": "YxLEGT4e1UKf"
      },
      "source": [
        "- analisando dados sobre Cor da população vacinada;"
      ]
    },
    {
      "cell_type": "code",
      "metadata": {
        "id": "zAq78NEGupDq"
      },
      "source": [
        "cor = vacinacao['paciente_racacor_valor'].value_counts()"
      ],
      "execution_count": null,
      "outputs": []
    },
    {
      "cell_type": "code",
      "metadata": {
        "colab": {
          "base_uri": "https://localhost:8080/"
        },
        "id": "zgMkrfOHuozF",
        "outputId": "1f44ea61-ca87-4633-d2b7-b148edbfd415"
      },
      "source": [
        "cor.head()"
      ],
      "execution_count": null,
      "outputs": [
        {
          "output_type": "execute_result",
          "data": {
            "text/plain": [
              "SEM INFORMACAO    2640913\n",
              "PARDA             2312382\n",
              "AMARELA           2083226\n",
              "BRANCA            1520392\n",
              "PRETA              285964\n",
              "Name: paciente_racacor_valor, dtype: int64"
            ]
          },
          "metadata": {},
          "execution_count": 30
        }
      ]
    },
    {
      "cell_type": "code",
      "metadata": {
        "colab": {
          "base_uri": "https://localhost:8080/",
          "height": 376
        },
        "id": "h0Rh4smjuxZ0",
        "outputId": "0748ee46-7928-4497-a037-b9b00fce1168"
      },
      "source": [
        "cor.plot(kind='bar', color = ['blue'])"
      ],
      "execution_count": null,
      "outputs": [
        {
          "output_type": "execute_result",
          "data": {
            "text/plain": [
              "<matplotlib.axes._subplots.AxesSubplot at 0x7fe69ce15c50>"
            ]
          },
          "metadata": {},
          "execution_count": 31
        },
        {
          "output_type": "display_data",
          "data": {
            "image/png": "[encoded data removed]",
            "text/plain": [
              "<Figure size 432x288 with 1 Axes>"
            ]
          },
          "metadata": {
            "needs_background": "light"
          }
        }
      ]
    },
    {
      "cell_type": "markdown",
      "metadata": {
        "id": "h3h09yF11fLm"
      },
      "source": [
        "- Acima, a informação majoritária \"sem informação\" não foi ocultada, visto que, por se tratar da grande maioria, nos leva à reflexão sobre o desconhecimento de grande parte da população a respeito de sua identificação cultural e ascendência étnica. Acreditamos que grande parte dos que não declararam informação sobre cor integram a população negra periférica, submetida a um longo processo de alienação da sua identidade ancestral."
      ]
    },
    {
      "cell_type": "code",
      "metadata": {
        "id": "nuSWx7_Ruou-"
      },
      "source": [
        "grupo = vacinacao['vacina_grupoatendimento_nome'].value_counts()"
      ],
      "execution_count": null,
      "outputs": []
    },
    {
      "cell_type": "code",
      "metadata": {
        "colab": {
          "base_uri": "https://localhost:8080/"
        },
        "id": "AtjcARAruori",
        "outputId": "2c24f3ca-f7f4-4514-ee54-913744bfe461"
      },
      "source": [
        "grupo.head()"
      ],
      "execution_count": null,
      "outputs": [
        {
          "output_type": "execute_result",
          "data": {
            "text/plain": [
              "Pessoas de 60 a 64 anos    2907902\n",
              "Pessoas de 18 a 64 anos    2317980\n",
              "Pessoas de 65 a 69 anos     526503\n",
              "Pessoas de 70 a 74 anos     402929\n",
              "Outros                      388566\n",
              "Name: vacina_grupoatendimento_nome, dtype: int64"
            ]
          },
          "metadata": {},
          "execution_count": 33
        }
      ]
    },
    {
      "cell_type": "markdown",
      "metadata": {
        "id": "9TWHT0p72FXZ"
      },
      "source": [
        "- acima, vemos que o grupo mais atendido pela vacinação foi o grupo pertencente à faixa etária de 60 a 64 anos;"
      ]
    },
    {
      "cell_type": "code",
      "metadata": {
        "colab": {
          "base_uri": "https://localhost:8080/"
        },
        "id": "IeDsn264uojz",
        "outputId": "67fdbb68-d35e-4eb9-fce6-97de1c1f07f1"
      },
      "source": [
        "grupo.sort_values()"
      ],
      "execution_count": null,
      "outputs": [
        {
          "output_type": "execute_result",
          "data": {
            "text/plain": [
              "Técnico em Saúde Bucal - TSB                      23\n",
              "Indivíduos Transplantados de Medula Óssea         51\n",
              "Técnico de Veterinário                            91\n",
              "Doula/Parteira                                   191\n",
              "Metroviário                                      202\n",
              "                                              ...   \n",
              "Outros                                        388566\n",
              "Pessoas de 70 a 74 anos                       402929\n",
              "Pessoas de 65 a 69 anos                       526503\n",
              "Pessoas de 18 a 64 anos                      2317980\n",
              "Pessoas de 60 a 64 anos                      2907902\n",
              "Name: vacina_grupoatendimento_nome, Length: 93, dtype: int64"
            ]
          },
          "metadata": {},
          "execution_count": 34
        }
      ]
    },
    {
      "cell_type": "markdown",
      "metadata": {
        "id": "6NXgk4f62UUP"
      },
      "source": [
        "- acima, categorias muito específicas contam os menores números em grupos de vacinação;"
      ]
    },
    {
      "cell_type": "markdown",
      "metadata": {
        "id": "Bnb2C4wm2s3o"
      },
      "source": [
        "- abaixo, a análise dos dados de quantidade de vacinas por cidade, segue o quantitativo por cidades mais populosas do estado;"
      ]
    },
    {
      "cell_type": "code",
      "metadata": {
        "id": "cjnnhxQjvNni"
      },
      "source": [
        "dadosCidades = vacinacao['estabelecimento_municipio_nome']"
      ],
      "execution_count": null,
      "outputs": []
    },
    {
      "cell_type": "code",
      "metadata": {
        "colab": {
          "base_uri": "https://localhost:8080/"
        },
        "id": "Fl8NCh2KvNkp",
        "outputId": "dff6ad63-2d51-469b-945b-7f3dc2704cbf"
      },
      "source": [
        "dadosCidades.value_counts()"
      ],
      "execution_count": null,
      "outputs": [
        {
          "output_type": "execute_result",
          "data": {
            "text/plain": [
              "RECIFE                     1999419\n",
              "JABOATAO DOS GUARARAPES     624430\n",
              "CARUARU                     396344\n",
              "PETROLINA                   347998\n",
              "OLINDA                      277930\n",
              "                            ...   \n",
              "PALMEIRINA                    6828\n",
              "ITACURUBA                     6563\n",
              "CALUMBI                       6521\n",
              "SOLIDAO                       5609\n",
              "INGAZEIRA                     5396\n",
              "Name: estabelecimento_municipio_nome, Length: 171, dtype: int64"
            ]
          },
          "metadata": {},
          "execution_count": 38
        }
      ]
    },
    {
      "cell_type": "markdown",
      "metadata": {
        "id": "NQ4_zPDh3JmG"
      },
      "source": [
        "- abaixo, verificamos quais os grupos etários com maior contingente populacional contemplado pela vacinação\n",
        ";"
      ]
    },
    {
      "cell_type": "code",
      "metadata": {
        "id": "jEsfMgBZvNhK"
      },
      "source": [
        "idade= vacinacao['paciente_idade'].value_counts()"
      ],
      "execution_count": null,
      "outputs": []
    },
    {
      "cell_type": "code",
      "metadata": {
        "colab": {
          "base_uri": "https://localhost:8080/"
        },
        "id": "xrzOba9MvNd7",
        "outputId": "c44d43d5-be73-4523-dafe-6df3089db53e"
      },
      "source": [
        "idade.head()"
      ],
      "execution_count": null,
      "outputs": [
        {
          "output_type": "execute_result",
          "data": {
            "text/plain": [
              "40.0    178604\n",
              "39.0    177633\n",
              "43.0    173895\n",
              "38.0    172301\n",
              "41.0    171916\n",
              "Name: paciente_idade, dtype: int64"
            ]
          },
          "metadata": {},
          "execution_count": 41
        }
      ]
    },
    {
      "cell_type": "code",
      "metadata": {
        "colab": {
          "base_uri": "https://localhost:8080/",
          "height": 283
        },
        "id": "hyGc_8YqvNYy",
        "outputId": "6a6b50c7-ad69-4861-8bee-64689e816a44"
      },
      "source": [
        "idade.plot(kind='hist', color = ['blue'])"
      ],
      "execution_count": null,
      "outputs": [
        {
          "output_type": "execute_result",
          "data": {
            "text/plain": [
              "<matplotlib.axes._subplots.AxesSubplot at 0x7fe69cdb5410>"
            ]
          },
          "metadata": {},
          "execution_count": 42
        },
        {
          "output_type": "display_data",
          "data": {
            "image/png": "[encoded data removed]",
            "text/plain": [
              "<Figure size 432x288 with 1 Axes>"
            ]
          },
          "metadata": {
            "needs_background": "light"
          }
        }
      ]
    },
    {
      "cell_type": "markdown",
      "metadata": {
        "id": "5iktDvwADxZm"
      },
      "source": [
        ""
      ]
    },
    {
      "cell_type": "markdown",
      "metadata": {
        "id": "IRfpdvS8_Je3"
      },
      "source": [
        "- na sequência, importamos dados no formato mapa do estado de pernambuco, com as cidades trabalhadas e sua divisão por região;"
      ]
    },
    {
      "cell_type": "code",
      "metadata": {
        "id": "CDpGr7aSg3Uj"
      },
      "source": [
        "mapape = gpd.read_file('/content/drive/MyDrive/Covid19 dados tcc/tcc/PE_Mun97_region.shx')"
      ],
      "execution_count": null,
      "outputs": []
    },
    {
      "cell_type": "code",
      "metadata": {
        "colab": {
          "base_uri": "https://localhost:8080/",
          "height": 574
        },
        "id": "ka9BmMPkx3M4",
        "outputId": "f6a8b1fe-06ce-480e-bbc4-046433e2070f"
      },
      "source": [
        "mapape.head()"
      ],
      "execution_count": null,
      "outputs": [
        {
          "output_type": "execute_result",
          "data": {
            "text/html": [
              "<div>\n",
              "<style scoped>\n",
              "    .dataframe tbody tr th:only-of-type {\n",
              "        vertical-align: middle;\n",
              "    }\n",
              "\n",
              "    .dataframe tbody tr th {\n",
              "        vertical-align: top;\n",
              "    }\n",
              "\n",
              "    .dataframe thead th {\n",
              "        text-align: right;\n",
              "    }\n",
              "</style>\n",
              "<table border=\"1\" class=\"dataframe\">\n",
              "  <thead>\n",
              "    <tr style=\"text-align: right;\">\n",
              "      <th></th>\n",
              "      <th>CODMUN6</th>\n",
              "      <th>MUNIC_PIO</th>\n",
              "      <th>SEM_ACENTO</th>\n",
              "      <th>MUNIC_PI0</th>\n",
              "      <th>UF</th>\n",
              "      <th>UF_IBGE</th>\n",
              "      <th>REGI_O</th>\n",
              "      <th>MESO_IBGE</th>\n",
              "      <th>MESO_IBG0</th>\n",
              "      <th>MICRO_IBGE</th>\n",
              "      <th>MICRO_IB0</th>\n",
              "      <th>MESO_IBG1</th>\n",
              "      <th>MICRO_IB1</th>\n",
              "      <th>AREA_97</th>\n",
              "      <th>SEDE</th>\n",
              "      <th>SEDE0</th>\n",
              "      <th>N91</th>\n",
              "      <th>N96</th>\n",
              "      <th>CODCOMP</th>\n",
              "      <th>geometry</th>\n",
              "    </tr>\n",
              "  </thead>\n",
              "  <tbody>\n",
              "    <tr>\n",
              "      <th>0</th>\n",
              "      <td>260020</td>\n",
              "      <td>AFRÂNIO</td>\n",
              "      <td>AFRANIO</td>\n",
              "      <td>2600203</td>\n",
              "      <td>PE</td>\n",
              "      <td>26</td>\n",
              "      <td>NE</td>\n",
              "      <td>SAO FRANCISCO PERNAMBUCANO</td>\n",
              "      <td>02</td>\n",
              "      <td>PETROLINA</td>\n",
              "      <td>005</td>\n",
              "      <td>2602</td>\n",
              "      <td>260205</td>\n",
              "      <td>1482.423</td>\n",
              "      <td>-41.005</td>\n",
              "      <td>-8.515</td>\n",
              "      <td>13544.0</td>\n",
              "      <td>13886.0</td>\n",
              "      <td>260200500203</td>\n",
              "      <td>POLYGON ((-41.35756 -8.70651, -41.34930 -8.707...</td>\n",
              "    </tr>\n",
              "    <tr>\n",
              "      <th>1</th>\n",
              "      <td>261110</td>\n",
              "      <td>PETROLINA</td>\n",
              "      <td>PETROLINA</td>\n",
              "      <td>2611101</td>\n",
              "      <td>PE</td>\n",
              "      <td>26</td>\n",
              "      <td>NE</td>\n",
              "      <td>SAO FRANCISCO PERNAMBUCANO</td>\n",
              "      <td>02</td>\n",
              "      <td>PETROLINA</td>\n",
              "      <td>005</td>\n",
              "      <td>2602</td>\n",
              "      <td>260205</td>\n",
              "      <td>4737.130</td>\n",
              "      <td>-40.508</td>\n",
              "      <td>-9.393</td>\n",
              "      <td>0.0</td>\n",
              "      <td>191238.0</td>\n",
              "      <td>260200511101</td>\n",
              "      <td>POLYGON ((-40.96774 -8.82765, -40.96902 -8.823...</td>\n",
              "    </tr>\n",
              "    <tr>\n",
              "      <th>2</th>\n",
              "      <td>260515</td>\n",
              "      <td>DORMENTES</td>\n",
              "      <td>DORMENTES</td>\n",
              "      <td>2605152</td>\n",
              "      <td>PE</td>\n",
              "      <td>26</td>\n",
              "      <td>NE</td>\n",
              "      <td>SAO FRANCISCO PERNAMBUCANO</td>\n",
              "      <td>02</td>\n",
              "      <td>PETROLINA</td>\n",
              "      <td>005</td>\n",
              "      <td>2602</td>\n",
              "      <td>260205</td>\n",
              "      <td>1386.278</td>\n",
              "      <td>-40.771</td>\n",
              "      <td>-8.447</td>\n",
              "      <td>13862.0</td>\n",
              "      <td>13252.0</td>\n",
              "      <td>260200505152</td>\n",
              "      <td>POLYGON ((-40.86886 -8.36169, -40.86644 -8.362...</td>\n",
              "    </tr>\n",
              "    <tr>\n",
              "      <th>3</th>\n",
              "      <td>260110</td>\n",
              "      <td>ARARIPINA</td>\n",
              "      <td>ARARIPINA</td>\n",
              "      <td>2601102</td>\n",
              "      <td>PE</td>\n",
              "      <td>26</td>\n",
              "      <td>NE</td>\n",
              "      <td>SERTAO PERNAMBUCANO</td>\n",
              "      <td>01</td>\n",
              "      <td>ARARIPINA</td>\n",
              "      <td>001</td>\n",
              "      <td>2601</td>\n",
              "      <td>260101</td>\n",
              "      <td>1906.338</td>\n",
              "      <td>-40.498</td>\n",
              "      <td>-7.576</td>\n",
              "      <td>63453.0</td>\n",
              "      <td>63841.0</td>\n",
              "      <td>260100101102</td>\n",
              "      <td>POLYGON ((-40.71240 -7.47108, -40.70989 -7.465...</td>\n",
              "    </tr>\n",
              "    <tr>\n",
              "      <th>4</th>\n",
              "      <td>261245</td>\n",
              "      <td>SANTA CRUZ</td>\n",
              "      <td>SANTA CRUZ</td>\n",
              "      <td>2612455</td>\n",
              "      <td>PE</td>\n",
              "      <td>26</td>\n",
              "      <td>NE</td>\n",
              "      <td>SERTAO PERNAMBUCANO</td>\n",
              "      <td>01</td>\n",
              "      <td>ARARIPINA</td>\n",
              "      <td>001</td>\n",
              "      <td>2601</td>\n",
              "      <td>260101</td>\n",
              "      <td>1426.077</td>\n",
              "      <td>-40.336</td>\n",
              "      <td>-8.240</td>\n",
              "      <td>10590.0</td>\n",
              "      <td>10904.0</td>\n",
              "      <td>260100112455</td>\n",
              "      <td>POLYGON ((-40.55131 -8.28434, -40.55185 -8.281...</td>\n",
              "    </tr>\n",
              "  </tbody>\n",
              "</table>\n",
              "</div>"
            ],
            "text/plain": [
              "  CODMUN6  ...                                           geometry\n",
              "0  260020  ...  POLYGON ((-41.35756 -8.70651, -41.34930 -8.707...\n",
              "1  261110  ...  POLYGON ((-40.96774 -8.82765, -40.96902 -8.823...\n",
              "2  260515  ...  POLYGON ((-40.86886 -8.36169, -40.86644 -8.362...\n",
              "3  260110  ...  POLYGON ((-40.71240 -7.47108, -40.70989 -7.465...\n",
              "4  261245  ...  POLYGON ((-40.55131 -8.28434, -40.55185 -8.281...\n",
              "\n",
              "[5 rows x 20 columns]"
            ]
          },
          "metadata": {},
          "execution_count": 44
        }
      ]
    },
    {
      "cell_type": "code",
      "metadata": {
        "id": "6Ttywe6DaGI5"
      },
      "source": [
        "colunasMapaPE = ['CODMUN6', 'MUNIC_PIO', 'UF','MESO_IBGE', 'MICRO_IBGE', 'AREA_97', 'SEDE', 'SEDE0','geometry']\n",
        "mapape = mapape[colunasMapaPE]"
      ],
      "execution_count": null,
      "outputs": []
    },
    {
      "cell_type": "code",
      "metadata": {
        "colab": {
          "base_uri": "https://localhost:8080/"
        },
        "id": "3DAqga9xy316",
        "outputId": "08d5248e-1206-4112-af71-b04a9d4e3084"
      },
      "source": [
        "mapape.info()"
      ],
      "execution_count": null,
      "outputs": [
        {
          "output_type": "stream",
          "name": "stdout",
          "text": [
            "<class 'geopandas.geodataframe.GeoDataFrame'>\n",
            "RangeIndex: 185 entries, 0 to 184\n",
            "Data columns (total 9 columns):\n",
            " #   Column      Non-Null Count  Dtype   \n",
            "---  ------      --------------  -----   \n",
            " 0   CODMUN6     185 non-null    object  \n",
            " 1   MUNIC_PIO   185 non-null    object  \n",
            " 2   UF          185 non-null    object  \n",
            " 3   MESO_IBGE   185 non-null    object  \n",
            " 4   MICRO_IBGE  185 non-null    object  \n",
            " 5   AREA_97     185 non-null    float64 \n",
            " 6   SEDE        185 non-null    float64 \n",
            " 7   SEDE0       185 non-null    float64 \n",
            " 8   geometry    185 non-null    geometry\n",
            "dtypes: float64(3), geometry(1), object(5)\n",
            "memory usage: 13.1+ KB\n"
          ]
        }
      ]
    },
    {
      "cell_type": "code",
      "metadata": {
        "id": "mgm5ELLCzU5q"
      },
      "source": [
        "mapape.CODMUN6 = mapape.CODMUN6.astype('int64')"
      ],
      "execution_count": null,
      "outputs": []
    },
    {
      "cell_type": "code",
      "metadata": {
        "colab": {
          "base_uri": "https://localhost:8080/",
          "height": 206
        },
        "id": "NAxtSp0D33IL",
        "outputId": "4c156a29-b63c-4246-c0c6-624ec11472a5"
      },
      "source": [
        "mapape.head()"
      ],
      "execution_count": null,
      "outputs": [
        {
          "output_type": "execute_result",
          "data": {
            "text/html": [
              "<div>\n",
              "<style scoped>\n",
              "    .dataframe tbody tr th:only-of-type {\n",
              "        vertical-align: middle;\n",
              "    }\n",
              "\n",
              "    .dataframe tbody tr th {\n",
              "        vertical-align: top;\n",
              "    }\n",
              "\n",
              "    .dataframe thead th {\n",
              "        text-align: right;\n",
              "    }\n",
              "</style>\n",
              "<table border=\"1\" class=\"dataframe\">\n",
              "  <thead>\n",
              "    <tr style=\"text-align: right;\">\n",
              "      <th></th>\n",
              "      <th>CODMUN6</th>\n",
              "      <th>MUNIC_PIO</th>\n",
              "      <th>UF</th>\n",
              "      <th>MESO_IBGE</th>\n",
              "      <th>MICRO_IBGE</th>\n",
              "      <th>AREA_97</th>\n",
              "      <th>SEDE</th>\n",
              "      <th>SEDE0</th>\n",
              "      <th>geometry</th>\n",
              "    </tr>\n",
              "  </thead>\n",
              "  <tbody>\n",
              "    <tr>\n",
              "      <th>0</th>\n",
              "      <td>260020</td>\n",
              "      <td>AFRÂNIO</td>\n",
              "      <td>PE</td>\n",
              "      <td>SAO FRANCISCO PERNAMBUCANO</td>\n",
              "      <td>PETROLINA</td>\n",
              "      <td>1482.423</td>\n",
              "      <td>-41.005</td>\n",
              "      <td>-8.515</td>\n",
              "      <td>POLYGON ((-41.35756 -8.70651, -41.34930 -8.707...</td>\n",
              "    </tr>\n",
              "    <tr>\n",
              "      <th>1</th>\n",
              "      <td>261110</td>\n",
              "      <td>PETROLINA</td>\n",
              "      <td>PE</td>\n",
              "      <td>SAO FRANCISCO PERNAMBUCANO</td>\n",
              "      <td>PETROLINA</td>\n",
              "      <td>4737.130</td>\n",
              "      <td>-40.508</td>\n",
              "      <td>-9.393</td>\n",
              "      <td>POLYGON ((-40.96774 -8.82765, -40.96902 -8.823...</td>\n",
              "    </tr>\n",
              "    <tr>\n",
              "      <th>2</th>\n",
              "      <td>260515</td>\n",
              "      <td>DORMENTES</td>\n",
              "      <td>PE</td>\n",
              "      <td>SAO FRANCISCO PERNAMBUCANO</td>\n",
              "      <td>PETROLINA</td>\n",
              "      <td>1386.278</td>\n",
              "      <td>-40.771</td>\n",
              "      <td>-8.447</td>\n",
              "      <td>POLYGON ((-40.86886 -8.36169, -40.86644 -8.362...</td>\n",
              "    </tr>\n",
              "    <tr>\n",
              "      <th>3</th>\n",
              "      <td>260110</td>\n",
              "      <td>ARARIPINA</td>\n",
              "      <td>PE</td>\n",
              "      <td>SERTAO PERNAMBUCANO</td>\n",
              "      <td>ARARIPINA</td>\n",
              "      <td>1906.338</td>\n",
              "      <td>-40.498</td>\n",
              "      <td>-7.576</td>\n",
              "      <td>POLYGON ((-40.71240 -7.47108, -40.70989 -7.465...</td>\n",
              "    </tr>\n",
              "    <tr>\n",
              "      <th>4</th>\n",
              "      <td>261245</td>\n",
              "      <td>SANTA CRUZ</td>\n",
              "      <td>PE</td>\n",
              "      <td>SERTAO PERNAMBUCANO</td>\n",
              "      <td>ARARIPINA</td>\n",
              "      <td>1426.077</td>\n",
              "      <td>-40.336</td>\n",
              "      <td>-8.240</td>\n",
              "      <td>POLYGON ((-40.55131 -8.28434, -40.55185 -8.281...</td>\n",
              "    </tr>\n",
              "  </tbody>\n",
              "</table>\n",
              "</div>"
            ],
            "text/plain": [
              "   CODMUN6  ...                                           geometry\n",
              "0   260020  ...  POLYGON ((-41.35756 -8.70651, -41.34930 -8.707...\n",
              "1   261110  ...  POLYGON ((-40.96774 -8.82765, -40.96902 -8.823...\n",
              "2   260515  ...  POLYGON ((-40.86886 -8.36169, -40.86644 -8.362...\n",
              "3   260110  ...  POLYGON ((-40.71240 -7.47108, -40.70989 -7.465...\n",
              "4   261245  ...  POLYGON ((-40.55131 -8.28434, -40.55185 -8.281...\n",
              "\n",
              "[5 rows x 9 columns]"
            ]
          },
          "metadata": {},
          "execution_count": 48
        }
      ]
    },
    {
      "cell_type": "code",
      "metadata": {
        "colab": {
          "base_uri": "https://localhost:8080/",
          "height": 279
        },
        "id": "EiyvcSe4hE8o",
        "outputId": "7d99256b-2741-45c1-8500-65ca47e0dc36"
      },
      "source": [
        "mapape.plot()"
      ],
      "execution_count": null,
      "outputs": [
        {
          "output_type": "execute_result",
          "data": {
            "text/plain": [
              "<matplotlib.axes._subplots.AxesSubplot at 0x7fe69ce045d0>"
            ]
          },
          "metadata": {},
          "execution_count": 49
        },
        {
          "output_type": "display_data",
          "data": {
            "image/png": "[encoded data removed]",
            "text/plain": [
              "<Figure size 432x288 with 1 Axes>"
            ]
          },
          "metadata": {
            "needs_background": "light"
          }
        }
      ]
    },
    {
      "cell_type": "markdown",
      "metadata": {
        "id": "1xiwwcPD3-zX"
      },
      "source": [
        "- dessa forma, pretendemos trabalhar a visualização dos dados de vacinação por região e respectivo IDH das regiões vacinadas."
      ]
    },
    {
      "cell_type": "markdown",
      "metadata": {
        "id": "LmJXp6WE4Jid"
      },
      "source": [
        ""
      ]
    }
  ]
}