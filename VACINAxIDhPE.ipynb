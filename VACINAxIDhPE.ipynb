{
  "nbformat": 4,
  "nbformat_minor": 0,
  "metadata": {
    "colab": {
      "name": "VACINAxIDhPE.ipynb",
      "provenance": [],
      "mount_file_id": "13K4FEwsu_Od7xiuvfJA604QGN4bVPS8K",
      "authorship_tag": "ABX9TyMHt+ddNUVg0ed/ehm7WpO5",
      "include_colab_link": true
    },
    "kernelspec": {
      "name": "python3",
      "display_name": "Python 3"
    },
    "language_info": {
      "name": "python"
    }
  },
  "cells": [
    {
      "cell_type": "markdown",
      "metadata": {
        "id": "view-in-github",
        "colab_type": "text"
      },
      "source": [
        "<a href=\"https://colab.research.google.com/github/CamilaSDantas/vacina_covid19_pernambuco/blob/main/VACINAxIDhPE.ipynb\" target=\"_parent\"><img src=\"https://colab.research.google.com/assets/colab-badge.svg\" alt=\"Open In Colab\"/></a>"
      ]
    },
    {
      "cell_type": "code",
      "metadata": {
        "colab": {
          "base_uri": "https://localhost:8080/"
        },
        "id": "EYqQTAiDX8By",
        "outputId": "e3be286b-6a82-48e0-8e62-832b86195630"
      },
      "source": [
        "!pip install geopandas"
      ],
      "execution_count": 2,
      "outputs": [
        {
          "output_type": "stream",
          "name": "stdout",
          "text": [
            "Requirement already satisfied: geopandas in /usr/local/lib/python3.7/dist-packages (0.10.2)\n",
            "Requirement already satisfied: shapely>=1.6 in /usr/local/lib/python3.7/dist-packages (from geopandas) (1.7.1)\n",
            "Requirement already satisfied: fiona>=1.8 in /usr/local/lib/python3.7/dist-packages (from geopandas) (1.8.20)\n",
            "Requirement already satisfied: pandas>=0.25.0 in /usr/local/lib/python3.7/dist-packages (from geopandas) (1.1.5)\n",
            "Requirement already satisfied: pyproj>=2.2.0 in /usr/local/lib/python3.7/dist-packages (from geopandas) (3.2.1)\n",
            "Requirement already satisfied: certifi in /usr/local/lib/python3.7/dist-packages (from fiona>=1.8->geopandas) (2021.5.30)\n",
            "Requirement already satisfied: click-plugins>=1.0 in /usr/local/lib/python3.7/dist-packages (from fiona>=1.8->geopandas) (1.1.1)\n",
            "Requirement already satisfied: click>=4.0 in /usr/local/lib/python3.7/dist-packages (from fiona>=1.8->geopandas) (7.1.2)\n",
            "Requirement already satisfied: cligj>=0.5 in /usr/local/lib/python3.7/dist-packages (from fiona>=1.8->geopandas) (0.7.2)\n",
            "Requirement already satisfied: setuptools in /usr/local/lib/python3.7/dist-packages (from fiona>=1.8->geopandas) (57.4.0)\n",
            "Requirement already satisfied: six>=1.7 in /usr/local/lib/python3.7/dist-packages (from fiona>=1.8->geopandas) (1.15.0)\n",
            "Requirement already satisfied: munch in /usr/local/lib/python3.7/dist-packages (from fiona>=1.8->geopandas) (2.5.0)\n",
            "Requirement already satisfied: attrs>=17 in /usr/local/lib/python3.7/dist-packages (from fiona>=1.8->geopandas) (21.2.0)\n",
            "Requirement already satisfied: python-dateutil>=2.7.3 in /usr/local/lib/python3.7/dist-packages (from pandas>=0.25.0->geopandas) (2.8.2)\n",
            "Requirement already satisfied: pytz>=2017.2 in /usr/local/lib/python3.7/dist-packages (from pandas>=0.25.0->geopandas) (2018.9)\n",
            "Requirement already satisfied: numpy>=1.15.4 in /usr/local/lib/python3.7/dist-packages (from pandas>=0.25.0->geopandas) (1.19.5)\n"
          ]
        }
      ]
    },
    {
      "cell_type": "code",
      "metadata": {
        "id": "ATSk6_yVYAbb"
      },
      "source": [
        "import pandas as pd\n",
        "import geopandas as gpd\n",
        "import numpy as np\n",
        "import matplotlib.pyplot as plt\n"
      ],
      "execution_count": 3,
      "outputs": []
    },
    {
      "cell_type": "code",
      "metadata": {
        "id": "Y5ZzecWDYE65"
      },
      "source": [
        "municipios = pd.read_csv('/content/drive/MyDrive/Covid19 dados tcc/tcc/coordmunicipios.csv')\n",
        "idhm = pd.read_csv('/content/drive/MyDrive/Covid19 dados tcc/tcc/idhpe.csv')\n",
        "covid = pd.read_csv('/content/drive/MyDrive/Covid19 dados tcc/PEdadosVACINA.csv',sep=';', decimal=',')"
      ],
      "execution_count": 4,
      "outputs": []
    },
    {
      "cell_type": "code",
      "metadata": {
        "colab": {
          "base_uri": "https://localhost:8080/",
          "height": 206
        },
        "id": "OKaJ4OOOYgTK",
        "outputId": "e66402ed-6209-47e4-f135-b3ba2a8d9e38"
      },
      "source": [
        "municipios.head()"
      ],
      "execution_count": 5,
      "outputs": [
        {
          "output_type": "execute_result",
          "data": {
            "text/html": [
              "<div>\n",
              "<style scoped>\n",
              "    .dataframe tbody tr th:only-of-type {\n",
              "        vertical-align: middle;\n",
              "    }\n",
              "\n",
              "    .dataframe tbody tr th {\n",
              "        vertical-align: top;\n",
              "    }\n",
              "\n",
              "    .dataframe thead th {\n",
              "        text-align: right;\n",
              "    }\n",
              "</style>\n",
              "<table border=\"1\" class=\"dataframe\">\n",
              "  <thead>\n",
              "    <tr style=\"text-align: right;\">\n",
              "      <th></th>\n",
              "      <th>Codmun</th>\n",
              "      <th>Município</th>\n",
              "      <th>latitude</th>\n",
              "      <th>longitude</th>\n",
              "    </tr>\n",
              "  </thead>\n",
              "  <tbody>\n",
              "    <tr>\n",
              "      <th>0</th>\n",
              "      <td>260005</td>\n",
              "      <td>ABREU E LIMA</td>\n",
              "      <td>-7.90072</td>\n",
              "      <td>-34.8984</td>\n",
              "    </tr>\n",
              "    <tr>\n",
              "      <th>1</th>\n",
              "      <td>260010</td>\n",
              "      <td>AFOGADOS DA INGAZEIRA</td>\n",
              "      <td>-7.74312</td>\n",
              "      <td>-37631.0000</td>\n",
              "    </tr>\n",
              "    <tr>\n",
              "      <th>2</th>\n",
              "      <td>260020</td>\n",
              "      <td>AFRÂNIO</td>\n",
              "      <td>-8.51136</td>\n",
              "      <td>-41.0095</td>\n",
              "    </tr>\n",
              "    <tr>\n",
              "      <th>3</th>\n",
              "      <td>260030</td>\n",
              "      <td>AGRESTINA</td>\n",
              "      <td>-8.45966</td>\n",
              "      <td>-35.9447</td>\n",
              "    </tr>\n",
              "    <tr>\n",
              "      <th>4</th>\n",
              "      <td>260040</td>\n",
              "      <td>ÁGUA PRETA</td>\n",
              "      <td>-8.70609</td>\n",
              "      <td>-35.5263</td>\n",
              "    </tr>\n",
              "  </tbody>\n",
              "</table>\n",
              "</div>"
            ],
            "text/plain": [
              "   Codmun              Município  latitude   longitude\n",
              "0  260005           ABREU E LIMA  -7.90072    -34.8984\n",
              "1  260010  AFOGADOS DA INGAZEIRA  -7.74312 -37631.0000\n",
              "2  260020                AFRÂNIO  -8.51136    -41.0095\n",
              "3  260030              AGRESTINA  -8.45966    -35.9447\n",
              "4  260040             ÁGUA PRETA  -8.70609    -35.5263"
            ]
          },
          "metadata": {},
          "execution_count": 5
        }
      ]
    },
    {
      "cell_type": "code",
      "metadata": {
        "colab": {
          "base_uri": "https://localhost:8080/",
          "height": 206
        },
        "id": "saQTWmyfZVnZ",
        "outputId": "24d03e05-9eae-491f-b16d-4eb1f5d953be"
      },
      "source": [
        "idhm.head()"
      ],
      "execution_count": 6,
      "outputs": [
        {
          "output_type": "execute_result",
          "data": {
            "text/html": [
              "<div>\n",
              "<style scoped>\n",
              "    .dataframe tbody tr th:only-of-type {\n",
              "        vertical-align: middle;\n",
              "    }\n",
              "\n",
              "    .dataframe tbody tr th {\n",
              "        vertical-align: top;\n",
              "    }\n",
              "\n",
              "    .dataframe thead th {\n",
              "        text-align: right;\n",
              "    }\n",
              "</style>\n",
              "<table border=\"1\" class=\"dataframe\">\n",
              "  <thead>\n",
              "    <tr style=\"text-align: right;\">\n",
              "      <th></th>\n",
              "      <th>Codmun6</th>\n",
              "      <th>Município</th>\n",
              "      <th>IDMH</th>\n",
              "      <th>IDHM_E</th>\n",
              "      <th>IDHM_L</th>\n",
              "      <th>IDHM_R</th>\n",
              "    </tr>\n",
              "  </thead>\n",
              "  <tbody>\n",
              "    <tr>\n",
              "      <th>0</th>\n",
              "      <td>260005</td>\n",
              "      <td>ABREU E LIMA</td>\n",
              "      <td>679</td>\n",
              "      <td>632</td>\n",
              "      <td>791</td>\n",
              "      <td>625</td>\n",
              "    </tr>\n",
              "    <tr>\n",
              "      <th>1</th>\n",
              "      <td>260010</td>\n",
              "      <td>AFOGADOS DA INGAZEIRA</td>\n",
              "      <td>657</td>\n",
              "      <td>565</td>\n",
              "      <td>807</td>\n",
              "      <td>623</td>\n",
              "    </tr>\n",
              "    <tr>\n",
              "      <th>2</th>\n",
              "      <td>260020</td>\n",
              "      <td>AFRÂNIO</td>\n",
              "      <td>588</td>\n",
              "      <td>493</td>\n",
              "      <td>761</td>\n",
              "      <td>542</td>\n",
              "    </tr>\n",
              "    <tr>\n",
              "      <th>3</th>\n",
              "      <td>260030</td>\n",
              "      <td>AGRESTINA</td>\n",
              "      <td>592</td>\n",
              "      <td>470</td>\n",
              "      <td>760</td>\n",
              "      <td>581</td>\n",
              "    </tr>\n",
              "    <tr>\n",
              "      <th>4</th>\n",
              "      <td>260040</td>\n",
              "      <td>ÁGUA PRETA</td>\n",
              "      <td>553</td>\n",
              "      <td>432</td>\n",
              "      <td>761</td>\n",
              "      <td>514</td>\n",
              "    </tr>\n",
              "  </tbody>\n",
              "</table>\n",
              "</div>"
            ],
            "text/plain": [
              "   Codmun6              Município  IDMH  IDHM_E  IDHM_L  IDHM_R\n",
              "0   260005           ABREU E LIMA   679     632     791     625\n",
              "1   260010  AFOGADOS DA INGAZEIRA   657     565     807     623\n",
              "2   260020                AFRÂNIO   588     493     761     542\n",
              "3   260030              AGRESTINA   592     470     760     581\n",
              "4   260040             ÁGUA PRETA   553     432     761     514"
            ]
          },
          "metadata": {},
          "execution_count": 6
        }
      ]
    },
    {
      "cell_type": "code",
      "metadata": {
        "colab": {
          "base_uri": "https://localhost:8080/"
        },
        "id": "S9wnz6CmZYdK",
        "outputId": "2fec5376-6659-45bf-8f42-6a1b479a94db"
      },
      "source": [
        "idhm.info()"
      ],
      "execution_count": 7,
      "outputs": [
        {
          "output_type": "stream",
          "name": "stdout",
          "text": [
            "<class 'pandas.core.frame.DataFrame'>\n",
            "RangeIndex: 185 entries, 0 to 184\n",
            "Data columns (total 6 columns):\n",
            " #   Column     Non-Null Count  Dtype \n",
            "---  ------     --------------  ----- \n",
            " 0   Codmun6    185 non-null    int64 \n",
            " 1   Município  185 non-null    object\n",
            " 2   IDMH       185 non-null    int64 \n",
            " 3   IDHM_E     185 non-null    int64 \n",
            " 4   IDHM_L     185 non-null    int64 \n",
            " 5   IDHM_R     185 non-null    int64 \n",
            "dtypes: int64(5), object(1)\n",
            "memory usage: 8.8+ KB\n"
          ]
        }
      ]
    },
    {
      "cell_type": "code",
      "metadata": {
        "colab": {
          "base_uri": "https://localhost:8080/",
          "height": 400
        },
        "id": "_6AoIUUKZazs",
        "outputId": "2d2c4567-b407-41da-9305-854c2575064d"
      },
      "source": [
        "covid.head()"
      ],
      "execution_count": 8,
      "outputs": [
        {
          "output_type": "execute_result",
          "data": {
            "text/html": [
              "<div>\n",
              "<style scoped>\n",
              "    .dataframe tbody tr th:only-of-type {\n",
              "        vertical-align: middle;\n",
              "    }\n",
              "\n",
              "    .dataframe tbody tr th {\n",
              "        vertical-align: top;\n",
              "    }\n",
              "\n",
              "    .dataframe thead th {\n",
              "        text-align: right;\n",
              "    }\n",
              "</style>\n",
              "<table border=\"1\" class=\"dataframe\">\n",
              "  <thead>\n",
              "    <tr style=\"text-align: right;\">\n",
              "      <th></th>\n",
              "      <th>document_id</th>\n",
              "      <th>paciente_id</th>\n",
              "      <th>paciente_idade</th>\n",
              "      <th>paciente_datanascimento</th>\n",
              "      <th>paciente_enumsexobiologico</th>\n",
              "      <th>paciente_racacor_codigo</th>\n",
              "      <th>paciente_racacor_valor</th>\n",
              "      <th>paciente_endereco_coibgemunicipio</th>\n",
              "      <th>paciente_endereco_copais</th>\n",
              "      <th>paciente_endereco_nmmunicipio</th>\n",
              "      <th>paciente_endereco_nmpais</th>\n",
              "      <th>paciente_endereco_uf</th>\n",
              "      <th>paciente_endereco_cep</th>\n",
              "      <th>paciente_nacionalidade_enumnacionalidade</th>\n",
              "      <th>estabelecimento_valor</th>\n",
              "      <th>estabelecimento_razaosocial</th>\n",
              "      <th>estalecimento_nofantasia</th>\n",
              "      <th>estabelecimento_municipio_codigo</th>\n",
              "      <th>estabelecimento_municipio_nome</th>\n",
              "      <th>estabelecimento_uf</th>\n",
              "      <th>vacina_grupoatendimento_codigo</th>\n",
              "      <th>vacina_grupoatendimento_nome</th>\n",
              "      <th>vacina_categoria_codigo</th>\n",
              "      <th>vacina_categoria_nome</th>\n",
              "      <th>vacina_lote</th>\n",
              "      <th>vacina_fabricante_nome</th>\n",
              "      <th>vacina_fabricante_referencia</th>\n",
              "      <th>vacina_dataaplicacao</th>\n",
              "      <th>vacina_descricao_dose</th>\n",
              "      <th>vacina_codigo</th>\n",
              "      <th>vacina_nome</th>\n",
              "      <th>sistema_origem</th>\n",
              "      <th>data_importacao_rnds</th>\n",
              "      <th>id_sistema_origem</th>\n",
              "    </tr>\n",
              "  </thead>\n",
              "  <tbody>\n",
              "    <tr>\n",
              "      <th>0</th>\n",
              "      <td>f2a49507-1215-412c-af15-bc198ec9f941-i0b0</td>\n",
              "      <td>31887a35f9788fc6f4b67634beead5e735baf76a4f73f3...</td>\n",
              "      <td>36.0</td>\n",
              "      <td>1985-02-16</td>\n",
              "      <td>M</td>\n",
              "      <td>3.0</td>\n",
              "      <td>PARDA</td>\n",
              "      <td>260530.0</td>\n",
              "      <td>10.0</td>\n",
              "      <td>EXU</td>\n",
              "      <td>BRASIL</td>\n",
              "      <td>PE</td>\n",
              "      <td>56230.0</td>\n",
              "      <td>B</td>\n",
              "      <td>2435799</td>\n",
              "      <td>MUNICIPIO DE EXU</td>\n",
              "      <td>UNIDADE DE SAUDE DA FAMILIA DO CENTRO I</td>\n",
              "      <td>260530</td>\n",
              "      <td>EXU</td>\n",
              "      <td>PE</td>\n",
              "      <td>201</td>\n",
              "      <td>Pessoas de 60 a 64 anos</td>\n",
              "      <td>2.0</td>\n",
              "      <td>Faixa Etária</td>\n",
              "      <td>FD7209</td>\n",
              "      <td>MINISTERIO DA SAUDE</td>\n",
              "      <td>Organization/00394544000851</td>\n",
              "      <td>2021-08-10</td>\n",
              "      <td>1ª Dose</td>\n",
              "      <td>87</td>\n",
              "      <td>Vacina covid-19 - BNT162b2 - BioNTech/Fosun Ph...</td>\n",
              "      <td>Novo PNI</td>\n",
              "      <td>2021-08-11T18:45:46.000Z</td>\n",
              "      <td>16341</td>\n",
              "    </tr>\n",
              "    <tr>\n",
              "      <th>1</th>\n",
              "      <td>fec72d41-b707-437c-9286-320e8d9fec12-i0b0</td>\n",
              "      <td>758a450a6eca97d274481584b30c456947a8a2a8e837de...</td>\n",
              "      <td>72.0</td>\n",
              "      <td>1948-08-15</td>\n",
              "      <td>F</td>\n",
              "      <td>3.0</td>\n",
              "      <td>PARDA</td>\n",
              "      <td>260845.0</td>\n",
              "      <td>10.0</td>\n",
              "      <td>LAGOA DO CARRO</td>\n",
              "      <td>BRASIL</td>\n",
              "      <td>PE</td>\n",
              "      <td>55820.0</td>\n",
              "      <td>B</td>\n",
              "      <td>2433001</td>\n",
              "      <td>PREFEITURA MUNICIPAL DE LAGOA DO CARRO</td>\n",
              "      <td>POLICLINICA SEVERINO NASCIMENTO CRUZ</td>\n",
              "      <td>260845</td>\n",
              "      <td>LAGOA DO CARRO</td>\n",
              "      <td>PE</td>\n",
              "      <td>203</td>\n",
              "      <td>Pessoas de 70 a 74 anos</td>\n",
              "      <td>2.0</td>\n",
              "      <td>Faixa Etária</td>\n",
              "      <td>210114</td>\n",
              "      <td>FUNDACAO BUTANTAN</td>\n",
              "      <td>Organization/61189445000156</td>\n",
              "      <td>2021-04-23</td>\n",
              "      <td>2ª Dose</td>\n",
              "      <td>86</td>\n",
              "      <td>Covid-19-Coronavac-Sinovac/Butantan</td>\n",
              "      <td>Novo PNI</td>\n",
              "      <td>2021-04-27T14:56:27.000Z</td>\n",
              "      <td>16341</td>\n",
              "    </tr>\n",
              "    <tr>\n",
              "      <th>2</th>\n",
              "      <td>0f28f593-d6c9-4be0-8ec3-4fd716cbe613-i0b0</td>\n",
              "      <td>f76aadad27f1aab693b105314ee28e7682941147f786ac...</td>\n",
              "      <td>59.0</td>\n",
              "      <td>1961-10-10</td>\n",
              "      <td>M</td>\n",
              "      <td>99.0</td>\n",
              "      <td>SEM INFORMACAO</td>\n",
              "      <td>260290.0</td>\n",
              "      <td>10.0</td>\n",
              "      <td>CABO DE SANTO AGOSTINHO</td>\n",
              "      <td>BRASIL</td>\n",
              "      <td>PE</td>\n",
              "      <td>NaN</td>\n",
              "      <td>B</td>\n",
              "      <td>20362</td>\n",
              "      <td>PREFEITURA MUNICIPAL DO CABO DE SANTO AGOSTINHO</td>\n",
              "      <td>USF SACRAMENTO</td>\n",
              "      <td>260290</td>\n",
              "      <td>CABO DE SANTO AGOSTINHO</td>\n",
              "      <td>PE</td>\n",
              "      <td>201</td>\n",
              "      <td>Pessoas de 18 a 64 anos</td>\n",
              "      <td>2.0</td>\n",
              "      <td>Faixa Etária</td>\n",
              "      <td>ABW4735</td>\n",
              "      <td>MINISTERIO DA SAUDE</td>\n",
              "      <td>Organization/00394544000851</td>\n",
              "      <td>2021-06-03</td>\n",
              "      <td>1ª Dose</td>\n",
              "      <td>89</td>\n",
              "      <td>Covid-19-AstraZeneca</td>\n",
              "      <td>Novo PNI</td>\n",
              "      <td>2021-06-07T17:45:57.000Z</td>\n",
              "      <td>16341</td>\n",
              "    </tr>\n",
              "    <tr>\n",
              "      <th>3</th>\n",
              "      <td>0bc830d8-f280-43d2-b777-3b339d3a2c11-i0b0</td>\n",
              "      <td>b152bda3e59de654003c5c59fab10eced492c536a1412c...</td>\n",
              "      <td>71.0</td>\n",
              "      <td>1949-09-18</td>\n",
              "      <td>M</td>\n",
              "      <td>4.0</td>\n",
              "      <td>AMARELA</td>\n",
              "      <td>261640.0</td>\n",
              "      <td>10.0</td>\n",
              "      <td>VITORIA DE SANTO ANTAO</td>\n",
              "      <td>BRASIL</td>\n",
              "      <td>PE</td>\n",
              "      <td>55602.0</td>\n",
              "      <td>B</td>\n",
              "      <td>2638045</td>\n",
              "      <td>FUNDO MUNICIPAL DE SAUDE DE VITORIA DE SANTO A...</td>\n",
              "      <td>U S F ALTO JOSE LEAL</td>\n",
              "      <td>261640</td>\n",
              "      <td>VITORIA DE SANTO ANTAO</td>\n",
              "      <td>PE</td>\n",
              "      <td>203</td>\n",
              "      <td>Pessoas de 70 a 74 anos</td>\n",
              "      <td>2.0</td>\n",
              "      <td>Faixa Etária</td>\n",
              "      <td>210142</td>\n",
              "      <td>FUNDACAO BUTANTAN</td>\n",
              "      <td>Organization/61189445000156</td>\n",
              "      <td>2021-04-20</td>\n",
              "      <td>2ª Dose</td>\n",
              "      <td>86</td>\n",
              "      <td>Covid-19-Coronavac-Sinovac/Butantan</td>\n",
              "      <td>Novo PNI</td>\n",
              "      <td>2021-04-23T13:46:52.000Z</td>\n",
              "      <td>16341</td>\n",
              "    </tr>\n",
              "    <tr>\n",
              "      <th>4</th>\n",
              "      <td>2acd9afb-2191-4b92-918e-d9bd46078117-i0b0</td>\n",
              "      <td>2ee331cd395a0c0b098670832fa4fa6d3fb8752bd37a05...</td>\n",
              "      <td>27.0</td>\n",
              "      <td>1994-03-20</td>\n",
              "      <td>F</td>\n",
              "      <td>3.0</td>\n",
              "      <td>PARDA</td>\n",
              "      <td>261610.0</td>\n",
              "      <td>10.0</td>\n",
              "      <td>VERDEJANTE</td>\n",
              "      <td>BRASIL</td>\n",
              "      <td>PE</td>\n",
              "      <td>56120.0</td>\n",
              "      <td>B</td>\n",
              "      <td>2714736</td>\n",
              "      <td>PREFEITURA MUNICIPAL DE VERDEJANTE</td>\n",
              "      <td>UNIDADE DE SAUDE DA FAMILIA DE GROSSOS</td>\n",
              "      <td>261610</td>\n",
              "      <td>VERDEJANTE</td>\n",
              "      <td>PE</td>\n",
              "      <td>201</td>\n",
              "      <td>Pessoas de 18 a 64 anos</td>\n",
              "      <td>2.0</td>\n",
              "      <td>Faixa Etária</td>\n",
              "      <td>216VCD206Z</td>\n",
              "      <td>FUNDACAO OSWALDO CRUZ</td>\n",
              "      <td>Organization/33781055000135</td>\n",
              "      <td>2021-07-30</td>\n",
              "      <td>1ª Dose</td>\n",
              "      <td>85</td>\n",
              "      <td>Vacina Covid-19 - Covishield</td>\n",
              "      <td>Novo PNI</td>\n",
              "      <td>2021-08-06T13:45:44.000Z</td>\n",
              "      <td>16341</td>\n",
              "    </tr>\n",
              "  </tbody>\n",
              "</table>\n",
              "</div>"
            ],
            "text/plain": [
              "                                 document_id  ... id_sistema_origem\n",
              "0  f2a49507-1215-412c-af15-bc198ec9f941-i0b0  ...             16341\n",
              "1  fec72d41-b707-437c-9286-320e8d9fec12-i0b0  ...             16341\n",
              "2  0f28f593-d6c9-4be0-8ec3-4fd716cbe613-i0b0  ...             16341\n",
              "3  0bc830d8-f280-43d2-b777-3b339d3a2c11-i0b0  ...             16341\n",
              "4  2acd9afb-2191-4b92-918e-d9bd46078117-i0b0  ...             16341\n",
              "\n",
              "[5 rows x 34 columns]"
            ]
          },
          "metadata": {},
          "execution_count": 8
        }
      ]
    },
    {
      "cell_type": "code",
      "metadata": {
        "id": "5DLhJ169mj9T"
      },
      "source": [
        "colunas = ['paciente_idade', 'paciente_enumsexobiologico', 'paciente_racacor_valor','estabelecimento_municipio_codigo', 'paciente_endereco_nmmunicipio', 'vacina_grupoatendimento_nome', 'vacina_nome']\n",
        "covid = covid[colunas]\n"
      ],
      "execution_count": 9,
      "outputs": []
    },
    {
      "cell_type": "code",
      "metadata": {
        "colab": {
          "base_uri": "https://localhost:8080/",
          "height": 383
        },
        "id": "4ydnU6ADo_N1",
        "outputId": "0a3c1eb2-edb3-4ec6-f689-67da7fdfb1a4"
      },
      "source": [
        "covid.head()"
      ],
      "execution_count": 10,
      "outputs": [
        {
          "output_type": "execute_result",
          "data": {
            "text/html": [
              "<div>\n",
              "<style scoped>\n",
              "    .dataframe tbody tr th:only-of-type {\n",
              "        vertical-align: middle;\n",
              "    }\n",
              "\n",
              "    .dataframe tbody tr th {\n",
              "        vertical-align: top;\n",
              "    }\n",
              "\n",
              "    .dataframe thead th {\n",
              "        text-align: right;\n",
              "    }\n",
              "</style>\n",
              "<table border=\"1\" class=\"dataframe\">\n",
              "  <thead>\n",
              "    <tr style=\"text-align: right;\">\n",
              "      <th></th>\n",
              "      <th>paciente_idade</th>\n",
              "      <th>paciente_enumsexobiologico</th>\n",
              "      <th>paciente_racacor_valor</th>\n",
              "      <th>estabelecimento_municipio_codigo</th>\n",
              "      <th>paciente_endereco_nmmunicipio</th>\n",
              "      <th>vacina_grupoatendimento_nome</th>\n",
              "      <th>vacina_nome</th>\n",
              "    </tr>\n",
              "  </thead>\n",
              "  <tbody>\n",
              "    <tr>\n",
              "      <th>0</th>\n",
              "      <td>36.0</td>\n",
              "      <td>M</td>\n",
              "      <td>PARDA</td>\n",
              "      <td>260530</td>\n",
              "      <td>EXU</td>\n",
              "      <td>Pessoas de 60 a 64 anos</td>\n",
              "      <td>Vacina covid-19 - BNT162b2 - BioNTech/Fosun Ph...</td>\n",
              "    </tr>\n",
              "    <tr>\n",
              "      <th>1</th>\n",
              "      <td>72.0</td>\n",
              "      <td>F</td>\n",
              "      <td>PARDA</td>\n",
              "      <td>260845</td>\n",
              "      <td>LAGOA DO CARRO</td>\n",
              "      <td>Pessoas de 70 a 74 anos</td>\n",
              "      <td>Covid-19-Coronavac-Sinovac/Butantan</td>\n",
              "    </tr>\n",
              "    <tr>\n",
              "      <th>2</th>\n",
              "      <td>59.0</td>\n",
              "      <td>M</td>\n",
              "      <td>SEM INFORMACAO</td>\n",
              "      <td>260290</td>\n",
              "      <td>CABO DE SANTO AGOSTINHO</td>\n",
              "      <td>Pessoas de 18 a 64 anos</td>\n",
              "      <td>Covid-19-AstraZeneca</td>\n",
              "    </tr>\n",
              "    <tr>\n",
              "      <th>3</th>\n",
              "      <td>71.0</td>\n",
              "      <td>M</td>\n",
              "      <td>AMARELA</td>\n",
              "      <td>261640</td>\n",
              "      <td>VITORIA DE SANTO ANTAO</td>\n",
              "      <td>Pessoas de 70 a 74 anos</td>\n",
              "      <td>Covid-19-Coronavac-Sinovac/Butantan</td>\n",
              "    </tr>\n",
              "    <tr>\n",
              "      <th>4</th>\n",
              "      <td>27.0</td>\n",
              "      <td>F</td>\n",
              "      <td>PARDA</td>\n",
              "      <td>261610</td>\n",
              "      <td>VERDEJANTE</td>\n",
              "      <td>Pessoas de 18 a 64 anos</td>\n",
              "      <td>Vacina Covid-19 - Covishield</td>\n",
              "    </tr>\n",
              "  </tbody>\n",
              "</table>\n",
              "</div>"
            ],
            "text/plain": [
              "   paciente_idade  ...                                        vacina_nome\n",
              "0            36.0  ...  Vacina covid-19 - BNT162b2 - BioNTech/Fosun Ph...\n",
              "1            72.0  ...                Covid-19-Coronavac-Sinovac/Butantan\n",
              "2            59.0  ...                               Covid-19-AstraZeneca\n",
              "3            71.0  ...                Covid-19-Coronavac-Sinovac/Butantan\n",
              "4            27.0  ...                       Vacina Covid-19 - Covishield\n",
              "\n",
              "[5 rows x 7 columns]"
            ]
          },
          "metadata": {},
          "execution_count": 10
        }
      ]
    },
    {
      "cell_type": "code",
      "metadata": {
        "id": "r7cNMKHyy9yG"
      },
      "source": [
        "covid.dropna(subset= ['paciente_racacor_valor'], inplace = True)"
      ],
      "execution_count": 11,
      "outputs": []
    },
    {
      "cell_type": "code",
      "metadata": {
        "colab": {
          "base_uri": "https://localhost:8080/"
        },
        "id": "LnVqULkfZ3eI",
        "outputId": "7a6ace98-f0e5-482c-fbc1-56cb3f9f9c81"
      },
      "source": [
        "covid.info()"
      ],
      "execution_count": 12,
      "outputs": [
        {
          "output_type": "stream",
          "name": "stdout",
          "text": [
            "<class 'pandas.core.frame.DataFrame'>\n",
            "Int64Index: 10056886 entries, 0 to 10056893\n",
            "Data columns (total 7 columns):\n",
            " #   Column                            Dtype  \n",
            "---  ------                            -----  \n",
            " 0   paciente_idade                    float64\n",
            " 1   paciente_enumsexobiologico        object \n",
            " 2   paciente_racacor_valor            object \n",
            " 3   estabelecimento_municipio_codigo  int64  \n",
            " 4   paciente_endereco_nmmunicipio     object \n",
            " 5   vacina_grupoatendimento_nome      object \n",
            " 6   vacina_nome                       object \n",
            "dtypes: float64(1), int64(1), object(5)\n",
            "memory usage: 613.8+ MB\n"
          ]
        }
      ]
    },
    {
      "cell_type": "code",
      "metadata": {
        "colab": {
          "base_uri": "https://localhost:8080/",
          "height": 586
        },
        "id": "jfHzI2Iu8-Ke",
        "outputId": "5c0efe5d-36a3-41b8-b442-9557f975266e"
      },
      "source": [
        "covid['vacina_nome'].value_counts().plot(kind='bar')"
      ],
      "execution_count": 13,
      "outputs": [
        {
          "output_type": "execute_result",
          "data": {
            "text/plain": [
              "<matplotlib.axes._subplots.AxesSubplot at 0x7f00e1ef47d0>"
            ]
          },
          "metadata": {},
          "execution_count": 13
        },
        {
          "output_type": "display_data",
          "data": {
            "image/png": "[encoded data removed]",
            "text/plain": [
              "<Figure size 432x288 with 1 Axes>"
            ]
          },
          "metadata": {
            "needs_background": "light"
          }
        }
      ]
    },
    {
      "cell_type": "code",
      "metadata": {
        "id": "oldYx_Q9CbsG"
      },
      "source": [
        "sexo = covid['paciente_enumsexobiologico'].value_counts()"
      ],
      "execution_count": 14,
      "outputs": []
    },
    {
      "cell_type": "code",
      "metadata": {
        "colab": {
          "base_uri": "https://localhost:8080/"
        },
        "id": "6ZL9iNLBCqwa",
        "outputId": "bfd622c0-6a34-4177-cab7-3dbbd41bd1ac"
      },
      "source": [
        "sexo.head()"
      ],
      "execution_count": 15,
      "outputs": [
        {
          "output_type": "execute_result",
          "data": {
            "text/plain": [
              "F    5538263\n",
              "M    4518611\n",
              "I         12\n",
              "Name: paciente_enumsexobiologico, dtype: int64"
            ]
          },
          "metadata": {},
          "execution_count": 15
        }
      ]
    },
    {
      "cell_type": "code",
      "metadata": {
        "colab": {
          "base_uri": "https://localhost:8080/",
          "height": 296
        },
        "id": "fdG8Z8w6CvQZ",
        "outputId": "0f138403-e8cc-4788-9934-44bec7385eef"
      },
      "source": [
        "sexo.plot(kind='barh', color = ['red', 'blue'])"
      ],
      "execution_count": 16,
      "outputs": [
        {
          "output_type": "execute_result",
          "data": {
            "text/plain": [
              "<matplotlib.axes._subplots.AxesSubplot at 0x7f0086e6bdd0>"
            ]
          },
          "metadata": {},
          "execution_count": 16
        },
        {
          "output_type": "display_data",
          "data": {
            "image/png": "[encoded data removed]",
            "text/plain": [
              "<Figure size 432x288 with 1 Axes>"
            ]
          },
          "metadata": {
            "needs_background": "light"
          }
        }
      ]
    },
    {
      "cell_type": "code",
      "metadata": {
        "colab": {
          "base_uri": "https://localhost:8080/",
          "height": 300
        },
        "id": "juAAhQIzZ-6Z",
        "outputId": "d2fe86c4-2184-4516-b51a-0902387ac5e6"
      },
      "source": [
        "idhm.describe()"
      ],
      "execution_count": 17,
      "outputs": [
        {
          "output_type": "execute_result",
          "data": {
            "text/html": [
              "<div>\n",
              "<style scoped>\n",
              "    .dataframe tbody tr th:only-of-type {\n",
              "        vertical-align: middle;\n",
              "    }\n",
              "\n",
              "    .dataframe tbody tr th {\n",
              "        vertical-align: top;\n",
              "    }\n",
              "\n",
              "    .dataframe thead th {\n",
              "        text-align: right;\n",
              "    }\n",
              "</style>\n",
              "<table border=\"1\" class=\"dataframe\">\n",
              "  <thead>\n",
              "    <tr style=\"text-align: right;\">\n",
              "      <th></th>\n",
              "      <th>Codmun6</th>\n",
              "      <th>IDMH</th>\n",
              "      <th>IDHM_E</th>\n",
              "      <th>IDHM_L</th>\n",
              "      <th>IDHM_R</th>\n",
              "    </tr>\n",
              "  </thead>\n",
              "  <tbody>\n",
              "    <tr>\n",
              "      <th>count</th>\n",
              "      <td>185.000000</td>\n",
              "      <td>185.000000</td>\n",
              "      <td>185.000000</td>\n",
              "      <td>185.000000</td>\n",
              "      <td>185.000000</td>\n",
              "    </tr>\n",
              "    <tr>\n",
              "      <th>mean</th>\n",
              "      <td>260823.702703</td>\n",
              "      <td>596.248649</td>\n",
              "      <td>490.556757</td>\n",
              "      <td>755.659459</td>\n",
              "      <td>574.378378</td>\n",
              "    </tr>\n",
              "    <tr>\n",
              "      <th>std</th>\n",
              "      <td>470.173966</td>\n",
              "      <td>47.514561</td>\n",
              "      <td>67.966170</td>\n",
              "      <td>34.984278</td>\n",
              "      <td>47.082924</td>\n",
              "    </tr>\n",
              "    <tr>\n",
              "      <th>min</th>\n",
              "      <td>260005.000000</td>\n",
              "      <td>487.000000</td>\n",
              "      <td>354.000000</td>\n",
              "      <td>676.000000</td>\n",
              "      <td>477.000000</td>\n",
              "    </tr>\n",
              "    <tr>\n",
              "      <th>25%</th>\n",
              "      <td>260420.000000</td>\n",
              "      <td>567.000000</td>\n",
              "      <td>443.000000</td>\n",
              "      <td>731.000000</td>\n",
              "      <td>543.000000</td>\n",
              "    </tr>\n",
              "    <tr>\n",
              "      <th>50%</th>\n",
              "      <td>260820.000000</td>\n",
              "      <td>593.000000</td>\n",
              "      <td>489.000000</td>\n",
              "      <td>758.000000</td>\n",
              "      <td>566.000000</td>\n",
              "    </tr>\n",
              "    <tr>\n",
              "      <th>75%</th>\n",
              "      <td>261230.000000</td>\n",
              "      <td>613.000000</td>\n",
              "      <td>525.000000</td>\n",
              "      <td>778.000000</td>\n",
              "      <td>598.000000</td>\n",
              "    </tr>\n",
              "    <tr>\n",
              "      <th>max</th>\n",
              "      <td>261650.000000</td>\n",
              "      <td>788.000000</td>\n",
              "      <td>748.000000</td>\n",
              "      <td>839.000000</td>\n",
              "      <td>798.000000</td>\n",
              "    </tr>\n",
              "  </tbody>\n",
              "</table>\n",
              "</div>"
            ],
            "text/plain": [
              "             Codmun6        IDMH      IDHM_E      IDHM_L      IDHM_R\n",
              "count     185.000000  185.000000  185.000000  185.000000  185.000000\n",
              "mean   260823.702703  596.248649  490.556757  755.659459  574.378378\n",
              "std       470.173966   47.514561   67.966170   34.984278   47.082924\n",
              "min    260005.000000  487.000000  354.000000  676.000000  477.000000\n",
              "25%    260420.000000  567.000000  443.000000  731.000000  543.000000\n",
              "50%    260820.000000  593.000000  489.000000  758.000000  566.000000\n",
              "75%    261230.000000  613.000000  525.000000  778.000000  598.000000\n",
              "max    261650.000000  788.000000  748.000000  839.000000  798.000000"
            ]
          },
          "metadata": {},
          "execution_count": 17
        }
      ]
    },
    {
      "cell_type": "code",
      "metadata": {
        "colab": {
          "base_uri": "https://localhost:8080/"
        },
        "id": "YgGR4HW9aCTo",
        "outputId": "3da8acb2-9506-4b8f-d155-4b684da37972"
      },
      "source": [
        "idhm.info()"
      ],
      "execution_count": 18,
      "outputs": [
        {
          "output_type": "stream",
          "name": "stdout",
          "text": [
            "<class 'pandas.core.frame.DataFrame'>\n",
            "RangeIndex: 185 entries, 0 to 184\n",
            "Data columns (total 6 columns):\n",
            " #   Column     Non-Null Count  Dtype \n",
            "---  ------     --------------  ----- \n",
            " 0   Codmun6    185 non-null    int64 \n",
            " 1   Município  185 non-null    object\n",
            " 2   IDMH       185 non-null    int64 \n",
            " 3   IDHM_E     185 non-null    int64 \n",
            " 4   IDHM_L     185 non-null    int64 \n",
            " 5   IDHM_R     185 non-null    int64 \n",
            "dtypes: int64(5), object(1)\n",
            "memory usage: 8.8+ KB\n"
          ]
        }
      ]
    },
    {
      "cell_type": "code",
      "metadata": {
        "id": "oEymB7j2gdSg"
      },
      "source": [
        "vacinacao = pd.merge(idhm,covid,left_on='Codmun6', right_on='estabelecimento_municipio_codigo')"
      ],
      "execution_count": 19,
      "outputs": []
    },
    {
      "cell_type": "code",
      "metadata": {
        "colab": {
          "base_uri": "https://localhost:8080/",
          "height": 435
        },
        "id": "CmCT3pOpnnss",
        "outputId": "4864f2f1-69c2-4cdc-e0cc-dd23b865a7af"
      },
      "source": [
        "vacinacao.head()"
      ],
      "execution_count": 20,
      "outputs": [
        {
          "output_type": "execute_result",
          "data": {
            "text/html": [
              "<div>\n",
              "<style scoped>\n",
              "    .dataframe tbody tr th:only-of-type {\n",
              "        vertical-align: middle;\n",
              "    }\n",
              "\n",
              "    .dataframe tbody tr th {\n",
              "        vertical-align: top;\n",
              "    }\n",
              "\n",
              "    .dataframe thead th {\n",
              "        text-align: right;\n",
              "    }\n",
              "</style>\n",
              "<table border=\"1\" class=\"dataframe\">\n",
              "  <thead>\n",
              "    <tr style=\"text-align: right;\">\n",
              "      <th></th>\n",
              "      <th>Codmun6</th>\n",
              "      <th>Município</th>\n",
              "      <th>IDMH</th>\n",
              "      <th>IDHM_E</th>\n",
              "      <th>IDHM_L</th>\n",
              "      <th>IDHM_R</th>\n",
              "      <th>paciente_idade</th>\n",
              "      <th>paciente_enumsexobiologico</th>\n",
              "      <th>paciente_racacor_valor</th>\n",
              "      <th>estabelecimento_municipio_codigo</th>\n",
              "      <th>paciente_endereco_nmmunicipio</th>\n",
              "      <th>vacina_grupoatendimento_nome</th>\n",
              "      <th>vacina_nome</th>\n",
              "    </tr>\n",
              "  </thead>\n",
              "  <tbody>\n",
              "    <tr>\n",
              "      <th>0</th>\n",
              "      <td>260005</td>\n",
              "      <td>ABREU E LIMA</td>\n",
              "      <td>679</td>\n",
              "      <td>632</td>\n",
              "      <td>791</td>\n",
              "      <td>625</td>\n",
              "      <td>48.0</td>\n",
              "      <td>M</td>\n",
              "      <td>SEM INFORMACAO</td>\n",
              "      <td>260005</td>\n",
              "      <td>RECIFE</td>\n",
              "      <td>Outros</td>\n",
              "      <td>Covid-19-Coronavac-Sinovac/Butantan</td>\n",
              "    </tr>\n",
              "    <tr>\n",
              "      <th>1</th>\n",
              "      <td>260005</td>\n",
              "      <td>ABREU E LIMA</td>\n",
              "      <td>679</td>\n",
              "      <td>632</td>\n",
              "      <td>791</td>\n",
              "      <td>625</td>\n",
              "      <td>53.0</td>\n",
              "      <td>M</td>\n",
              "      <td>PRETA</td>\n",
              "      <td>260005</td>\n",
              "      <td>JABOATAO DOS GUARARAPES</td>\n",
              "      <td>Ensino Básico</td>\n",
              "      <td>Vacina Covid-19 - Covishield</td>\n",
              "    </tr>\n",
              "    <tr>\n",
              "      <th>2</th>\n",
              "      <td>260005</td>\n",
              "      <td>ABREU E LIMA</td>\n",
              "      <td>679</td>\n",
              "      <td>632</td>\n",
              "      <td>791</td>\n",
              "      <td>625</td>\n",
              "      <td>26.0</td>\n",
              "      <td>M</td>\n",
              "      <td>SEM INFORMACAO</td>\n",
              "      <td>260005</td>\n",
              "      <td>IGARASSU</td>\n",
              "      <td>Pessoas de 60 a 64 anos</td>\n",
              "      <td>Vacina covid-19 - BNT162b2 - BioNTech/Fosun Ph...</td>\n",
              "    </tr>\n",
              "    <tr>\n",
              "      <th>3</th>\n",
              "      <td>260005</td>\n",
              "      <td>ABREU E LIMA</td>\n",
              "      <td>679</td>\n",
              "      <td>632</td>\n",
              "      <td>791</td>\n",
              "      <td>625</td>\n",
              "      <td>17.0</td>\n",
              "      <td>M</td>\n",
              "      <td>PARDA</td>\n",
              "      <td>260005</td>\n",
              "      <td>ABREU E LIMA</td>\n",
              "      <td>NaN</td>\n",
              "      <td>Vacina covid-19 - BNT162b2 - BioNTech/Fosun Ph...</td>\n",
              "    </tr>\n",
              "    <tr>\n",
              "      <th>4</th>\n",
              "      <td>260005</td>\n",
              "      <td>ABREU E LIMA</td>\n",
              "      <td>679</td>\n",
              "      <td>632</td>\n",
              "      <td>791</td>\n",
              "      <td>625</td>\n",
              "      <td>17.0</td>\n",
              "      <td>F</td>\n",
              "      <td>PRETA</td>\n",
              "      <td>260005</td>\n",
              "      <td>ABREU E LIMA</td>\n",
              "      <td>NaN</td>\n",
              "      <td>Vacina covid-19 - BNT162b2 - BioNTech/Fosun Ph...</td>\n",
              "    </tr>\n",
              "  </tbody>\n",
              "</table>\n",
              "</div>"
            ],
            "text/plain": [
              "   Codmun6  ...                                        vacina_nome\n",
              "0   260005  ...                Covid-19-Coronavac-Sinovac/Butantan\n",
              "1   260005  ...                       Vacina Covid-19 - Covishield\n",
              "2   260005  ...  Vacina covid-19 - BNT162b2 - BioNTech/Fosun Ph...\n",
              "3   260005  ...  Vacina covid-19 - BNT162b2 - BioNTech/Fosun Ph...\n",
              "4   260005  ...  Vacina covid-19 - BNT162b2 - BioNTech/Fosun Ph...\n",
              "\n",
              "[5 rows x 13 columns]"
            ]
          },
          "metadata": {},
          "execution_count": 20
        }
      ]
    },
    {
      "cell_type": "code",
      "metadata": {
        "id": "lyF6j8kYw_lI"
      },
      "source": [
        "vacinaspe = pd.merge(vacinacao, municipios, left_on='Codmun6', right_on='Codmun')"
      ],
      "execution_count": 21,
      "outputs": []
    },
    {
      "cell_type": "code",
      "metadata": {
        "colab": {
          "base_uri": "https://localhost:8080/",
          "height": 435
        },
        "id": "OiO_dEsLxkej",
        "outputId": "2a33dd6b-4023-42e6-a584-0015be6dffae"
      },
      "source": [
        "vacinaspe.head()"
      ],
      "execution_count": 22,
      "outputs": [
        {
          "output_type": "execute_result",
          "data": {
            "text/html": [
              "<div>\n",
              "<style scoped>\n",
              "    .dataframe tbody tr th:only-of-type {\n",
              "        vertical-align: middle;\n",
              "    }\n",
              "\n",
              "    .dataframe tbody tr th {\n",
              "        vertical-align: top;\n",
              "    }\n",
              "\n",
              "    .dataframe thead th {\n",
              "        text-align: right;\n",
              "    }\n",
              "</style>\n",
              "<table border=\"1\" class=\"dataframe\">\n",
              "  <thead>\n",
              "    <tr style=\"text-align: right;\">\n",
              "      <th></th>\n",
              "      <th>Codmun6</th>\n",
              "      <th>Município_x</th>\n",
              "      <th>IDMH</th>\n",
              "      <th>IDHM_E</th>\n",
              "      <th>IDHM_L</th>\n",
              "      <th>IDHM_R</th>\n",
              "      <th>paciente_idade</th>\n",
              "      <th>paciente_enumsexobiologico</th>\n",
              "      <th>paciente_racacor_valor</th>\n",
              "      <th>estabelecimento_municipio_codigo</th>\n",
              "      <th>paciente_endereco_nmmunicipio</th>\n",
              "      <th>vacina_grupoatendimento_nome</th>\n",
              "      <th>vacina_nome</th>\n",
              "      <th>Codmun</th>\n",
              "      <th>Município_y</th>\n",
              "      <th>latitude</th>\n",
              "      <th>longitude</th>\n",
              "    </tr>\n",
              "  </thead>\n",
              "  <tbody>\n",
              "    <tr>\n",
              "      <th>0</th>\n",
              "      <td>260005</td>\n",
              "      <td>ABREU E LIMA</td>\n",
              "      <td>679</td>\n",
              "      <td>632</td>\n",
              "      <td>791</td>\n",
              "      <td>625</td>\n",
              "      <td>48.0</td>\n",
              "      <td>M</td>\n",
              "      <td>SEM INFORMACAO</td>\n",
              "      <td>260005</td>\n",
              "      <td>RECIFE</td>\n",
              "      <td>Outros</td>\n",
              "      <td>Covid-19-Coronavac-Sinovac/Butantan</td>\n",
              "      <td>260005</td>\n",
              "      <td>ABREU E LIMA</td>\n",
              "      <td>-7.90072</td>\n",
              "      <td>-34.8984</td>\n",
              "    </tr>\n",
              "    <tr>\n",
              "      <th>1</th>\n",
              "      <td>260005</td>\n",
              "      <td>ABREU E LIMA</td>\n",
              "      <td>679</td>\n",
              "      <td>632</td>\n",
              "      <td>791</td>\n",
              "      <td>625</td>\n",
              "      <td>53.0</td>\n",
              "      <td>M</td>\n",
              "      <td>PRETA</td>\n",
              "      <td>260005</td>\n",
              "      <td>JABOATAO DOS GUARARAPES</td>\n",
              "      <td>Ensino Básico</td>\n",
              "      <td>Vacina Covid-19 - Covishield</td>\n",
              "      <td>260005</td>\n",
              "      <td>ABREU E LIMA</td>\n",
              "      <td>-7.90072</td>\n",
              "      <td>-34.8984</td>\n",
              "    </tr>\n",
              "    <tr>\n",
              "      <th>2</th>\n",
              "      <td>260005</td>\n",
              "      <td>ABREU E LIMA</td>\n",
              "      <td>679</td>\n",
              "      <td>632</td>\n",
              "      <td>791</td>\n",
              "      <td>625</td>\n",
              "      <td>26.0</td>\n",
              "      <td>M</td>\n",
              "      <td>SEM INFORMACAO</td>\n",
              "      <td>260005</td>\n",
              "      <td>IGARASSU</td>\n",
              "      <td>Pessoas de 60 a 64 anos</td>\n",
              "      <td>Vacina covid-19 - BNT162b2 - BioNTech/Fosun Ph...</td>\n",
              "      <td>260005</td>\n",
              "      <td>ABREU E LIMA</td>\n",
              "      <td>-7.90072</td>\n",
              "      <td>-34.8984</td>\n",
              "    </tr>\n",
              "    <tr>\n",
              "      <th>3</th>\n",
              "      <td>260005</td>\n",
              "      <td>ABREU E LIMA</td>\n",
              "      <td>679</td>\n",
              "      <td>632</td>\n",
              "      <td>791</td>\n",
              "      <td>625</td>\n",
              "      <td>17.0</td>\n",
              "      <td>M</td>\n",
              "      <td>PARDA</td>\n",
              "      <td>260005</td>\n",
              "      <td>ABREU E LIMA</td>\n",
              "      <td>NaN</td>\n",
              "      <td>Vacina covid-19 - BNT162b2 - BioNTech/Fosun Ph...</td>\n",
              "      <td>260005</td>\n",
              "      <td>ABREU E LIMA</td>\n",
              "      <td>-7.90072</td>\n",
              "      <td>-34.8984</td>\n",
              "    </tr>\n",
              "    <tr>\n",
              "      <th>4</th>\n",
              "      <td>260005</td>\n",
              "      <td>ABREU E LIMA</td>\n",
              "      <td>679</td>\n",
              "      <td>632</td>\n",
              "      <td>791</td>\n",
              "      <td>625</td>\n",
              "      <td>17.0</td>\n",
              "      <td>F</td>\n",
              "      <td>PRETA</td>\n",
              "      <td>260005</td>\n",
              "      <td>ABREU E LIMA</td>\n",
              "      <td>NaN</td>\n",
              "      <td>Vacina covid-19 - BNT162b2 - BioNTech/Fosun Ph...</td>\n",
              "      <td>260005</td>\n",
              "      <td>ABREU E LIMA</td>\n",
              "      <td>-7.90072</td>\n",
              "      <td>-34.8984</td>\n",
              "    </tr>\n",
              "  </tbody>\n",
              "</table>\n",
              "</div>"
            ],
            "text/plain": [
              "   Codmun6   Município_x  IDMH  ...   Município_y  latitude  longitude\n",
              "0   260005  ABREU E LIMA   679  ...  ABREU E LIMA  -7.90072   -34.8984\n",
              "1   260005  ABREU E LIMA   679  ...  ABREU E LIMA  -7.90072   -34.8984\n",
              "2   260005  ABREU E LIMA   679  ...  ABREU E LIMA  -7.90072   -34.8984\n",
              "3   260005  ABREU E LIMA   679  ...  ABREU E LIMA  -7.90072   -34.8984\n",
              "4   260005  ABREU E LIMA   679  ...  ABREU E LIMA  -7.90072   -34.8984\n",
              "\n",
              "[5 rows x 17 columns]"
            ]
          },
          "metadata": {},
          "execution_count": 22
        }
      ]
    },
    {
      "cell_type": "code",
      "metadata": {
        "id": "CDpGr7aSg3Uj"
      },
      "source": [
        "mapape = gpd.read_file('/content/drive/MyDrive/Covid19 dados tcc/tcc/PE_Mun97_region.shx')"
      ],
      "execution_count": 23,
      "outputs": []
    },
    {
      "cell_type": "code",
      "metadata": {
        "colab": {
          "base_uri": "https://localhost:8080/",
          "height": 574
        },
        "id": "ka9BmMPkx3M4",
        "outputId": "e001476d-5560-4722-f729-8541b65d73df"
      },
      "source": [
        "mapape.head()"
      ],
      "execution_count": 24,
      "outputs": [
        {
          "output_type": "execute_result",
          "data": {
            "text/html": [
              "<div>\n",
              "<style scoped>\n",
              "    .dataframe tbody tr th:only-of-type {\n",
              "        vertical-align: middle;\n",
              "    }\n",
              "\n",
              "    .dataframe tbody tr th {\n",
              "        vertical-align: top;\n",
              "    }\n",
              "\n",
              "    .dataframe thead th {\n",
              "        text-align: right;\n",
              "    }\n",
              "</style>\n",
              "<table border=\"1\" class=\"dataframe\">\n",
              "  <thead>\n",
              "    <tr style=\"text-align: right;\">\n",
              "      <th></th>\n",
              "      <th>CODMUN6</th>\n",
              "      <th>MUNIC_PIO</th>\n",
              "      <th>SEM_ACENTO</th>\n",
              "      <th>MUNIC_PI0</th>\n",
              "      <th>UF</th>\n",
              "      <th>UF_IBGE</th>\n",
              "      <th>REGI_O</th>\n",
              "      <th>MESO_IBGE</th>\n",
              "      <th>MESO_IBG0</th>\n",
              "      <th>MICRO_IBGE</th>\n",
              "      <th>MICRO_IB0</th>\n",
              "      <th>MESO_IBG1</th>\n",
              "      <th>MICRO_IB1</th>\n",
              "      <th>AREA_97</th>\n",
              "      <th>SEDE</th>\n",
              "      <th>SEDE0</th>\n",
              "      <th>N91</th>\n",
              "      <th>N96</th>\n",
              "      <th>CODCOMP</th>\n",
              "      <th>geometry</th>\n",
              "    </tr>\n",
              "  </thead>\n",
              "  <tbody>\n",
              "    <tr>\n",
              "      <th>0</th>\n",
              "      <td>260020</td>\n",
              "      <td>AFRÂNIO</td>\n",
              "      <td>AFRANIO</td>\n",
              "      <td>2600203</td>\n",
              "      <td>PE</td>\n",
              "      <td>26</td>\n",
              "      <td>NE</td>\n",
              "      <td>SAO FRANCISCO PERNAMBUCANO</td>\n",
              "      <td>02</td>\n",
              "      <td>PETROLINA</td>\n",
              "      <td>005</td>\n",
              "      <td>2602</td>\n",
              "      <td>260205</td>\n",
              "      <td>1482.423</td>\n",
              "      <td>-41.005</td>\n",
              "      <td>-8.515</td>\n",
              "      <td>13544.0</td>\n",
              "      <td>13886.0</td>\n",
              "      <td>260200500203</td>\n",
              "      <td>POLYGON ((-41.35756 -8.70651, -41.34930 -8.707...</td>\n",
              "    </tr>\n",
              "    <tr>\n",
              "      <th>1</th>\n",
              "      <td>261110</td>\n",
              "      <td>PETROLINA</td>\n",
              "      <td>PETROLINA</td>\n",
              "      <td>2611101</td>\n",
              "      <td>PE</td>\n",
              "      <td>26</td>\n",
              "      <td>NE</td>\n",
              "      <td>SAO FRANCISCO PERNAMBUCANO</td>\n",
              "      <td>02</td>\n",
              "      <td>PETROLINA</td>\n",
              "      <td>005</td>\n",
              "      <td>2602</td>\n",
              "      <td>260205</td>\n",
              "      <td>4737.130</td>\n",
              "      <td>-40.508</td>\n",
              "      <td>-9.393</td>\n",
              "      <td>0.0</td>\n",
              "      <td>191238.0</td>\n",
              "      <td>260200511101</td>\n",
              "      <td>POLYGON ((-40.96774 -8.82765, -40.96902 -8.823...</td>\n",
              "    </tr>\n",
              "    <tr>\n",
              "      <th>2</th>\n",
              "      <td>260515</td>\n",
              "      <td>DORMENTES</td>\n",
              "      <td>DORMENTES</td>\n",
              "      <td>2605152</td>\n",
              "      <td>PE</td>\n",
              "      <td>26</td>\n",
              "      <td>NE</td>\n",
              "      <td>SAO FRANCISCO PERNAMBUCANO</td>\n",
              "      <td>02</td>\n",
              "      <td>PETROLINA</td>\n",
              "      <td>005</td>\n",
              "      <td>2602</td>\n",
              "      <td>260205</td>\n",
              "      <td>1386.278</td>\n",
              "      <td>-40.771</td>\n",
              "      <td>-8.447</td>\n",
              "      <td>13862.0</td>\n",
              "      <td>13252.0</td>\n",
              "      <td>260200505152</td>\n",
              "      <td>POLYGON ((-40.86886 -8.36169, -40.86644 -8.362...</td>\n",
              "    </tr>\n",
              "    <tr>\n",
              "      <th>3</th>\n",
              "      <td>260110</td>\n",
              "      <td>ARARIPINA</td>\n",
              "      <td>ARARIPINA</td>\n",
              "      <td>2601102</td>\n",
              "      <td>PE</td>\n",
              "      <td>26</td>\n",
              "      <td>NE</td>\n",
              "      <td>SERTAO PERNAMBUCANO</td>\n",
              "      <td>01</td>\n",
              "      <td>ARARIPINA</td>\n",
              "      <td>001</td>\n",
              "      <td>2601</td>\n",
              "      <td>260101</td>\n",
              "      <td>1906.338</td>\n",
              "      <td>-40.498</td>\n",
              "      <td>-7.576</td>\n",
              "      <td>63453.0</td>\n",
              "      <td>63841.0</td>\n",
              "      <td>260100101102</td>\n",
              "      <td>POLYGON ((-40.71240 -7.47108, -40.70989 -7.465...</td>\n",
              "    </tr>\n",
              "    <tr>\n",
              "      <th>4</th>\n",
              "      <td>261245</td>\n",
              "      <td>SANTA CRUZ</td>\n",
              "      <td>SANTA CRUZ</td>\n",
              "      <td>2612455</td>\n",
              "      <td>PE</td>\n",
              "      <td>26</td>\n",
              "      <td>NE</td>\n",
              "      <td>SERTAO PERNAMBUCANO</td>\n",
              "      <td>01</td>\n",
              "      <td>ARARIPINA</td>\n",
              "      <td>001</td>\n",
              "      <td>2601</td>\n",
              "      <td>260101</td>\n",
              "      <td>1426.077</td>\n",
              "      <td>-40.336</td>\n",
              "      <td>-8.240</td>\n",
              "      <td>10590.0</td>\n",
              "      <td>10904.0</td>\n",
              "      <td>260100112455</td>\n",
              "      <td>POLYGON ((-40.55131 -8.28434, -40.55185 -8.281...</td>\n",
              "    </tr>\n",
              "  </tbody>\n",
              "</table>\n",
              "</div>"
            ],
            "text/plain": [
              "  CODMUN6  ...                                           geometry\n",
              "0  260020  ...  POLYGON ((-41.35756 -8.70651, -41.34930 -8.707...\n",
              "1  261110  ...  POLYGON ((-40.96774 -8.82765, -40.96902 -8.823...\n",
              "2  260515  ...  POLYGON ((-40.86886 -8.36169, -40.86644 -8.362...\n",
              "3  260110  ...  POLYGON ((-40.71240 -7.47108, -40.70989 -7.465...\n",
              "4  261245  ...  POLYGON ((-40.55131 -8.28434, -40.55185 -8.281...\n",
              "\n",
              "[5 rows x 20 columns]"
            ]
          },
          "metadata": {},
          "execution_count": 24
        }
      ]
    },
    {
      "cell_type": "code",
      "metadata": {
        "colab": {
          "base_uri": "https://localhost:8080/"
        },
        "id": "3DAqga9xy316",
        "outputId": "e11faab8-3975-460a-8d15-3fedcbaa69a0"
      },
      "source": [
        "mapape.info()"
      ],
      "execution_count": 25,
      "outputs": [
        {
          "output_type": "stream",
          "name": "stdout",
          "text": [
            "<class 'geopandas.geodataframe.GeoDataFrame'>\n",
            "RangeIndex: 185 entries, 0 to 184\n",
            "Data columns (total 20 columns):\n",
            " #   Column      Non-Null Count  Dtype   \n",
            "---  ------      --------------  -----   \n",
            " 0   CODMUN6     185 non-null    object  \n",
            " 1   MUNIC_PIO   185 non-null    object  \n",
            " 2   SEM_ACENTO  185 non-null    object  \n",
            " 3   MUNIC_PI0   185 non-null    object  \n",
            " 4   UF          185 non-null    object  \n",
            " 5   UF_IBGE     185 non-null    object  \n",
            " 6   REGI_O      185 non-null    object  \n",
            " 7   MESO_IBGE   185 non-null    object  \n",
            " 8   MESO_IBG0   185 non-null    object  \n",
            " 9   MICRO_IBGE  185 non-null    object  \n",
            " 10  MICRO_IB0   185 non-null    object  \n",
            " 11  MESO_IBG1   185 non-null    object  \n",
            " 12  MICRO_IB1   185 non-null    object  \n",
            " 13  AREA_97     185 non-null    float64 \n",
            " 14  SEDE        185 non-null    float64 \n",
            " 15  SEDE0       185 non-null    float64 \n",
            " 16  N91         185 non-null    float64 \n",
            " 17  N96         185 non-null    float64 \n",
            " 18  CODCOMP     185 non-null    object  \n",
            " 19  geometry    185 non-null    geometry\n",
            "dtypes: float64(5), geometry(1), object(14)\n",
            "memory usage: 29.0+ KB\n"
          ]
        }
      ]
    },
    {
      "cell_type": "code",
      "metadata": {
        "id": "mgm5ELLCzU5q"
      },
      "source": [
        "mapape.CODMUN6 = mapape.CODMUN6.astype('int64')"
      ],
      "execution_count": 26,
      "outputs": []
    },
    {
      "cell_type": "code",
      "metadata": {
        "colab": {
          "base_uri": "https://localhost:8080/",
          "height": 172
        },
        "id": "W1IBq6dByILZ",
        "outputId": "e01bbb51-ea62-438a-a94b-7ebc60e1b962"
      },
      "source": [
        "panoramape = pd.merge(vacinaspe, mapape, left_on='Codmun6',right_on='CODMUN6')"
      ],
      "execution_count": 1,
      "outputs": [
        {
          "output_type": "error",
          "ename": "NameError",
          "evalue": "ignored",
          "traceback": [
            "\u001b[0;31m---------------------------------------------------------------------------\u001b[0m",
            "\u001b[0;31mNameError\u001b[0m                                 Traceback (most recent call last)",
            "\u001b[0;32m<ipython-input-1-25ea3087c504>\u001b[0m in \u001b[0;36m<module>\u001b[0;34m()\u001b[0m\n\u001b[0;32m----> 1\u001b[0;31m \u001b[0mpanoramape\u001b[0m \u001b[0;34m=\u001b[0m \u001b[0mpd\u001b[0m\u001b[0;34m.\u001b[0m\u001b[0mmerge\u001b[0m\u001b[0;34m(\u001b[0m\u001b[0mvacinaspe\u001b[0m\u001b[0;34m,\u001b[0m \u001b[0mmapape\u001b[0m\u001b[0;34m,\u001b[0m \u001b[0mleft_on\u001b[0m\u001b[0;34m=\u001b[0m\u001b[0;34m'Codmun6'\u001b[0m\u001b[0;34m,\u001b[0m\u001b[0mright_on\u001b[0m\u001b[0;34m=\u001b[0m\u001b[0;34m'CODMUN6'\u001b[0m\u001b[0;34m)\u001b[0m\u001b[0;34m\u001b[0m\u001b[0;34m\u001b[0m\u001b[0m\n\u001b[0m",
            "\u001b[0;31mNameError\u001b[0m: name 'pd' is not defined"
          ]
        }
      ]
    },
    {
      "cell_type": "code",
      "metadata": {
        "colab": {
          "base_uri": "https://localhost:8080/",
          "height": 279
        },
        "id": "EiyvcSe4hE8o",
        "outputId": "eb3569e0-c7cd-4c82-ffbe-b0926be2c9b8"
      },
      "source": [
        "mapape.plot()"
      ],
      "execution_count": 44,
      "outputs": [
        {
          "output_type": "execute_result",
          "data": {
            "text/plain": [
              "<matplotlib.axes._subplots.AxesSubplot at 0x7f6e870417d0>"
            ]
          },
          "metadata": {},
          "execution_count": 44
        },
        {
          "output_type": "display_data",
          "data": {
            "image/png": "[encoded data removed]",
            "text/plain": [
              "<Figure size 432x288 with 1 Axes>"
            ]
          },
          "metadata": {
            "needs_background": "light"
          }
        }
      ]
    },
    {
      "cell_type": "code",
      "metadata": {
        "colab": {
          "base_uri": "https://localhost:8080/",
          "height": 574
        },
        "id": "c7ZilNq0kEdo",
        "outputId": "beb57f8e-63ae-485c-b9ba-33084fd14332"
      },
      "source": [
        "br_PE.head()"
      ],
      "execution_count": 27,
      "outputs": [
        {
          "output_type": "execute_result",
          "data": {
            "text/html": [
              "<div>\n",
              "<style scoped>\n",
              "    .dataframe tbody tr th:only-of-type {\n",
              "        vertical-align: middle;\n",
              "    }\n",
              "\n",
              "    .dataframe tbody tr th {\n",
              "        vertical-align: top;\n",
              "    }\n",
              "\n",
              "    .dataframe thead th {\n",
              "        text-align: right;\n",
              "    }\n",
              "</style>\n",
              "<table border=\"1\" class=\"dataframe\">\n",
              "  <thead>\n",
              "    <tr style=\"text-align: right;\">\n",
              "      <th></th>\n",
              "      <th>CODMUN6</th>\n",
              "      <th>MUNIC_PIO</th>\n",
              "      <th>SEM_ACENTO</th>\n",
              "      <th>MUNIC_PI0</th>\n",
              "      <th>UF</th>\n",
              "      <th>UF_IBGE</th>\n",
              "      <th>REGI_O</th>\n",
              "      <th>MESO_IBGE</th>\n",
              "      <th>MESO_IBG0</th>\n",
              "      <th>MICRO_IBGE</th>\n",
              "      <th>MICRO_IB0</th>\n",
              "      <th>MESO_IBG1</th>\n",
              "      <th>MICRO_IB1</th>\n",
              "      <th>AREA_97</th>\n",
              "      <th>SEDE</th>\n",
              "      <th>SEDE0</th>\n",
              "      <th>N91</th>\n",
              "      <th>N96</th>\n",
              "      <th>CODCOMP</th>\n",
              "      <th>geometry</th>\n",
              "    </tr>\n",
              "  </thead>\n",
              "  <tbody>\n",
              "    <tr>\n",
              "      <th>0</th>\n",
              "      <td>260020</td>\n",
              "      <td>AFRÂNIO</td>\n",
              "      <td>AFRANIO</td>\n",
              "      <td>2600203</td>\n",
              "      <td>PE</td>\n",
              "      <td>26</td>\n",
              "      <td>NE</td>\n",
              "      <td>SAO FRANCISCO PERNAMBUCANO</td>\n",
              "      <td>02</td>\n",
              "      <td>PETROLINA</td>\n",
              "      <td>005</td>\n",
              "      <td>2602</td>\n",
              "      <td>260205</td>\n",
              "      <td>1482.423</td>\n",
              "      <td>-41.005</td>\n",
              "      <td>-8.515</td>\n",
              "      <td>13544.0</td>\n",
              "      <td>13886.0</td>\n",
              "      <td>260200500203</td>\n",
              "      <td>POLYGON ((-41.35756 -8.70651, -41.34930 -8.707...</td>\n",
              "    </tr>\n",
              "    <tr>\n",
              "      <th>1</th>\n",
              "      <td>261110</td>\n",
              "      <td>PETROLINA</td>\n",
              "      <td>PETROLINA</td>\n",
              "      <td>2611101</td>\n",
              "      <td>PE</td>\n",
              "      <td>26</td>\n",
              "      <td>NE</td>\n",
              "      <td>SAO FRANCISCO PERNAMBUCANO</td>\n",
              "      <td>02</td>\n",
              "      <td>PETROLINA</td>\n",
              "      <td>005</td>\n",
              "      <td>2602</td>\n",
              "      <td>260205</td>\n",
              "      <td>4737.130</td>\n",
              "      <td>-40.508</td>\n",
              "      <td>-9.393</td>\n",
              "      <td>0.0</td>\n",
              "      <td>191238.0</td>\n",
              "      <td>260200511101</td>\n",
              "      <td>POLYGON ((-40.96774 -8.82765, -40.96902 -8.823...</td>\n",
              "    </tr>\n",
              "    <tr>\n",
              "      <th>2</th>\n",
              "      <td>260515</td>\n",
              "      <td>DORMENTES</td>\n",
              "      <td>DORMENTES</td>\n",
              "      <td>2605152</td>\n",
              "      <td>PE</td>\n",
              "      <td>26</td>\n",
              "      <td>NE</td>\n",
              "      <td>SAO FRANCISCO PERNAMBUCANO</td>\n",
              "      <td>02</td>\n",
              "      <td>PETROLINA</td>\n",
              "      <td>005</td>\n",
              "      <td>2602</td>\n",
              "      <td>260205</td>\n",
              "      <td>1386.278</td>\n",
              "      <td>-40.771</td>\n",
              "      <td>-8.447</td>\n",
              "      <td>13862.0</td>\n",
              "      <td>13252.0</td>\n",
              "      <td>260200505152</td>\n",
              "      <td>POLYGON ((-40.86886 -8.36169, -40.86644 -8.362...</td>\n",
              "    </tr>\n",
              "    <tr>\n",
              "      <th>3</th>\n",
              "      <td>260110</td>\n",
              "      <td>ARARIPINA</td>\n",
              "      <td>ARARIPINA</td>\n",
              "      <td>2601102</td>\n",
              "      <td>PE</td>\n",
              "      <td>26</td>\n",
              "      <td>NE</td>\n",
              "      <td>SERTAO PERNAMBUCANO</td>\n",
              "      <td>01</td>\n",
              "      <td>ARARIPINA</td>\n",
              "      <td>001</td>\n",
              "      <td>2601</td>\n",
              "      <td>260101</td>\n",
              "      <td>1906.338</td>\n",
              "      <td>-40.498</td>\n",
              "      <td>-7.576</td>\n",
              "      <td>63453.0</td>\n",
              "      <td>63841.0</td>\n",
              "      <td>260100101102</td>\n",
              "      <td>POLYGON ((-40.71240 -7.47108, -40.70989 -7.465...</td>\n",
              "    </tr>\n",
              "    <tr>\n",
              "      <th>4</th>\n",
              "      <td>261245</td>\n",
              "      <td>SANTA CRUZ</td>\n",
              "      <td>SANTA CRUZ</td>\n",
              "      <td>2612455</td>\n",
              "      <td>PE</td>\n",
              "      <td>26</td>\n",
              "      <td>NE</td>\n",
              "      <td>SERTAO PERNAMBUCANO</td>\n",
              "      <td>01</td>\n",
              "      <td>ARARIPINA</td>\n",
              "      <td>001</td>\n",
              "      <td>2601</td>\n",
              "      <td>260101</td>\n",
              "      <td>1426.077</td>\n",
              "      <td>-40.336</td>\n",
              "      <td>-8.240</td>\n",
              "      <td>10590.0</td>\n",
              "      <td>10904.0</td>\n",
              "      <td>260100112455</td>\n",
              "      <td>POLYGON ((-40.55131 -8.28434, -40.55185 -8.281...</td>\n",
              "    </tr>\n",
              "  </tbody>\n",
              "</table>\n",
              "</div>"
            ],
            "text/plain": [
              "  CODMUN6  ...                                           geometry\n",
              "0  260020  ...  POLYGON ((-41.35756 -8.70651, -41.34930 -8.707...\n",
              "1  261110  ...  POLYGON ((-40.96774 -8.82765, -40.96902 -8.823...\n",
              "2  260515  ...  POLYGON ((-40.86886 -8.36169, -40.86644 -8.362...\n",
              "3  260110  ...  POLYGON ((-40.71240 -7.47108, -40.70989 -7.465...\n",
              "4  261245  ...  POLYGON ((-40.55131 -8.28434, -40.55185 -8.281...\n",
              "\n",
              "[5 rows x 20 columns]"
            ]
          },
          "metadata": {},
          "execution_count": 27
        }
      ]
    },
    {
      "cell_type": "code",
      "metadata": {
        "id": "CD7NBFnFcC98"
      },
      "source": [
        "import matplotlib.pyplot as plt"
      ],
      "execution_count": 39,
      "outputs": []
    }
  ]
}