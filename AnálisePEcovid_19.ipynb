{
  "nbformat": 4,
  "nbformat_minor": 0,
  "metadata": {
    "colab": {
      "name": "AnálisePEcovid-19.ipynb",
      "provenance": [],
      "mount_file_id": "1yS-WvSS4s9TxOMvXWORS0VYSBAmvuFHJ",
      "authorship_tag": "ABX9TyMalmAZTqLZsXIA2yt48Hyj",
      "include_colab_link": true
    },
    "kernelspec": {
      "name": "python3",
      "display_name": "Python 3"
    },
    "language_info": {
      "name": "python"
    }
  },
  "cells": [
    {
      "cell_type": "markdown",
      "metadata": {
        "id": "view-in-github",
        "colab_type": "text"
      },
      "source": [
        "<a href=\"https://colab.research.google.com/github/CamilaSDantas/vacina_covid19_pernambuco/blob/main/An%C3%A1lisePEcovid_19.ipynb\" target=\"_parent\"><img src=\"https://colab.research.google.com/assets/colab-badge.svg\" alt=\"Open In Colab\"/></a>"
      ]
    },
    {
      "cell_type": "code",
      "metadata": {
        "colab": {
          "base_uri": "https://localhost:8080/"
        },
        "id": "riH8jNoISycR",
        "outputId": "0ae73827-0b50-4683-9a72-01de1ff72f98"
      },
      "source": [
        "pip install geopandas"
      ],
      "execution_count": 4,
      "outputs": [
        {
          "output_type": "stream",
          "name": "stdout",
          "text": [
            "Requirement already satisfied: geopandas in /usr/local/lib/python3.7/dist-packages (0.10.2)\n",
            "Requirement already satisfied: shapely>=1.6 in /usr/local/lib/python3.7/dist-packages (from geopandas) (1.8.0)\n",
            "Requirement already satisfied: pyproj>=2.2.0 in /usr/local/lib/python3.7/dist-packages (from geopandas) (3.2.1)\n",
            "Requirement already satisfied: fiona>=1.8 in /usr/local/lib/python3.7/dist-packages (from geopandas) (1.8.20)\n",
            "Requirement already satisfied: pandas>=0.25.0 in /usr/local/lib/python3.7/dist-packages (from geopandas) (1.1.5)\n",
            "Requirement already satisfied: cligj>=0.5 in /usr/local/lib/python3.7/dist-packages (from fiona>=1.8->geopandas) (0.7.2)\n",
            "Requirement already satisfied: setuptools in /usr/local/lib/python3.7/dist-packages (from fiona>=1.8->geopandas) (57.4.0)\n",
            "Requirement already satisfied: click-plugins>=1.0 in /usr/local/lib/python3.7/dist-packages (from fiona>=1.8->geopandas) (1.1.1)\n",
            "Requirement already satisfied: attrs>=17 in /usr/local/lib/python3.7/dist-packages (from fiona>=1.8->geopandas) (21.2.0)\n",
            "Requirement already satisfied: munch in /usr/local/lib/python3.7/dist-packages (from fiona>=1.8->geopandas) (2.5.0)\n",
            "Requirement already satisfied: certifi in /usr/local/lib/python3.7/dist-packages (from fiona>=1.8->geopandas) (2021.10.8)\n",
            "Requirement already satisfied: six>=1.7 in /usr/local/lib/python3.7/dist-packages (from fiona>=1.8->geopandas) (1.15.0)\n",
            "Requirement already satisfied: click>=4.0 in /usr/local/lib/python3.7/dist-packages (from fiona>=1.8->geopandas) (7.1.2)\n",
            "Requirement already satisfied: python-dateutil>=2.7.3 in /usr/local/lib/python3.7/dist-packages (from pandas>=0.25.0->geopandas) (2.8.2)\n",
            "Requirement already satisfied: pytz>=2017.2 in /usr/local/lib/python3.7/dist-packages (from pandas>=0.25.0->geopandas) (2018.9)\n",
            "Requirement already satisfied: numpy>=1.15.4 in /usr/local/lib/python3.7/dist-packages (from pandas>=0.25.0->geopandas) (1.19.5)\n"
          ]
        }
      ]
    },
    {
      "cell_type": "code",
      "metadata": {
        "id": "4TI9EUWpS17U"
      },
      "source": [
        "import pandas as pd\n",
        "import numpy as np\n",
        "import matplotlib.pyplot as plt\n",
        "import seaborn as sn\n",
        "from matplotlib import pyplot\n",
        "import random\n",
        "import geopandas as gpd"
      ],
      "execution_count": 5,
      "outputs": []
    },
    {
      "cell_type": "code",
      "metadata": {
        "id": "0oUhk-3PS-s5"
      },
      "source": [
        "municipios = pd.read_csv('/content/drive/MyDrive/Covid19 dados tcc/tcc/coordmunicipios.csv')\n",
        "idhpe = pd.read_csv('/content/drive/MyDrive/Covid19 dados tcc/tcc/idhpe.csv')\n",
        "covid = pd.read_csv('/content/drive/MyDrive/Covid19 dados tcc/PEdadosVACINA.csv',sep=';', decimal=',')\n",
        "idhm = pd.read_csv('/content/drive/MyDrive/Covid19 dados tcc/IDH10+.csv')\n",
        "corvacinados = pd.read_csv('/content/drive/MyDrive/Covid19 dados tcc/dadoscorvac.csv')\n",
        "peMunicipios = gpd.read_file('/content/drive/MyDrive/Covid19 dados tcc/tcc/PE_Mun97_region.shx')"
      ],
      "execution_count": 6,
      "outputs": []
    },
    {
      "cell_type": "code",
      "metadata": {
        "colab": {
          "base_uri": "https://localhost:8080/",
          "height": 206
        },
        "id": "R4KOKAxRS_LA",
        "outputId": "0643ab7e-c0ed-403f-d3c8-5c7df4a95210"
      },
      "source": [
        "municipios.head()"
      ],
      "execution_count": 7,
      "outputs": [
        {
          "output_type": "execute_result",
          "data": {
            "text/html": [
              "<div>\n",
              "<style scoped>\n",
              "    .dataframe tbody tr th:only-of-type {\n",
              "        vertical-align: middle;\n",
              "    }\n",
              "\n",
              "    .dataframe tbody tr th {\n",
              "        vertical-align: top;\n",
              "    }\n",
              "\n",
              "    .dataframe thead th {\n",
              "        text-align: right;\n",
              "    }\n",
              "</style>\n",
              "<table border=\"1\" class=\"dataframe\">\n",
              "  <thead>\n",
              "    <tr style=\"text-align: right;\">\n",
              "      <th></th>\n",
              "      <th>Codmun</th>\n",
              "      <th>Município</th>\n",
              "      <th>latitude</th>\n",
              "      <th>longitude</th>\n",
              "    </tr>\n",
              "  </thead>\n",
              "  <tbody>\n",
              "    <tr>\n",
              "      <th>0</th>\n",
              "      <td>260005</td>\n",
              "      <td>ABREU E LIMA</td>\n",
              "      <td>-7.90072</td>\n",
              "      <td>-34.8984</td>\n",
              "    </tr>\n",
              "    <tr>\n",
              "      <th>1</th>\n",
              "      <td>260010</td>\n",
              "      <td>AFOGADOS DA INGAZEIRA</td>\n",
              "      <td>-7.74312</td>\n",
              "      <td>-37631.0000</td>\n",
              "    </tr>\n",
              "    <tr>\n",
              "      <th>2</th>\n",
              "      <td>260020</td>\n",
              "      <td>AFRÂNIO</td>\n",
              "      <td>-8.51136</td>\n",
              "      <td>-41.0095</td>\n",
              "    </tr>\n",
              "    <tr>\n",
              "      <th>3</th>\n",
              "      <td>260030</td>\n",
              "      <td>AGRESTINA</td>\n",
              "      <td>-8.45966</td>\n",
              "      <td>-35.9447</td>\n",
              "    </tr>\n",
              "    <tr>\n",
              "      <th>4</th>\n",
              "      <td>260040</td>\n",
              "      <td>ÁGUA PRETA</td>\n",
              "      <td>-8.70609</td>\n",
              "      <td>-35.5263</td>\n",
              "    </tr>\n",
              "  </tbody>\n",
              "</table>\n",
              "</div>"
            ],
            "text/plain": [
              "   Codmun              Município  latitude   longitude\n",
              "0  260005           ABREU E LIMA  -7.90072    -34.8984\n",
              "1  260010  AFOGADOS DA INGAZEIRA  -7.74312 -37631.0000\n",
              "2  260020                AFRÂNIO  -8.51136    -41.0095\n",
              "3  260030              AGRESTINA  -8.45966    -35.9447\n",
              "4  260040             ÁGUA PRETA  -8.70609    -35.5263"
            ]
          },
          "metadata": {},
          "execution_count": 7
        }
      ]
    },
    {
      "cell_type": "code",
      "metadata": {
        "colab": {
          "base_uri": "https://localhost:8080/",
          "height": 206
        },
        "id": "f567h7dsTncB",
        "outputId": "512438f4-e3bf-4c23-b495-183b66d13109"
      },
      "source": [
        "idhpe.head()"
      ],
      "execution_count": 8,
      "outputs": [
        {
          "output_type": "execute_result",
          "data": {
            "text/html": [
              "<div>\n",
              "<style scoped>\n",
              "    .dataframe tbody tr th:only-of-type {\n",
              "        vertical-align: middle;\n",
              "    }\n",
              "\n",
              "    .dataframe tbody tr th {\n",
              "        vertical-align: top;\n",
              "    }\n",
              "\n",
              "    .dataframe thead th {\n",
              "        text-align: right;\n",
              "    }\n",
              "</style>\n",
              "<table border=\"1\" class=\"dataframe\">\n",
              "  <thead>\n",
              "    <tr style=\"text-align: right;\">\n",
              "      <th></th>\n",
              "      <th>Codmun6</th>\n",
              "      <th>Município</th>\n",
              "      <th>IDMH</th>\n",
              "      <th>IDHM_E</th>\n",
              "      <th>IDHM_L</th>\n",
              "      <th>IDHM_R</th>\n",
              "    </tr>\n",
              "  </thead>\n",
              "  <tbody>\n",
              "    <tr>\n",
              "      <th>0</th>\n",
              "      <td>260005</td>\n",
              "      <td>ABREU E LIMA</td>\n",
              "      <td>679</td>\n",
              "      <td>632</td>\n",
              "      <td>791</td>\n",
              "      <td>625</td>\n",
              "    </tr>\n",
              "    <tr>\n",
              "      <th>1</th>\n",
              "      <td>260010</td>\n",
              "      <td>AFOGADOS DA INGAZEIRA</td>\n",
              "      <td>657</td>\n",
              "      <td>565</td>\n",
              "      <td>807</td>\n",
              "      <td>623</td>\n",
              "    </tr>\n",
              "    <tr>\n",
              "      <th>2</th>\n",
              "      <td>260020</td>\n",
              "      <td>AFRÂNIO</td>\n",
              "      <td>588</td>\n",
              "      <td>493</td>\n",
              "      <td>761</td>\n",
              "      <td>542</td>\n",
              "    </tr>\n",
              "    <tr>\n",
              "      <th>3</th>\n",
              "      <td>260030</td>\n",
              "      <td>AGRESTINA</td>\n",
              "      <td>592</td>\n",
              "      <td>470</td>\n",
              "      <td>760</td>\n",
              "      <td>581</td>\n",
              "    </tr>\n",
              "    <tr>\n",
              "      <th>4</th>\n",
              "      <td>260040</td>\n",
              "      <td>ÁGUA PRETA</td>\n",
              "      <td>553</td>\n",
              "      <td>432</td>\n",
              "      <td>761</td>\n",
              "      <td>514</td>\n",
              "    </tr>\n",
              "  </tbody>\n",
              "</table>\n",
              "</div>"
            ],
            "text/plain": [
              "   Codmun6              Município  IDMH  IDHM_E  IDHM_L  IDHM_R\n",
              "0   260005           ABREU E LIMA   679     632     791     625\n",
              "1   260010  AFOGADOS DA INGAZEIRA   657     565     807     623\n",
              "2   260020                AFRÂNIO   588     493     761     542\n",
              "3   260030              AGRESTINA   592     470     760     581\n",
              "4   260040             ÁGUA PRETA   553     432     761     514"
            ]
          },
          "metadata": {},
          "execution_count": 8
        }
      ]
    },
    {
      "cell_type": "code",
      "metadata": {
        "colab": {
          "base_uri": "https://localhost:8080/",
          "height": 400
        },
        "id": "elNWnBjjTpFw",
        "outputId": "3189f0b3-8e5c-41a3-d83e-18d155f08b3b"
      },
      "source": [
        "covid.head()"
      ],
      "execution_count": 9,
      "outputs": [
        {
          "output_type": "execute_result",
          "data": {
            "text/html": [
              "<div>\n",
              "<style scoped>\n",
              "    .dataframe tbody tr th:only-of-type {\n",
              "        vertical-align: middle;\n",
              "    }\n",
              "\n",
              "    .dataframe tbody tr th {\n",
              "        vertical-align: top;\n",
              "    }\n",
              "\n",
              "    .dataframe thead th {\n",
              "        text-align: right;\n",
              "    }\n",
              "</style>\n",
              "<table border=\"1\" class=\"dataframe\">\n",
              "  <thead>\n",
              "    <tr style=\"text-align: right;\">\n",
              "      <th></th>\n",
              "      <th>document_id</th>\n",
              "      <th>paciente_id</th>\n",
              "      <th>paciente_idade</th>\n",
              "      <th>paciente_datanascimento</th>\n",
              "      <th>paciente_enumsexobiologico</th>\n",
              "      <th>paciente_racacor_codigo</th>\n",
              "      <th>paciente_racacor_valor</th>\n",
              "      <th>paciente_endereco_coibgemunicipio</th>\n",
              "      <th>paciente_endereco_copais</th>\n",
              "      <th>paciente_endereco_nmmunicipio</th>\n",
              "      <th>paciente_endereco_nmpais</th>\n",
              "      <th>paciente_endereco_uf</th>\n",
              "      <th>paciente_endereco_cep</th>\n",
              "      <th>paciente_nacionalidade_enumnacionalidade</th>\n",
              "      <th>estabelecimento_valor</th>\n",
              "      <th>estabelecimento_razaosocial</th>\n",
              "      <th>estalecimento_nofantasia</th>\n",
              "      <th>estabelecimento_municipio_codigo</th>\n",
              "      <th>estabelecimento_municipio_nome</th>\n",
              "      <th>estabelecimento_uf</th>\n",
              "      <th>vacina_grupoatendimento_codigo</th>\n",
              "      <th>vacina_grupoatendimento_nome</th>\n",
              "      <th>vacina_categoria_codigo</th>\n",
              "      <th>vacina_categoria_nome</th>\n",
              "      <th>vacina_lote</th>\n",
              "      <th>vacina_fabricante_nome</th>\n",
              "      <th>vacina_fabricante_referencia</th>\n",
              "      <th>vacina_dataaplicacao</th>\n",
              "      <th>vacina_descricao_dose</th>\n",
              "      <th>vacina_codigo</th>\n",
              "      <th>vacina_nome</th>\n",
              "      <th>sistema_origem</th>\n",
              "      <th>data_importacao_rnds</th>\n",
              "      <th>id_sistema_origem</th>\n",
              "    </tr>\n",
              "  </thead>\n",
              "  <tbody>\n",
              "    <tr>\n",
              "      <th>0</th>\n",
              "      <td>f2a49507-1215-412c-af15-bc198ec9f941-i0b0</td>\n",
              "      <td>31887a35f9788fc6f4b67634beead5e735baf76a4f73f3...</td>\n",
              "      <td>36.0</td>\n",
              "      <td>1985-02-16</td>\n",
              "      <td>M</td>\n",
              "      <td>3.0</td>\n",
              "      <td>PARDA</td>\n",
              "      <td>260530.0</td>\n",
              "      <td>10.0</td>\n",
              "      <td>EXU</td>\n",
              "      <td>BRASIL</td>\n",
              "      <td>PE</td>\n",
              "      <td>56230.0</td>\n",
              "      <td>B</td>\n",
              "      <td>2435799</td>\n",
              "      <td>MUNICIPIO DE EXU</td>\n",
              "      <td>UNIDADE DE SAUDE DA FAMILIA DO CENTRO I</td>\n",
              "      <td>260530</td>\n",
              "      <td>EXU</td>\n",
              "      <td>PE</td>\n",
              "      <td>201</td>\n",
              "      <td>Pessoas de 60 a 64 anos</td>\n",
              "      <td>2.0</td>\n",
              "      <td>Faixa Etária</td>\n",
              "      <td>FD7209</td>\n",
              "      <td>MINISTERIO DA SAUDE</td>\n",
              "      <td>Organization/00394544000851</td>\n",
              "      <td>2021-08-10</td>\n",
              "      <td>1ª Dose</td>\n",
              "      <td>87</td>\n",
              "      <td>Vacina covid-19 - BNT162b2 - BioNTech/Fosun Ph...</td>\n",
              "      <td>Novo PNI</td>\n",
              "      <td>2021-08-11T18:45:46.000Z</td>\n",
              "      <td>16341</td>\n",
              "    </tr>\n",
              "    <tr>\n",
              "      <th>1</th>\n",
              "      <td>fec72d41-b707-437c-9286-320e8d9fec12-i0b0</td>\n",
              "      <td>758a450a6eca97d274481584b30c456947a8a2a8e837de...</td>\n",
              "      <td>72.0</td>\n",
              "      <td>1948-08-15</td>\n",
              "      <td>F</td>\n",
              "      <td>3.0</td>\n",
              "      <td>PARDA</td>\n",
              "      <td>260845.0</td>\n",
              "      <td>10.0</td>\n",
              "      <td>LAGOA DO CARRO</td>\n",
              "      <td>BRASIL</td>\n",
              "      <td>PE</td>\n",
              "      <td>55820.0</td>\n",
              "      <td>B</td>\n",
              "      <td>2433001</td>\n",
              "      <td>PREFEITURA MUNICIPAL DE LAGOA DO CARRO</td>\n",
              "      <td>POLICLINICA SEVERINO NASCIMENTO CRUZ</td>\n",
              "      <td>260845</td>\n",
              "      <td>LAGOA DO CARRO</td>\n",
              "      <td>PE</td>\n",
              "      <td>203</td>\n",
              "      <td>Pessoas de 70 a 74 anos</td>\n",
              "      <td>2.0</td>\n",
              "      <td>Faixa Etária</td>\n",
              "      <td>210114</td>\n",
              "      <td>FUNDACAO BUTANTAN</td>\n",
              "      <td>Organization/61189445000156</td>\n",
              "      <td>2021-04-23</td>\n",
              "      <td>2ª Dose</td>\n",
              "      <td>86</td>\n",
              "      <td>Covid-19-Coronavac-Sinovac/Butantan</td>\n",
              "      <td>Novo PNI</td>\n",
              "      <td>2021-04-27T14:56:27.000Z</td>\n",
              "      <td>16341</td>\n",
              "    </tr>\n",
              "    <tr>\n",
              "      <th>2</th>\n",
              "      <td>0f28f593-d6c9-4be0-8ec3-4fd716cbe613-i0b0</td>\n",
              "      <td>f76aadad27f1aab693b105314ee28e7682941147f786ac...</td>\n",
              "      <td>59.0</td>\n",
              "      <td>1961-10-10</td>\n",
              "      <td>M</td>\n",
              "      <td>99.0</td>\n",
              "      <td>SEM INFORMACAO</td>\n",
              "      <td>260290.0</td>\n",
              "      <td>10.0</td>\n",
              "      <td>CABO DE SANTO AGOSTINHO</td>\n",
              "      <td>BRASIL</td>\n",
              "      <td>PE</td>\n",
              "      <td>NaN</td>\n",
              "      <td>B</td>\n",
              "      <td>20362</td>\n",
              "      <td>PREFEITURA MUNICIPAL DO CABO DE SANTO AGOSTINHO</td>\n",
              "      <td>USF SACRAMENTO</td>\n",
              "      <td>260290</td>\n",
              "      <td>CABO DE SANTO AGOSTINHO</td>\n",
              "      <td>PE</td>\n",
              "      <td>201</td>\n",
              "      <td>Pessoas de 18 a 64 anos</td>\n",
              "      <td>2.0</td>\n",
              "      <td>Faixa Etária</td>\n",
              "      <td>ABW4735</td>\n",
              "      <td>MINISTERIO DA SAUDE</td>\n",
              "      <td>Organization/00394544000851</td>\n",
              "      <td>2021-06-03</td>\n",
              "      <td>1ª Dose</td>\n",
              "      <td>89</td>\n",
              "      <td>Covid-19-AstraZeneca</td>\n",
              "      <td>Novo PNI</td>\n",
              "      <td>2021-06-07T17:45:57.000Z</td>\n",
              "      <td>16341</td>\n",
              "    </tr>\n",
              "    <tr>\n",
              "      <th>3</th>\n",
              "      <td>0bc830d8-f280-43d2-b777-3b339d3a2c11-i0b0</td>\n",
              "      <td>b152bda3e59de654003c5c59fab10eced492c536a1412c...</td>\n",
              "      <td>71.0</td>\n",
              "      <td>1949-09-18</td>\n",
              "      <td>M</td>\n",
              "      <td>4.0</td>\n",
              "      <td>AMARELA</td>\n",
              "      <td>261640.0</td>\n",
              "      <td>10.0</td>\n",
              "      <td>VITORIA DE SANTO ANTAO</td>\n",
              "      <td>BRASIL</td>\n",
              "      <td>PE</td>\n",
              "      <td>55602.0</td>\n",
              "      <td>B</td>\n",
              "      <td>2638045</td>\n",
              "      <td>FUNDO MUNICIPAL DE SAUDE DE VITORIA DE SANTO A...</td>\n",
              "      <td>U S F ALTO JOSE LEAL</td>\n",
              "      <td>261640</td>\n",
              "      <td>VITORIA DE SANTO ANTAO</td>\n",
              "      <td>PE</td>\n",
              "      <td>203</td>\n",
              "      <td>Pessoas de 70 a 74 anos</td>\n",
              "      <td>2.0</td>\n",
              "      <td>Faixa Etária</td>\n",
              "      <td>210142</td>\n",
              "      <td>FUNDACAO BUTANTAN</td>\n",
              "      <td>Organization/61189445000156</td>\n",
              "      <td>2021-04-20</td>\n",
              "      <td>2ª Dose</td>\n",
              "      <td>86</td>\n",
              "      <td>Covid-19-Coronavac-Sinovac/Butantan</td>\n",
              "      <td>Novo PNI</td>\n",
              "      <td>2021-04-23T13:46:52.000Z</td>\n",
              "      <td>16341</td>\n",
              "    </tr>\n",
              "    <tr>\n",
              "      <th>4</th>\n",
              "      <td>2acd9afb-2191-4b92-918e-d9bd46078117-i0b0</td>\n",
              "      <td>2ee331cd395a0c0b098670832fa4fa6d3fb8752bd37a05...</td>\n",
              "      <td>27.0</td>\n",
              "      <td>1994-03-20</td>\n",
              "      <td>F</td>\n",
              "      <td>3.0</td>\n",
              "      <td>PARDA</td>\n",
              "      <td>261610.0</td>\n",
              "      <td>10.0</td>\n",
              "      <td>VERDEJANTE</td>\n",
              "      <td>BRASIL</td>\n",
              "      <td>PE</td>\n",
              "      <td>56120.0</td>\n",
              "      <td>B</td>\n",
              "      <td>2714736</td>\n",
              "      <td>PREFEITURA MUNICIPAL DE VERDEJANTE</td>\n",
              "      <td>UNIDADE DE SAUDE DA FAMILIA DE GROSSOS</td>\n",
              "      <td>261610</td>\n",
              "      <td>VERDEJANTE</td>\n",
              "      <td>PE</td>\n",
              "      <td>201</td>\n",
              "      <td>Pessoas de 18 a 64 anos</td>\n",
              "      <td>2.0</td>\n",
              "      <td>Faixa Etária</td>\n",
              "      <td>216VCD206Z</td>\n",
              "      <td>FUNDACAO OSWALDO CRUZ</td>\n",
              "      <td>Organization/33781055000135</td>\n",
              "      <td>2021-07-30</td>\n",
              "      <td>1ª Dose</td>\n",
              "      <td>85</td>\n",
              "      <td>Vacina Covid-19 - Covishield</td>\n",
              "      <td>Novo PNI</td>\n",
              "      <td>2021-08-06T13:45:44.000Z</td>\n",
              "      <td>16341</td>\n",
              "    </tr>\n",
              "  </tbody>\n",
              "</table>\n",
              "</div>"
            ],
            "text/plain": [
              "                                 document_id  ... id_sistema_origem\n",
              "0  f2a49507-1215-412c-af15-bc198ec9f941-i0b0  ...             16341\n",
              "1  fec72d41-b707-437c-9286-320e8d9fec12-i0b0  ...             16341\n",
              "2  0f28f593-d6c9-4be0-8ec3-4fd716cbe613-i0b0  ...             16341\n",
              "3  0bc830d8-f280-43d2-b777-3b339d3a2c11-i0b0  ...             16341\n",
              "4  2acd9afb-2191-4b92-918e-d9bd46078117-i0b0  ...             16341\n",
              "\n",
              "[5 rows x 34 columns]"
            ]
          },
          "metadata": {},
          "execution_count": 9
        }
      ]
    },
    {
      "cell_type": "code",
      "metadata": {
        "colab": {
          "base_uri": "https://localhost:8080/"
        },
        "id": "8wyEliwdTq8Q",
        "outputId": "59dfc535-2e80-42c5-a81d-a5c28434ebbb"
      },
      "source": [
        "idhpe.info()"
      ],
      "execution_count": 10,
      "outputs": [
        {
          "output_type": "stream",
          "name": "stdout",
          "text": [
            "<class 'pandas.core.frame.DataFrame'>\n",
            "RangeIndex: 185 entries, 0 to 184\n",
            "Data columns (total 6 columns):\n",
            " #   Column     Non-Null Count  Dtype \n",
            "---  ------     --------------  ----- \n",
            " 0   Codmun6    185 non-null    int64 \n",
            " 1   Município  185 non-null    object\n",
            " 2   IDMH       185 non-null    int64 \n",
            " 3   IDHM_E     185 non-null    int64 \n",
            " 4   IDHM_L     185 non-null    int64 \n",
            " 5   IDHM_R     185 non-null    int64 \n",
            "dtypes: int64(5), object(1)\n",
            "memory usage: 8.8+ KB\n"
          ]
        }
      ]
    },
    {
      "cell_type": "code",
      "metadata": {
        "id": "2KZ2Ff3ATs2P"
      },
      "source": [
        "colunas = ['paciente_idade', 'paciente_enumsexobiologico', 'paciente_racacor_valor','estabelecimento_municipio_codigo', 'paciente_endereco_nmmunicipio', 'vacina_grupoatendimento_nome', 'vacina_nome']\n",
        "covid = covid[colunas]"
      ],
      "execution_count": 11,
      "outputs": []
    },
    {
      "cell_type": "code",
      "metadata": {
        "colab": {
          "base_uri": "https://localhost:8080/",
          "height": 383
        },
        "id": "IETCmZYRTujw",
        "outputId": "36a7f9d1-b138-4240-db3c-c0c6e7cf0c4e"
      },
      "source": [
        "covid.head()"
      ],
      "execution_count": 12,
      "outputs": [
        {
          "output_type": "execute_result",
          "data": {
            "text/html": [
              "<div>\n",
              "<style scoped>\n",
              "    .dataframe tbody tr th:only-of-type {\n",
              "        vertical-align: middle;\n",
              "    }\n",
              "\n",
              "    .dataframe tbody tr th {\n",
              "        vertical-align: top;\n",
              "    }\n",
              "\n",
              "    .dataframe thead th {\n",
              "        text-align: right;\n",
              "    }\n",
              "</style>\n",
              "<table border=\"1\" class=\"dataframe\">\n",
              "  <thead>\n",
              "    <tr style=\"text-align: right;\">\n",
              "      <th></th>\n",
              "      <th>paciente_idade</th>\n",
              "      <th>paciente_enumsexobiologico</th>\n",
              "      <th>paciente_racacor_valor</th>\n",
              "      <th>estabelecimento_municipio_codigo</th>\n",
              "      <th>paciente_endereco_nmmunicipio</th>\n",
              "      <th>vacina_grupoatendimento_nome</th>\n",
              "      <th>vacina_nome</th>\n",
              "    </tr>\n",
              "  </thead>\n",
              "  <tbody>\n",
              "    <tr>\n",
              "      <th>0</th>\n",
              "      <td>36.0</td>\n",
              "      <td>M</td>\n",
              "      <td>PARDA</td>\n",
              "      <td>260530</td>\n",
              "      <td>EXU</td>\n",
              "      <td>Pessoas de 60 a 64 anos</td>\n",
              "      <td>Vacina covid-19 - BNT162b2 - BioNTech/Fosun Ph...</td>\n",
              "    </tr>\n",
              "    <tr>\n",
              "      <th>1</th>\n",
              "      <td>72.0</td>\n",
              "      <td>F</td>\n",
              "      <td>PARDA</td>\n",
              "      <td>260845</td>\n",
              "      <td>LAGOA DO CARRO</td>\n",
              "      <td>Pessoas de 70 a 74 anos</td>\n",
              "      <td>Covid-19-Coronavac-Sinovac/Butantan</td>\n",
              "    </tr>\n",
              "    <tr>\n",
              "      <th>2</th>\n",
              "      <td>59.0</td>\n",
              "      <td>M</td>\n",
              "      <td>SEM INFORMACAO</td>\n",
              "      <td>260290</td>\n",
              "      <td>CABO DE SANTO AGOSTINHO</td>\n",
              "      <td>Pessoas de 18 a 64 anos</td>\n",
              "      <td>Covid-19-AstraZeneca</td>\n",
              "    </tr>\n",
              "    <tr>\n",
              "      <th>3</th>\n",
              "      <td>71.0</td>\n",
              "      <td>M</td>\n",
              "      <td>AMARELA</td>\n",
              "      <td>261640</td>\n",
              "      <td>VITORIA DE SANTO ANTAO</td>\n",
              "      <td>Pessoas de 70 a 74 anos</td>\n",
              "      <td>Covid-19-Coronavac-Sinovac/Butantan</td>\n",
              "    </tr>\n",
              "    <tr>\n",
              "      <th>4</th>\n",
              "      <td>27.0</td>\n",
              "      <td>F</td>\n",
              "      <td>PARDA</td>\n",
              "      <td>261610</td>\n",
              "      <td>VERDEJANTE</td>\n",
              "      <td>Pessoas de 18 a 64 anos</td>\n",
              "      <td>Vacina Covid-19 - Covishield</td>\n",
              "    </tr>\n",
              "  </tbody>\n",
              "</table>\n",
              "</div>"
            ],
            "text/plain": [
              "   paciente_idade  ...                                        vacina_nome\n",
              "0            36.0  ...  Vacina covid-19 - BNT162b2 - BioNTech/Fosun Ph...\n",
              "1            72.0  ...                Covid-19-Coronavac-Sinovac/Butantan\n",
              "2            59.0  ...                               Covid-19-AstraZeneca\n",
              "3            71.0  ...                Covid-19-Coronavac-Sinovac/Butantan\n",
              "4            27.0  ...                       Vacina Covid-19 - Covishield\n",
              "\n",
              "[5 rows x 7 columns]"
            ]
          },
          "metadata": {},
          "execution_count": 12
        }
      ]
    },
    {
      "cell_type": "code",
      "metadata": {
        "id": "VKkZdpdzTwWQ"
      },
      "source": [
        "covid.dropna(subset= ['paciente_racacor_valor'], inplace = True)"
      ],
      "execution_count": 13,
      "outputs": []
    },
    {
      "cell_type": "code",
      "metadata": {
        "colab": {
          "base_uri": "https://localhost:8080/"
        },
        "id": "BE1kua8oT1PQ",
        "outputId": "bb99d9cc-d66d-4bec-a36e-c6e59db0e398"
      },
      "source": [
        "covid.info()"
      ],
      "execution_count": 14,
      "outputs": [
        {
          "output_type": "stream",
          "name": "stdout",
          "text": [
            "<class 'pandas.core.frame.DataFrame'>\n",
            "Int64Index: 10056886 entries, 0 to 10056893\n",
            "Data columns (total 7 columns):\n",
            " #   Column                            Dtype  \n",
            "---  ------                            -----  \n",
            " 0   paciente_idade                    float64\n",
            " 1   paciente_enumsexobiologico        object \n",
            " 2   paciente_racacor_valor            object \n",
            " 3   estabelecimento_municipio_codigo  int64  \n",
            " 4   paciente_endereco_nmmunicipio     object \n",
            " 5   vacina_grupoatendimento_nome      object \n",
            " 6   vacina_nome                       object \n",
            "dtypes: float64(1), int64(1), object(5)\n",
            "memory usage: 613.8+ MB\n"
          ]
        }
      ]
    },
    {
      "cell_type": "code",
      "metadata": {
        "colab": {
          "base_uri": "https://localhost:8080/",
          "height": 586
        },
        "id": "JDejD_hBT3DQ",
        "outputId": "439d10a7-9a43-4a25-c2ee-db789c64c825"
      },
      "source": [
        "covid['vacina_nome'].value_counts().plot(kind='bar')"
      ],
      "execution_count": 15,
      "outputs": [
        {
          "output_type": "execute_result",
          "data": {
            "text/plain": [
              "<matplotlib.axes._subplots.AxesSubplot at 0x7f63c30ffb50>"
            ]
          },
          "metadata": {},
          "execution_count": 15
        },
        {
          "output_type": "display_data",
          "data": {
            "image/png": "[encoded data removed]",
            "text/plain": [
              "<Figure size 432x288 with 1 Axes>"
            ]
          },
          "metadata": {
            "needs_background": "light"
          }
        }
      ]
    },
    {
      "cell_type": "code",
      "metadata": {
        "id": "Jz9RFUCtT5Cf"
      },
      "source": [
        "sexo = covid['paciente_enumsexobiologico'].value_counts()"
      ],
      "execution_count": 16,
      "outputs": []
    },
    {
      "cell_type": "code",
      "metadata": {
        "colab": {
          "base_uri": "https://localhost:8080/"
        },
        "id": "eWtM7g-bT7XA",
        "outputId": "d24e0e9f-98ba-4a84-88fc-5f1b268f5f2c"
      },
      "source": [
        "sexo.head()\n"
      ],
      "execution_count": 17,
      "outputs": [
        {
          "output_type": "execute_result",
          "data": {
            "text/plain": [
              "F    5538263\n",
              "M    4518611\n",
              "I         12\n",
              "Name: paciente_enumsexobiologico, dtype: int64"
            ]
          },
          "metadata": {},
          "execution_count": 17
        }
      ]
    },
    {
      "cell_type": "code",
      "metadata": {
        "colab": {
          "base_uri": "https://localhost:8080/",
          "height": 296
        },
        "id": "5Ti2m3bpT_kB",
        "outputId": "0d5408eb-4ea3-42fd-b89e-13b944c642ee"
      },
      "source": [
        "sexo.plot(kind='barh', color = ['red', 'blue'])"
      ],
      "execution_count": 18,
      "outputs": [
        {
          "output_type": "execute_result",
          "data": {
            "text/plain": [
              "<matplotlib.axes._subplots.AxesSubplot at 0x7f63ae886c50>"
            ]
          },
          "metadata": {},
          "execution_count": 18
        },
        {
          "output_type": "display_data",
          "data": {
            "image/png": "[encoded data removed]",
            "text/plain": [
              "<Figure size 432x288 with 1 Axes>"
            ]
          },
          "metadata": {
            "needs_background": "light"
          }
        }
      ]
    },
    {
      "cell_type": "code",
      "metadata": {
        "colab": {
          "base_uri": "https://localhost:8080/",
          "height": 300
        },
        "id": "tmKoLSoHT_3Q",
        "outputId": "da78d308-0d36-416f-efb4-2907e117577a"
      },
      "source": [
        "idhpe.describe()"
      ],
      "execution_count": 19,
      "outputs": [
        {
          "output_type": "execute_result",
          "data": {
            "text/html": [
              "<div>\n",
              "<style scoped>\n",
              "    .dataframe tbody tr th:only-of-type {\n",
              "        vertical-align: middle;\n",
              "    }\n",
              "\n",
              "    .dataframe tbody tr th {\n",
              "        vertical-align: top;\n",
              "    }\n",
              "\n",
              "    .dataframe thead th {\n",
              "        text-align: right;\n",
              "    }\n",
              "</style>\n",
              "<table border=\"1\" class=\"dataframe\">\n",
              "  <thead>\n",
              "    <tr style=\"text-align: right;\">\n",
              "      <th></th>\n",
              "      <th>Codmun6</th>\n",
              "      <th>IDMH</th>\n",
              "      <th>IDHM_E</th>\n",
              "      <th>IDHM_L</th>\n",
              "      <th>IDHM_R</th>\n",
              "    </tr>\n",
              "  </thead>\n",
              "  <tbody>\n",
              "    <tr>\n",
              "      <th>count</th>\n",
              "      <td>185.000000</td>\n",
              "      <td>185.000000</td>\n",
              "      <td>185.000000</td>\n",
              "      <td>185.000000</td>\n",
              "      <td>185.000000</td>\n",
              "    </tr>\n",
              "    <tr>\n",
              "      <th>mean</th>\n",
              "      <td>260823.702703</td>\n",
              "      <td>596.248649</td>\n",
              "      <td>490.556757</td>\n",
              "      <td>755.659459</td>\n",
              "      <td>574.378378</td>\n",
              "    </tr>\n",
              "    <tr>\n",
              "      <th>std</th>\n",
              "      <td>470.173966</td>\n",
              "      <td>47.514561</td>\n",
              "      <td>67.966170</td>\n",
              "      <td>34.984278</td>\n",
              "      <td>47.082924</td>\n",
              "    </tr>\n",
              "    <tr>\n",
              "      <th>min</th>\n",
              "      <td>260005.000000</td>\n",
              "      <td>487.000000</td>\n",
              "      <td>354.000000</td>\n",
              "      <td>676.000000</td>\n",
              "      <td>477.000000</td>\n",
              "    </tr>\n",
              "    <tr>\n",
              "      <th>25%</th>\n",
              "      <td>260420.000000</td>\n",
              "      <td>567.000000</td>\n",
              "      <td>443.000000</td>\n",
              "      <td>731.000000</td>\n",
              "      <td>543.000000</td>\n",
              "    </tr>\n",
              "    <tr>\n",
              "      <th>50%</th>\n",
              "      <td>260820.000000</td>\n",
              "      <td>593.000000</td>\n",
              "      <td>489.000000</td>\n",
              "      <td>758.000000</td>\n",
              "      <td>566.000000</td>\n",
              "    </tr>\n",
              "    <tr>\n",
              "      <th>75%</th>\n",
              "      <td>261230.000000</td>\n",
              "      <td>613.000000</td>\n",
              "      <td>525.000000</td>\n",
              "      <td>778.000000</td>\n",
              "      <td>598.000000</td>\n",
              "    </tr>\n",
              "    <tr>\n",
              "      <th>max</th>\n",
              "      <td>261650.000000</td>\n",
              "      <td>788.000000</td>\n",
              "      <td>748.000000</td>\n",
              "      <td>839.000000</td>\n",
              "      <td>798.000000</td>\n",
              "    </tr>\n",
              "  </tbody>\n",
              "</table>\n",
              "</div>"
            ],
            "text/plain": [
              "             Codmun6        IDMH      IDHM_E      IDHM_L      IDHM_R\n",
              "count     185.000000  185.000000  185.000000  185.000000  185.000000\n",
              "mean   260823.702703  596.248649  490.556757  755.659459  574.378378\n",
              "std       470.173966   47.514561   67.966170   34.984278   47.082924\n",
              "min    260005.000000  487.000000  354.000000  676.000000  477.000000\n",
              "25%    260420.000000  567.000000  443.000000  731.000000  543.000000\n",
              "50%    260820.000000  593.000000  489.000000  758.000000  566.000000\n",
              "75%    261230.000000  613.000000  525.000000  778.000000  598.000000\n",
              "max    261650.000000  788.000000  748.000000  839.000000  798.000000"
            ]
          },
          "metadata": {},
          "execution_count": 19
        }
      ]
    },
    {
      "cell_type": "code",
      "metadata": {
        "id": "BUceLESmUBbA"
      },
      "source": [
        "vacinacao = pd.merge(idhpe,covid,left_on='Codmun6', right_on='estabelecimento_municipio_codigo')"
      ],
      "execution_count": 20,
      "outputs": []
    },
    {
      "cell_type": "code",
      "metadata": {
        "colab": {
          "base_uri": "https://localhost:8080/",
          "height": 435
        },
        "id": "i7KhcC6yUDRQ",
        "outputId": "96419a5b-f433-4980-d3f4-c50a23bd437b"
      },
      "source": [
        "vacinacao.head()"
      ],
      "execution_count": 21,
      "outputs": [
        {
          "output_type": "execute_result",
          "data": {
            "text/html": [
              "<div>\n",
              "<style scoped>\n",
              "    .dataframe tbody tr th:only-of-type {\n",
              "        vertical-align: middle;\n",
              "    }\n",
              "\n",
              "    .dataframe tbody tr th {\n",
              "        vertical-align: top;\n",
              "    }\n",
              "\n",
              "    .dataframe thead th {\n",
              "        text-align: right;\n",
              "    }\n",
              "</style>\n",
              "<table border=\"1\" class=\"dataframe\">\n",
              "  <thead>\n",
              "    <tr style=\"text-align: right;\">\n",
              "      <th></th>\n",
              "      <th>Codmun6</th>\n",
              "      <th>Município</th>\n",
              "      <th>IDMH</th>\n",
              "      <th>IDHM_E</th>\n",
              "      <th>IDHM_L</th>\n",
              "      <th>IDHM_R</th>\n",
              "      <th>paciente_idade</th>\n",
              "      <th>paciente_enumsexobiologico</th>\n",
              "      <th>paciente_racacor_valor</th>\n",
              "      <th>estabelecimento_municipio_codigo</th>\n",
              "      <th>paciente_endereco_nmmunicipio</th>\n",
              "      <th>vacina_grupoatendimento_nome</th>\n",
              "      <th>vacina_nome</th>\n",
              "    </tr>\n",
              "  </thead>\n",
              "  <tbody>\n",
              "    <tr>\n",
              "      <th>0</th>\n",
              "      <td>260005</td>\n",
              "      <td>ABREU E LIMA</td>\n",
              "      <td>679</td>\n",
              "      <td>632</td>\n",
              "      <td>791</td>\n",
              "      <td>625</td>\n",
              "      <td>48.0</td>\n",
              "      <td>M</td>\n",
              "      <td>SEM INFORMACAO</td>\n",
              "      <td>260005</td>\n",
              "      <td>RECIFE</td>\n",
              "      <td>Outros</td>\n",
              "      <td>Covid-19-Coronavac-Sinovac/Butantan</td>\n",
              "    </tr>\n",
              "    <tr>\n",
              "      <th>1</th>\n",
              "      <td>260005</td>\n",
              "      <td>ABREU E LIMA</td>\n",
              "      <td>679</td>\n",
              "      <td>632</td>\n",
              "      <td>791</td>\n",
              "      <td>625</td>\n",
              "      <td>53.0</td>\n",
              "      <td>M</td>\n",
              "      <td>PRETA</td>\n",
              "      <td>260005</td>\n",
              "      <td>JABOATAO DOS GUARARAPES</td>\n",
              "      <td>Ensino Básico</td>\n",
              "      <td>Vacina Covid-19 - Covishield</td>\n",
              "    </tr>\n",
              "    <tr>\n",
              "      <th>2</th>\n",
              "      <td>260005</td>\n",
              "      <td>ABREU E LIMA</td>\n",
              "      <td>679</td>\n",
              "      <td>632</td>\n",
              "      <td>791</td>\n",
              "      <td>625</td>\n",
              "      <td>26.0</td>\n",
              "      <td>M</td>\n",
              "      <td>SEM INFORMACAO</td>\n",
              "      <td>260005</td>\n",
              "      <td>IGARASSU</td>\n",
              "      <td>Pessoas de 60 a 64 anos</td>\n",
              "      <td>Vacina covid-19 - BNT162b2 - BioNTech/Fosun Ph...</td>\n",
              "    </tr>\n",
              "    <tr>\n",
              "      <th>3</th>\n",
              "      <td>260005</td>\n",
              "      <td>ABREU E LIMA</td>\n",
              "      <td>679</td>\n",
              "      <td>632</td>\n",
              "      <td>791</td>\n",
              "      <td>625</td>\n",
              "      <td>17.0</td>\n",
              "      <td>M</td>\n",
              "      <td>PARDA</td>\n",
              "      <td>260005</td>\n",
              "      <td>ABREU E LIMA</td>\n",
              "      <td>NaN</td>\n",
              "      <td>Vacina covid-19 - BNT162b2 - BioNTech/Fosun Ph...</td>\n",
              "    </tr>\n",
              "    <tr>\n",
              "      <th>4</th>\n",
              "      <td>260005</td>\n",
              "      <td>ABREU E LIMA</td>\n",
              "      <td>679</td>\n",
              "      <td>632</td>\n",
              "      <td>791</td>\n",
              "      <td>625</td>\n",
              "      <td>17.0</td>\n",
              "      <td>F</td>\n",
              "      <td>PRETA</td>\n",
              "      <td>260005</td>\n",
              "      <td>ABREU E LIMA</td>\n",
              "      <td>NaN</td>\n",
              "      <td>Vacina covid-19 - BNT162b2 - BioNTech/Fosun Ph...</td>\n",
              "    </tr>\n",
              "  </tbody>\n",
              "</table>\n",
              "</div>"
            ],
            "text/plain": [
              "   Codmun6  ...                                        vacina_nome\n",
              "0   260005  ...                Covid-19-Coronavac-Sinovac/Butantan\n",
              "1   260005  ...                       Vacina Covid-19 - Covishield\n",
              "2   260005  ...  Vacina covid-19 - BNT162b2 - BioNTech/Fosun Ph...\n",
              "3   260005  ...  Vacina covid-19 - BNT162b2 - BioNTech/Fosun Ph...\n",
              "4   260005  ...  Vacina covid-19 - BNT162b2 - BioNTech/Fosun Ph...\n",
              "\n",
              "[5 rows x 13 columns]"
            ]
          },
          "metadata": {},
          "execution_count": 21
        }
      ]
    },
    {
      "cell_type": "code",
      "metadata": {
        "id": "2v0RLlDXUJoK"
      },
      "source": [
        "vacinaspe = pd.merge(vacinacao, municipios, left_on='Codmun6', right_on='Codmun')"
      ],
      "execution_count": 22,
      "outputs": []
    },
    {
      "cell_type": "code",
      "metadata": {
        "colab": {
          "base_uri": "https://localhost:8080/",
          "height": 435
        },
        "id": "11mW3mVwULYQ",
        "outputId": "79004883-735a-457c-d3d1-abcdacfcc13f"
      },
      "source": [
        "vacinaspe.head()"
      ],
      "execution_count": 23,
      "outputs": [
        {
          "output_type": "execute_result",
          "data": {
            "text/html": [
              "<div>\n",
              "<style scoped>\n",
              "    .dataframe tbody tr th:only-of-type {\n",
              "        vertical-align: middle;\n",
              "    }\n",
              "\n",
              "    .dataframe tbody tr th {\n",
              "        vertical-align: top;\n",
              "    }\n",
              "\n",
              "    .dataframe thead th {\n",
              "        text-align: right;\n",
              "    }\n",
              "</style>\n",
              "<table border=\"1\" class=\"dataframe\">\n",
              "  <thead>\n",
              "    <tr style=\"text-align: right;\">\n",
              "      <th></th>\n",
              "      <th>Codmun6</th>\n",
              "      <th>Município_x</th>\n",
              "      <th>IDMH</th>\n",
              "      <th>IDHM_E</th>\n",
              "      <th>IDHM_L</th>\n",
              "      <th>IDHM_R</th>\n",
              "      <th>paciente_idade</th>\n",
              "      <th>paciente_enumsexobiologico</th>\n",
              "      <th>paciente_racacor_valor</th>\n",
              "      <th>estabelecimento_municipio_codigo</th>\n",
              "      <th>paciente_endereco_nmmunicipio</th>\n",
              "      <th>vacina_grupoatendimento_nome</th>\n",
              "      <th>vacina_nome</th>\n",
              "      <th>Codmun</th>\n",
              "      <th>Município_y</th>\n",
              "      <th>latitude</th>\n",
              "      <th>longitude</th>\n",
              "    </tr>\n",
              "  </thead>\n",
              "  <tbody>\n",
              "    <tr>\n",
              "      <th>0</th>\n",
              "      <td>260005</td>\n",
              "      <td>ABREU E LIMA</td>\n",
              "      <td>679</td>\n",
              "      <td>632</td>\n",
              "      <td>791</td>\n",
              "      <td>625</td>\n",
              "      <td>48.0</td>\n",
              "      <td>M</td>\n",
              "      <td>SEM INFORMACAO</td>\n",
              "      <td>260005</td>\n",
              "      <td>RECIFE</td>\n",
              "      <td>Outros</td>\n",
              "      <td>Covid-19-Coronavac-Sinovac/Butantan</td>\n",
              "      <td>260005</td>\n",
              "      <td>ABREU E LIMA</td>\n",
              "      <td>-7.90072</td>\n",
              "      <td>-34.8984</td>\n",
              "    </tr>\n",
              "    <tr>\n",
              "      <th>1</th>\n",
              "      <td>260005</td>\n",
              "      <td>ABREU E LIMA</td>\n",
              "      <td>679</td>\n",
              "      <td>632</td>\n",
              "      <td>791</td>\n",
              "      <td>625</td>\n",
              "      <td>53.0</td>\n",
              "      <td>M</td>\n",
              "      <td>PRETA</td>\n",
              "      <td>260005</td>\n",
              "      <td>JABOATAO DOS GUARARAPES</td>\n",
              "      <td>Ensino Básico</td>\n",
              "      <td>Vacina Covid-19 - Covishield</td>\n",
              "      <td>260005</td>\n",
              "      <td>ABREU E LIMA</td>\n",
              "      <td>-7.90072</td>\n",
              "      <td>-34.8984</td>\n",
              "    </tr>\n",
              "    <tr>\n",
              "      <th>2</th>\n",
              "      <td>260005</td>\n",
              "      <td>ABREU E LIMA</td>\n",
              "      <td>679</td>\n",
              "      <td>632</td>\n",
              "      <td>791</td>\n",
              "      <td>625</td>\n",
              "      <td>26.0</td>\n",
              "      <td>M</td>\n",
              "      <td>SEM INFORMACAO</td>\n",
              "      <td>260005</td>\n",
              "      <td>IGARASSU</td>\n",
              "      <td>Pessoas de 60 a 64 anos</td>\n",
              "      <td>Vacina covid-19 - BNT162b2 - BioNTech/Fosun Ph...</td>\n",
              "      <td>260005</td>\n",
              "      <td>ABREU E LIMA</td>\n",
              "      <td>-7.90072</td>\n",
              "      <td>-34.8984</td>\n",
              "    </tr>\n",
              "    <tr>\n",
              "      <th>3</th>\n",
              "      <td>260005</td>\n",
              "      <td>ABREU E LIMA</td>\n",
              "      <td>679</td>\n",
              "      <td>632</td>\n",
              "      <td>791</td>\n",
              "      <td>625</td>\n",
              "      <td>17.0</td>\n",
              "      <td>M</td>\n",
              "      <td>PARDA</td>\n",
              "      <td>260005</td>\n",
              "      <td>ABREU E LIMA</td>\n",
              "      <td>NaN</td>\n",
              "      <td>Vacina covid-19 - BNT162b2 - BioNTech/Fosun Ph...</td>\n",
              "      <td>260005</td>\n",
              "      <td>ABREU E LIMA</td>\n",
              "      <td>-7.90072</td>\n",
              "      <td>-34.8984</td>\n",
              "    </tr>\n",
              "    <tr>\n",
              "      <th>4</th>\n",
              "      <td>260005</td>\n",
              "      <td>ABREU E LIMA</td>\n",
              "      <td>679</td>\n",
              "      <td>632</td>\n",
              "      <td>791</td>\n",
              "      <td>625</td>\n",
              "      <td>17.0</td>\n",
              "      <td>F</td>\n",
              "      <td>PRETA</td>\n",
              "      <td>260005</td>\n",
              "      <td>ABREU E LIMA</td>\n",
              "      <td>NaN</td>\n",
              "      <td>Vacina covid-19 - BNT162b2 - BioNTech/Fosun Ph...</td>\n",
              "      <td>260005</td>\n",
              "      <td>ABREU E LIMA</td>\n",
              "      <td>-7.90072</td>\n",
              "      <td>-34.8984</td>\n",
              "    </tr>\n",
              "  </tbody>\n",
              "</table>\n",
              "</div>"
            ],
            "text/plain": [
              "   Codmun6   Município_x  IDMH  ...   Município_y  latitude  longitude\n",
              "0   260005  ABREU E LIMA   679  ...  ABREU E LIMA  -7.90072   -34.8984\n",
              "1   260005  ABREU E LIMA   679  ...  ABREU E LIMA  -7.90072   -34.8984\n",
              "2   260005  ABREU E LIMA   679  ...  ABREU E LIMA  -7.90072   -34.8984\n",
              "3   260005  ABREU E LIMA   679  ...  ABREU E LIMA  -7.90072   -34.8984\n",
              "4   260005  ABREU E LIMA   679  ...  ABREU E LIMA  -7.90072   -34.8984\n",
              "\n",
              "[5 rows x 17 columns]"
            ]
          },
          "metadata": {},
          "execution_count": 23
        }
      ]
    },
    {
      "cell_type": "code",
      "metadata": {
        "colab": {
          "base_uri": "https://localhost:8080/",
          "height": 206
        },
        "id": "SWg1_d15UNMi",
        "outputId": "931d2c85-2307-463b-a515-90dfe0be6aa7"
      },
      "source": [
        "corvacinados.head()"
      ],
      "execution_count": 24,
      "outputs": [
        {
          "output_type": "execute_result",
          "data": {
            "text/html": [
              "<div>\n",
              "<style scoped>\n",
              "    .dataframe tbody tr th:only-of-type {\n",
              "        vertical-align: middle;\n",
              "    }\n",
              "\n",
              "    .dataframe tbody tr th {\n",
              "        vertical-align: top;\n",
              "    }\n",
              "\n",
              "    .dataframe thead th {\n",
              "        text-align: right;\n",
              "    }\n",
              "</style>\n",
              "<table border=\"1\" class=\"dataframe\">\n",
              "  <thead>\n",
              "    <tr style=\"text-align: right;\">\n",
              "      <th></th>\n",
              "      <th>COR</th>\n",
              "      <th>QUANTIDADE</th>\n",
              "    </tr>\n",
              "  </thead>\n",
              "  <tbody>\n",
              "    <tr>\n",
              "      <th>0</th>\n",
              "      <td>Parda</td>\n",
              "      <td>652816</td>\n",
              "    </tr>\n",
              "    <tr>\n",
              "      <th>1</th>\n",
              "      <td>Branca</td>\n",
              "      <td>534005</td>\n",
              "    </tr>\n",
              "    <tr>\n",
              "      <th>2</th>\n",
              "      <td>Preta</td>\n",
              "      <td>184963</td>\n",
              "    </tr>\n",
              "    <tr>\n",
              "      <th>3</th>\n",
              "      <td>Amarela</td>\n",
              "      <td>27805</td>\n",
              "    </tr>\n",
              "    <tr>\n",
              "      <th>4</th>\n",
              "      <td>Indígena</td>\n",
              "      <td>5297</td>\n",
              "    </tr>\n",
              "  </tbody>\n",
              "</table>\n",
              "</div>"
            ],
            "text/plain": [
              "        COR  QUANTIDADE\n",
              "0     Parda      652816\n",
              "1    Branca      534005\n",
              "2     Preta      184963\n",
              "3   Amarela       27805\n",
              "4  Indígena        5297"
            ]
          },
          "metadata": {},
          "execution_count": 24
        }
      ]
    },
    {
      "cell_type": "code",
      "metadata": {
        "colab": {
          "base_uri": "https://localhost:8080/",
          "height": 280
        },
        "id": "XmNshA4eUQag",
        "outputId": "9394960b-0daf-4312-9e55-7f0b3dffa920"
      },
      "source": [
        "corvacinados.plot(kind='bar', color = ['blue'])"
      ],
      "execution_count": 25,
      "outputs": [
        {
          "output_type": "execute_result",
          "data": {
            "text/plain": [
              "<matplotlib.axes._subplots.AxesSubplot at 0x7f6308167b10>"
            ]
          },
          "metadata": {},
          "execution_count": 25
        },
        {
          "output_type": "display_data",
          "data": {
            "image/png": "[encoded data removed]",
            "text/plain": [
              "<Figure size 432x288 with 1 Axes>"
            ]
          },
          "metadata": {
            "needs_background": "light"
          }
        }
      ]
    },
    {
      "cell_type": "code",
      "metadata": {
        "id": "NnGVnbDOUStQ"
      },
      "source": [
        "correlation = idhm.corr()"
      ],
      "execution_count": 26,
      "outputs": []
    },
    {
      "cell_type": "code",
      "metadata": {
        "colab": {
          "base_uri": "https://localhost:8080/",
          "height": 287
        },
        "id": "yrJ5bsSuUYNA",
        "outputId": "07420c98-50de-4a2d-bf33-84ab8f8adbe7"
      },
      "source": [
        "plot = sn.heatmap(correlation, annot = True, fmt=\".1f\", linewidths=.6)\n",
        "plot"
      ],
      "execution_count": 27,
      "outputs": [
        {
          "output_type": "execute_result",
          "data": {
            "text/plain": [
              "<matplotlib.axes._subplots.AxesSubplot at 0x7f630811b050>"
            ]
          },
          "metadata": {},
          "execution_count": 27
        },
        {
          "output_type": "display_data",
          "data": {
            "image/png": "[encoded data removed]",
            "text/plain": [
              "<Figure size 432x288 with 2 Axes>"
            ]
          },
          "metadata": {
            "needs_background": "light"
          }
        }
      ]
    },
    {
      "cell_type": "code",
      "metadata": {
        "colab": {
          "base_uri": "https://localhost:8080/",
          "height": 295
        },
        "id": "z0WjEuEhUbYh",
        "outputId": "4b14fb9c-71ca-46b0-ba67-5b9befc801b7"
      },
      "source": [
        "x = [idhm.IDHM]\n",
        "y = [idhm.LETALIDADE]\n",
        "\n",
        "titulo = \"Análise de correlação entre IDH e índice de letalidade por covid-19\"\n",
        "eixox = \"IDHM\"\n",
        "eixoy = \"LETALIDADE\"\n",
        "\n",
        "plt.title(titulo)\n",
        "plt.xlabel(eixox)\n",
        "plt.ylabel(eixoy)\n",
        "\n",
        "plt.scatter(x, y)\n",
        "\n",
        "plt.show()"
      ],
      "execution_count": 28,
      "outputs": [
        {
          "output_type": "display_data",
          "data": {
            "image/png": "[encoded data removed]",
            "text/plain": [
              "<Figure size 432x288 with 1 Axes>"
            ]
          },
          "metadata": {
            "needs_background": "light"
          }
        }
      ]
    },
    {
      "cell_type": "code",
      "metadata": {
        "colab": {
          "base_uri": "https://localhost:8080/",
          "height": 574
        },
        "id": "QNfVs8V6UrwJ",
        "outputId": "37068c57-b874-4200-99c8-7b8e9d150f2b"
      },
      "source": [
        "peMunicipios.head()"
      ],
      "execution_count": 30,
      "outputs": [
        {
          "output_type": "execute_result",
          "data": {
            "text/html": [
              "<div>\n",
              "<style scoped>\n",
              "    .dataframe tbody tr th:only-of-type {\n",
              "        vertical-align: middle;\n",
              "    }\n",
              "\n",
              "    .dataframe tbody tr th {\n",
              "        vertical-align: top;\n",
              "    }\n",
              "\n",
              "    .dataframe thead th {\n",
              "        text-align: right;\n",
              "    }\n",
              "</style>\n",
              "<table border=\"1\" class=\"dataframe\">\n",
              "  <thead>\n",
              "    <tr style=\"text-align: right;\">\n",
              "      <th></th>\n",
              "      <th>CODMUN6</th>\n",
              "      <th>MUNIC_PIO</th>\n",
              "      <th>SEM_ACENTO</th>\n",
              "      <th>MUNIC_PI0</th>\n",
              "      <th>UF</th>\n",
              "      <th>UF_IBGE</th>\n",
              "      <th>REGI_O</th>\n",
              "      <th>MESO_IBGE</th>\n",
              "      <th>MESO_IBG0</th>\n",
              "      <th>MICRO_IBGE</th>\n",
              "      <th>MICRO_IB0</th>\n",
              "      <th>MESO_IBG1</th>\n",
              "      <th>MICRO_IB1</th>\n",
              "      <th>AREA_97</th>\n",
              "      <th>SEDE</th>\n",
              "      <th>SEDE0</th>\n",
              "      <th>N91</th>\n",
              "      <th>N96</th>\n",
              "      <th>CODCOMP</th>\n",
              "      <th>geometry</th>\n",
              "    </tr>\n",
              "  </thead>\n",
              "  <tbody>\n",
              "    <tr>\n",
              "      <th>0</th>\n",
              "      <td>260020</td>\n",
              "      <td>AFRÂNIO</td>\n",
              "      <td>AFRANIO</td>\n",
              "      <td>2600203</td>\n",
              "      <td>PE</td>\n",
              "      <td>26</td>\n",
              "      <td>NE</td>\n",
              "      <td>SAO FRANCISCO PERNAMBUCANO</td>\n",
              "      <td>02</td>\n",
              "      <td>PETROLINA</td>\n",
              "      <td>005</td>\n",
              "      <td>2602</td>\n",
              "      <td>260205</td>\n",
              "      <td>1482.423</td>\n",
              "      <td>-41.005</td>\n",
              "      <td>-8.515</td>\n",
              "      <td>13544.0</td>\n",
              "      <td>13886.0</td>\n",
              "      <td>260200500203</td>\n",
              "      <td>POLYGON ((-41.35756 -8.70651, -41.34930 -8.707...</td>\n",
              "    </tr>\n",
              "    <tr>\n",
              "      <th>1</th>\n",
              "      <td>261110</td>\n",
              "      <td>PETROLINA</td>\n",
              "      <td>PETROLINA</td>\n",
              "      <td>2611101</td>\n",
              "      <td>PE</td>\n",
              "      <td>26</td>\n",
              "      <td>NE</td>\n",
              "      <td>SAO FRANCISCO PERNAMBUCANO</td>\n",
              "      <td>02</td>\n",
              "      <td>PETROLINA</td>\n",
              "      <td>005</td>\n",
              "      <td>2602</td>\n",
              "      <td>260205</td>\n",
              "      <td>4737.130</td>\n",
              "      <td>-40.508</td>\n",
              "      <td>-9.393</td>\n",
              "      <td>0.0</td>\n",
              "      <td>191238.0</td>\n",
              "      <td>260200511101</td>\n",
              "      <td>POLYGON ((-40.96774 -8.82765, -40.96902 -8.823...</td>\n",
              "    </tr>\n",
              "    <tr>\n",
              "      <th>2</th>\n",
              "      <td>260515</td>\n",
              "      <td>DORMENTES</td>\n",
              "      <td>DORMENTES</td>\n",
              "      <td>2605152</td>\n",
              "      <td>PE</td>\n",
              "      <td>26</td>\n",
              "      <td>NE</td>\n",
              "      <td>SAO FRANCISCO PERNAMBUCANO</td>\n",
              "      <td>02</td>\n",
              "      <td>PETROLINA</td>\n",
              "      <td>005</td>\n",
              "      <td>2602</td>\n",
              "      <td>260205</td>\n",
              "      <td>1386.278</td>\n",
              "      <td>-40.771</td>\n",
              "      <td>-8.447</td>\n",
              "      <td>13862.0</td>\n",
              "      <td>13252.0</td>\n",
              "      <td>260200505152</td>\n",
              "      <td>POLYGON ((-40.86886 -8.36169, -40.86644 -8.362...</td>\n",
              "    </tr>\n",
              "    <tr>\n",
              "      <th>3</th>\n",
              "      <td>260110</td>\n",
              "      <td>ARARIPINA</td>\n",
              "      <td>ARARIPINA</td>\n",
              "      <td>2601102</td>\n",
              "      <td>PE</td>\n",
              "      <td>26</td>\n",
              "      <td>NE</td>\n",
              "      <td>SERTAO PERNAMBUCANO</td>\n",
              "      <td>01</td>\n",
              "      <td>ARARIPINA</td>\n",
              "      <td>001</td>\n",
              "      <td>2601</td>\n",
              "      <td>260101</td>\n",
              "      <td>1906.338</td>\n",
              "      <td>-40.498</td>\n",
              "      <td>-7.576</td>\n",
              "      <td>63453.0</td>\n",
              "      <td>63841.0</td>\n",
              "      <td>260100101102</td>\n",
              "      <td>POLYGON ((-40.71240 -7.47108, -40.70989 -7.465...</td>\n",
              "    </tr>\n",
              "    <tr>\n",
              "      <th>4</th>\n",
              "      <td>261245</td>\n",
              "      <td>SANTA CRUZ</td>\n",
              "      <td>SANTA CRUZ</td>\n",
              "      <td>2612455</td>\n",
              "      <td>PE</td>\n",
              "      <td>26</td>\n",
              "      <td>NE</td>\n",
              "      <td>SERTAO PERNAMBUCANO</td>\n",
              "      <td>01</td>\n",
              "      <td>ARARIPINA</td>\n",
              "      <td>001</td>\n",
              "      <td>2601</td>\n",
              "      <td>260101</td>\n",
              "      <td>1426.077</td>\n",
              "      <td>-40.336</td>\n",
              "      <td>-8.240</td>\n",
              "      <td>10590.0</td>\n",
              "      <td>10904.0</td>\n",
              "      <td>260100112455</td>\n",
              "      <td>POLYGON ((-40.55131 -8.28434, -40.55185 -8.281...</td>\n",
              "    </tr>\n",
              "  </tbody>\n",
              "</table>\n",
              "</div>"
            ],
            "text/plain": [
              "  CODMUN6  ...                                           geometry\n",
              "0  260020  ...  POLYGON ((-41.35756 -8.70651, -41.34930 -8.707...\n",
              "1  261110  ...  POLYGON ((-40.96774 -8.82765, -40.96902 -8.823...\n",
              "2  260515  ...  POLYGON ((-40.86886 -8.36169, -40.86644 -8.362...\n",
              "3  260110  ...  POLYGON ((-40.71240 -7.47108, -40.70989 -7.465...\n",
              "4  261245  ...  POLYGON ((-40.55131 -8.28434, -40.55185 -8.281...\n",
              "\n",
              "[5 rows x 20 columns]"
            ]
          },
          "metadata": {},
          "execution_count": 30
        }
      ]
    },
    {
      "cell_type": "code",
      "metadata": {
        "colab": {
          "base_uri": "https://localhost:8080/",
          "height": 279
        },
        "id": "0Ufr_ICmUdzQ",
        "outputId": "d73053b4-812b-4975-99df-b9dd13a9e5eb"
      },
      "source": [
        "peMunicipios.plot()"
      ],
      "execution_count": 29,
      "outputs": [
        {
          "output_type": "execute_result",
          "data": {
            "text/plain": [
              "<matplotlib.axes._subplots.AxesSubplot at 0x7f62ff6c8e10>"
            ]
          },
          "metadata": {},
          "execution_count": 29
        },
        {
          "output_type": "display_data",
          "data": {
            "image/png": "[encoded data removed]",
            "text/plain": [
              "<Figure size 432x288 with 1 Axes>"
            ]
          },
          "metadata": {
            "needs_background": "light"
          }
        }
      ]
    },
    {
      "cell_type": "code",
      "metadata": {
        "id": "UeJ3hNQHUmWQ"
      },
      "source": [
        ""
      ],
      "execution_count": null,
      "outputs": []
    }
  ]
}