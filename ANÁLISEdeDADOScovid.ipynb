{
  "nbformat": 4,
  "nbformat_minor": 0,
  "metadata": {
    "colab": {
      "name": "ANÁLISEdeDADOScovid.ipynb",
      "provenance": [],
      "mount_file_id": "1D-7cEshd4VPaxtyxTBV9VJWc6s2lzcC5",
      "authorship_tag": "ABX9TyNlIXdrmLEuAvXxqKnb79c4",
      "include_colab_link": true
    },
    "kernelspec": {
      "name": "python3",
      "display_name": "Python 3"
    },
    "language_info": {
      "name": "python"
    }
  },
  "cells": [
    {
      "cell_type": "markdown",
      "metadata": {
        "id": "view-in-github",
        "colab_type": "text"
      },
      "source": [
        "<a href=\"https://colab.research.google.com/github/CamilaSDantas/vacina_covid19_pernambuco/blob/main/AN%C3%81LISEdeDADOScovid.ipynb\" target=\"_parent\"><img src=\"https://colab.research.google.com/assets/colab-badge.svg\" alt=\"Open In Colab\"/></a>"
      ]
    },
    {
      "cell_type": "code",
      "metadata": {
        "id": "d59cDmXLClez"
      },
      "source": [
        "import pandas as pd\n",
        "import numpy as np\n",
        "import matplotlib.pyplot as plt\n",
        "import seaborn as sn\n",
        "from matplotlib import pyplot\n",
        "import random"
      ],
      "execution_count": 44,
      "outputs": []
    },
    {
      "cell_type": "code",
      "metadata": {
        "colab": {
          "base_uri": "https://localhost:8080/"
        },
        "id": "eCENtbmsEfGt",
        "outputId": "f4ca430b-0b8c-4295-9c3a-0c0ad15d0239"
      },
      "source": [
        "pip install geopandas"
      ],
      "execution_count": 45,
      "outputs": [
        {
          "output_type": "stream",
          "name": "stdout",
          "text": [
            "Requirement already satisfied: geopandas in /usr/local/lib/python3.7/dist-packages (0.10.2)\n",
            "Requirement already satisfied: fiona>=1.8 in /usr/local/lib/python3.7/dist-packages (from geopandas) (1.8.20)\n",
            "Requirement already satisfied: shapely>=1.6 in /usr/local/lib/python3.7/dist-packages (from geopandas) (1.8.0)\n",
            "Requirement already satisfied: pyproj>=2.2.0 in /usr/local/lib/python3.7/dist-packages (from geopandas) (3.2.1)\n",
            "Requirement already satisfied: pandas>=0.25.0 in /usr/local/lib/python3.7/dist-packages (from geopandas) (1.1.5)\n",
            "Requirement already satisfied: six>=1.7 in /usr/local/lib/python3.7/dist-packages (from fiona>=1.8->geopandas) (1.15.0)\n",
            "Requirement already satisfied: setuptools in /usr/local/lib/python3.7/dist-packages (from fiona>=1.8->geopandas) (57.4.0)\n",
            "Requirement already satisfied: click-plugins>=1.0 in /usr/local/lib/python3.7/dist-packages (from fiona>=1.8->geopandas) (1.1.1)\n",
            "Requirement already satisfied: click>=4.0 in /usr/local/lib/python3.7/dist-packages (from fiona>=1.8->geopandas) (7.1.2)\n",
            "Requirement already satisfied: cligj>=0.5 in /usr/local/lib/python3.7/dist-packages (from fiona>=1.8->geopandas) (0.7.2)\n",
            "Requirement already satisfied: munch in /usr/local/lib/python3.7/dist-packages (from fiona>=1.8->geopandas) (2.5.0)\n",
            "Requirement already satisfied: attrs>=17 in /usr/local/lib/python3.7/dist-packages (from fiona>=1.8->geopandas) (21.2.0)\n",
            "Requirement already satisfied: certifi in /usr/local/lib/python3.7/dist-packages (from fiona>=1.8->geopandas) (2021.10.8)\n",
            "Requirement already satisfied: python-dateutil>=2.7.3 in /usr/local/lib/python3.7/dist-packages (from pandas>=0.25.0->geopandas) (2.8.2)\n",
            "Requirement already satisfied: numpy>=1.15.4 in /usr/local/lib/python3.7/dist-packages (from pandas>=0.25.0->geopandas) (1.19.5)\n",
            "Requirement already satisfied: pytz>=2017.2 in /usr/local/lib/python3.7/dist-packages (from pandas>=0.25.0->geopandas) (2018.9)\n"
          ]
        }
      ]
    },
    {
      "cell_type": "code",
      "metadata": {
        "id": "ZmwQJu7rElo5"
      },
      "source": [
        "import geopandas"
      ],
      "execution_count": 46,
      "outputs": []
    },
    {
      "cell_type": "code",
      "metadata": {
        "id": "515EpiYLEm5B"
      },
      "source": [
        "municipios = pd.read_csv('/content/drive/MyDrive/Covid19 dados tcc/tcc/coordmunicipios.csv')\n",
        "idhpe = pd.read_csv('/content/drive/MyDrive/Covid19 dados tcc/tcc/idhpe.csv')\n",
        "covid = pd.read_csv('/content/drive/MyDrive/Covid19 dados tcc/PEdadosVACINA.csv',sep=';', decimal=',')\n",
        "idhm = pd.read_csv('/content/drive/MyDrive/Covid19 dados tcc/IDH10+.csv')\n",
        "corvacinados = pd.read_csv('/content/drive/MyDrive/Covid19 dados tcc/dadoscorvac.csv')\n",
        "peMunicipios = gpd.read_file('/content/drive/MyDrive/Covid19 dados tcc/tcc/PE_Mun97_region.shx')"
      ],
      "execution_count": null,
      "outputs": []
    },
    {
      "cell_type": "code",
      "metadata": {
        "colab": {
          "base_uri": "https://localhost:8080/",
          "height": 206
        },
        "id": "siXQacJpJPFZ",
        "outputId": "71ff97bb-dffc-4b8c-cd96-690fb8c1dcf3"
      },
      "source": [
        "municipios.head()"
      ],
      "execution_count": null,
      "outputs": [
        {
          "output_type": "execute_result",
          "data": {
            "text/html": [
              "<div>\n",
              "<style scoped>\n",
              "    .dataframe tbody tr th:only-of-type {\n",
              "        vertical-align: middle;\n",
              "    }\n",
              "\n",
              "    .dataframe tbody tr th {\n",
              "        vertical-align: top;\n",
              "    }\n",
              "\n",
              "    .dataframe thead th {\n",
              "        text-align: right;\n",
              "    }\n",
              "</style>\n",
              "<table border=\"1\" class=\"dataframe\">\n",
              "  <thead>\n",
              "    <tr style=\"text-align: right;\">\n",
              "      <th></th>\n",
              "      <th>Codmun</th>\n",
              "      <th>Município</th>\n",
              "      <th>latitude</th>\n",
              "      <th>longitude</th>\n",
              "    </tr>\n",
              "  </thead>\n",
              "  <tbody>\n",
              "    <tr>\n",
              "      <th>0</th>\n",
              "      <td>260005</td>\n",
              "      <td>ABREU E LIMA</td>\n",
              "      <td>-7.90072</td>\n",
              "      <td>-34.8984</td>\n",
              "    </tr>\n",
              "    <tr>\n",
              "      <th>1</th>\n",
              "      <td>260010</td>\n",
              "      <td>AFOGADOS DA INGAZEIRA</td>\n",
              "      <td>-7.74312</td>\n",
              "      <td>-37631.0000</td>\n",
              "    </tr>\n",
              "    <tr>\n",
              "      <th>2</th>\n",
              "      <td>260020</td>\n",
              "      <td>AFRÂNIO</td>\n",
              "      <td>-8.51136</td>\n",
              "      <td>-41.0095</td>\n",
              "    </tr>\n",
              "    <tr>\n",
              "      <th>3</th>\n",
              "      <td>260030</td>\n",
              "      <td>AGRESTINA</td>\n",
              "      <td>-8.45966</td>\n",
              "      <td>-35.9447</td>\n",
              "    </tr>\n",
              "    <tr>\n",
              "      <th>4</th>\n",
              "      <td>260040</td>\n",
              "      <td>ÁGUA PRETA</td>\n",
              "      <td>-8.70609</td>\n",
              "      <td>-35.5263</td>\n",
              "    </tr>\n",
              "  </tbody>\n",
              "</table>\n",
              "</div>"
            ],
            "text/plain": [
              "   Codmun              Município  latitude   longitude\n",
              "0  260005           ABREU E LIMA  -7.90072    -34.8984\n",
              "1  260010  AFOGADOS DA INGAZEIRA  -7.74312 -37631.0000\n",
              "2  260020                AFRÂNIO  -8.51136    -41.0095\n",
              "3  260030              AGRESTINA  -8.45966    -35.9447\n",
              "4  260040             ÁGUA PRETA  -8.70609    -35.5263"
            ]
          },
          "metadata": {},
          "execution_count": 5
        }
      ]
    },
    {
      "cell_type": "code",
      "metadata": {
        "colab": {
          "base_uri": "https://localhost:8080/",
          "height": 206
        },
        "id": "mfqCOEngJR-x",
        "outputId": "865811cd-5702-4995-b0dc-294e8e9802c0"
      },
      "source": [
        "idhpe.head()"
      ],
      "execution_count": null,
      "outputs": [
        {
          "output_type": "execute_result",
          "data": {
            "text/html": [
              "<div>\n",
              "<style scoped>\n",
              "    .dataframe tbody tr th:only-of-type {\n",
              "        vertical-align: middle;\n",
              "    }\n",
              "\n",
              "    .dataframe tbody tr th {\n",
              "        vertical-align: top;\n",
              "    }\n",
              "\n",
              "    .dataframe thead th {\n",
              "        text-align: right;\n",
              "    }\n",
              "</style>\n",
              "<table border=\"1\" class=\"dataframe\">\n",
              "  <thead>\n",
              "    <tr style=\"text-align: right;\">\n",
              "      <th></th>\n",
              "      <th>Codmun6</th>\n",
              "      <th>Município</th>\n",
              "      <th>IDMH</th>\n",
              "      <th>IDHM_E</th>\n",
              "      <th>IDHM_L</th>\n",
              "      <th>IDHM_R</th>\n",
              "    </tr>\n",
              "  </thead>\n",
              "  <tbody>\n",
              "    <tr>\n",
              "      <th>0</th>\n",
              "      <td>260005</td>\n",
              "      <td>ABREU E LIMA</td>\n",
              "      <td>679</td>\n",
              "      <td>632</td>\n",
              "      <td>791</td>\n",
              "      <td>625</td>\n",
              "    </tr>\n",
              "    <tr>\n",
              "      <th>1</th>\n",
              "      <td>260010</td>\n",
              "      <td>AFOGADOS DA INGAZEIRA</td>\n",
              "      <td>657</td>\n",
              "      <td>565</td>\n",
              "      <td>807</td>\n",
              "      <td>623</td>\n",
              "    </tr>\n",
              "    <tr>\n",
              "      <th>2</th>\n",
              "      <td>260020</td>\n",
              "      <td>AFRÂNIO</td>\n",
              "      <td>588</td>\n",
              "      <td>493</td>\n",
              "      <td>761</td>\n",
              "      <td>542</td>\n",
              "    </tr>\n",
              "    <tr>\n",
              "      <th>3</th>\n",
              "      <td>260030</td>\n",
              "      <td>AGRESTINA</td>\n",
              "      <td>592</td>\n",
              "      <td>470</td>\n",
              "      <td>760</td>\n",
              "      <td>581</td>\n",
              "    </tr>\n",
              "    <tr>\n",
              "      <th>4</th>\n",
              "      <td>260040</td>\n",
              "      <td>ÁGUA PRETA</td>\n",
              "      <td>553</td>\n",
              "      <td>432</td>\n",
              "      <td>761</td>\n",
              "      <td>514</td>\n",
              "    </tr>\n",
              "  </tbody>\n",
              "</table>\n",
              "</div>"
            ],
            "text/plain": [
              "   Codmun6              Município  IDMH  IDHM_E  IDHM_L  IDHM_R\n",
              "0   260005           ABREU E LIMA   679     632     791     625\n",
              "1   260010  AFOGADOS DA INGAZEIRA   657     565     807     623\n",
              "2   260020                AFRÂNIO   588     493     761     542\n",
              "3   260030              AGRESTINA   592     470     760     581\n",
              "4   260040             ÁGUA PRETA   553     432     761     514"
            ]
          },
          "metadata": {},
          "execution_count": 6
        }
      ]
    },
    {
      "cell_type": "code",
      "metadata": {
        "colab": {
          "base_uri": "https://localhost:8080/",
          "height": 400
        },
        "id": "Hsls4KKQJUBw",
        "outputId": "3d55e81e-b2e6-4701-d566-1e4855a7bf31"
      },
      "source": [
        "covid.head()"
      ],
      "execution_count": null,
      "outputs": [
        {
          "output_type": "execute_result",
          "data": {
            "text/html": [
              "<div>\n",
              "<style scoped>\n",
              "    .dataframe tbody tr th:only-of-type {\n",
              "        vertical-align: middle;\n",
              "    }\n",
              "\n",
              "    .dataframe tbody tr th {\n",
              "        vertical-align: top;\n",
              "    }\n",
              "\n",
              "    .dataframe thead th {\n",
              "        text-align: right;\n",
              "    }\n",
              "</style>\n",
              "<table border=\"1\" class=\"dataframe\">\n",
              "  <thead>\n",
              "    <tr style=\"text-align: right;\">\n",
              "      <th></th>\n",
              "      <th>document_id</th>\n",
              "      <th>paciente_id</th>\n",
              "      <th>paciente_idade</th>\n",
              "      <th>paciente_datanascimento</th>\n",
              "      <th>paciente_enumsexobiologico</th>\n",
              "      <th>paciente_racacor_codigo</th>\n",
              "      <th>paciente_racacor_valor</th>\n",
              "      <th>paciente_endereco_coibgemunicipio</th>\n",
              "      <th>paciente_endereco_copais</th>\n",
              "      <th>paciente_endereco_nmmunicipio</th>\n",
              "      <th>paciente_endereco_nmpais</th>\n",
              "      <th>paciente_endereco_uf</th>\n",
              "      <th>paciente_endereco_cep</th>\n",
              "      <th>paciente_nacionalidade_enumnacionalidade</th>\n",
              "      <th>estabelecimento_valor</th>\n",
              "      <th>estabelecimento_razaosocial</th>\n",
              "      <th>estalecimento_nofantasia</th>\n",
              "      <th>estabelecimento_municipio_codigo</th>\n",
              "      <th>estabelecimento_municipio_nome</th>\n",
              "      <th>estabelecimento_uf</th>\n",
              "      <th>vacina_grupoatendimento_codigo</th>\n",
              "      <th>vacina_grupoatendimento_nome</th>\n",
              "      <th>vacina_categoria_codigo</th>\n",
              "      <th>vacina_categoria_nome</th>\n",
              "      <th>vacina_lote</th>\n",
              "      <th>vacina_fabricante_nome</th>\n",
              "      <th>vacina_fabricante_referencia</th>\n",
              "      <th>vacina_dataaplicacao</th>\n",
              "      <th>vacina_descricao_dose</th>\n",
              "      <th>vacina_codigo</th>\n",
              "      <th>vacina_nome</th>\n",
              "      <th>sistema_origem</th>\n",
              "      <th>data_importacao_rnds</th>\n",
              "      <th>id_sistema_origem</th>\n",
              "    </tr>\n",
              "  </thead>\n",
              "  <tbody>\n",
              "    <tr>\n",
              "      <th>0</th>\n",
              "      <td>f2a49507-1215-412c-af15-bc198ec9f941-i0b0</td>\n",
              "      <td>31887a35f9788fc6f4b67634beead5e735baf76a4f73f3...</td>\n",
              "      <td>36.0</td>\n",
              "      <td>1985-02-16</td>\n",
              "      <td>M</td>\n",
              "      <td>3.0</td>\n",
              "      <td>PARDA</td>\n",
              "      <td>260530.0</td>\n",
              "      <td>10.0</td>\n",
              "      <td>EXU</td>\n",
              "      <td>BRASIL</td>\n",
              "      <td>PE</td>\n",
              "      <td>56230.0</td>\n",
              "      <td>B</td>\n",
              "      <td>2435799</td>\n",
              "      <td>MUNICIPIO DE EXU</td>\n",
              "      <td>UNIDADE DE SAUDE DA FAMILIA DO CENTRO I</td>\n",
              "      <td>260530</td>\n",
              "      <td>EXU</td>\n",
              "      <td>PE</td>\n",
              "      <td>201</td>\n",
              "      <td>Pessoas de 60 a 64 anos</td>\n",
              "      <td>2.0</td>\n",
              "      <td>Faixa Etária</td>\n",
              "      <td>FD7209</td>\n",
              "      <td>MINISTERIO DA SAUDE</td>\n",
              "      <td>Organization/00394544000851</td>\n",
              "      <td>2021-08-10</td>\n",
              "      <td>1ª Dose</td>\n",
              "      <td>87</td>\n",
              "      <td>Vacina covid-19 - BNT162b2 - BioNTech/Fosun Ph...</td>\n",
              "      <td>Novo PNI</td>\n",
              "      <td>2021-08-11T18:45:46.000Z</td>\n",
              "      <td>16341</td>\n",
              "    </tr>\n",
              "    <tr>\n",
              "      <th>1</th>\n",
              "      <td>fec72d41-b707-437c-9286-320e8d9fec12-i0b0</td>\n",
              "      <td>758a450a6eca97d274481584b30c456947a8a2a8e837de...</td>\n",
              "      <td>72.0</td>\n",
              "      <td>1948-08-15</td>\n",
              "      <td>F</td>\n",
              "      <td>3.0</td>\n",
              "      <td>PARDA</td>\n",
              "      <td>260845.0</td>\n",
              "      <td>10.0</td>\n",
              "      <td>LAGOA DO CARRO</td>\n",
              "      <td>BRASIL</td>\n",
              "      <td>PE</td>\n",
              "      <td>55820.0</td>\n",
              "      <td>B</td>\n",
              "      <td>2433001</td>\n",
              "      <td>PREFEITURA MUNICIPAL DE LAGOA DO CARRO</td>\n",
              "      <td>POLICLINICA SEVERINO NASCIMENTO CRUZ</td>\n",
              "      <td>260845</td>\n",
              "      <td>LAGOA DO CARRO</td>\n",
              "      <td>PE</td>\n",
              "      <td>203</td>\n",
              "      <td>Pessoas de 70 a 74 anos</td>\n",
              "      <td>2.0</td>\n",
              "      <td>Faixa Etária</td>\n",
              "      <td>210114</td>\n",
              "      <td>FUNDACAO BUTANTAN</td>\n",
              "      <td>Organization/61189445000156</td>\n",
              "      <td>2021-04-23</td>\n",
              "      <td>2ª Dose</td>\n",
              "      <td>86</td>\n",
              "      <td>Covid-19-Coronavac-Sinovac/Butantan</td>\n",
              "      <td>Novo PNI</td>\n",
              "      <td>2021-04-27T14:56:27.000Z</td>\n",
              "      <td>16341</td>\n",
              "    </tr>\n",
              "    <tr>\n",
              "      <th>2</th>\n",
              "      <td>0f28f593-d6c9-4be0-8ec3-4fd716cbe613-i0b0</td>\n",
              "      <td>f76aadad27f1aab693b105314ee28e7682941147f786ac...</td>\n",
              "      <td>59.0</td>\n",
              "      <td>1961-10-10</td>\n",
              "      <td>M</td>\n",
              "      <td>99.0</td>\n",
              "      <td>SEM INFORMACAO</td>\n",
              "      <td>260290.0</td>\n",
              "      <td>10.0</td>\n",
              "      <td>CABO DE SANTO AGOSTINHO</td>\n",
              "      <td>BRASIL</td>\n",
              "      <td>PE</td>\n",
              "      <td>NaN</td>\n",
              "      <td>B</td>\n",
              "      <td>20362</td>\n",
              "      <td>PREFEITURA MUNICIPAL DO CABO DE SANTO AGOSTINHO</td>\n",
              "      <td>USF SACRAMENTO</td>\n",
              "      <td>260290</td>\n",
              "      <td>CABO DE SANTO AGOSTINHO</td>\n",
              "      <td>PE</td>\n",
              "      <td>201</td>\n",
              "      <td>Pessoas de 18 a 64 anos</td>\n",
              "      <td>2.0</td>\n",
              "      <td>Faixa Etária</td>\n",
              "      <td>ABW4735</td>\n",
              "      <td>MINISTERIO DA SAUDE</td>\n",
              "      <td>Organization/00394544000851</td>\n",
              "      <td>2021-06-03</td>\n",
              "      <td>1ª Dose</td>\n",
              "      <td>89</td>\n",
              "      <td>Covid-19-AstraZeneca</td>\n",
              "      <td>Novo PNI</td>\n",
              "      <td>2021-06-07T17:45:57.000Z</td>\n",
              "      <td>16341</td>\n",
              "    </tr>\n",
              "    <tr>\n",
              "      <th>3</th>\n",
              "      <td>0bc830d8-f280-43d2-b777-3b339d3a2c11-i0b0</td>\n",
              "      <td>b152bda3e59de654003c5c59fab10eced492c536a1412c...</td>\n",
              "      <td>71.0</td>\n",
              "      <td>1949-09-18</td>\n",
              "      <td>M</td>\n",
              "      <td>4.0</td>\n",
              "      <td>AMARELA</td>\n",
              "      <td>261640.0</td>\n",
              "      <td>10.0</td>\n",
              "      <td>VITORIA DE SANTO ANTAO</td>\n",
              "      <td>BRASIL</td>\n",
              "      <td>PE</td>\n",
              "      <td>55602.0</td>\n",
              "      <td>B</td>\n",
              "      <td>2638045</td>\n",
              "      <td>FUNDO MUNICIPAL DE SAUDE DE VITORIA DE SANTO A...</td>\n",
              "      <td>U S F ALTO JOSE LEAL</td>\n",
              "      <td>261640</td>\n",
              "      <td>VITORIA DE SANTO ANTAO</td>\n",
              "      <td>PE</td>\n",
              "      <td>203</td>\n",
              "      <td>Pessoas de 70 a 74 anos</td>\n",
              "      <td>2.0</td>\n",
              "      <td>Faixa Etária</td>\n",
              "      <td>210142</td>\n",
              "      <td>FUNDACAO BUTANTAN</td>\n",
              "      <td>Organization/61189445000156</td>\n",
              "      <td>2021-04-20</td>\n",
              "      <td>2ª Dose</td>\n",
              "      <td>86</td>\n",
              "      <td>Covid-19-Coronavac-Sinovac/Butantan</td>\n",
              "      <td>Novo PNI</td>\n",
              "      <td>2021-04-23T13:46:52.000Z</td>\n",
              "      <td>16341</td>\n",
              "    </tr>\n",
              "    <tr>\n",
              "      <th>4</th>\n",
              "      <td>2acd9afb-2191-4b92-918e-d9bd46078117-i0b0</td>\n",
              "      <td>2ee331cd395a0c0b098670832fa4fa6d3fb8752bd37a05...</td>\n",
              "      <td>27.0</td>\n",
              "      <td>1994-03-20</td>\n",
              "      <td>F</td>\n",
              "      <td>3.0</td>\n",
              "      <td>PARDA</td>\n",
              "      <td>261610.0</td>\n",
              "      <td>10.0</td>\n",
              "      <td>VERDEJANTE</td>\n",
              "      <td>BRASIL</td>\n",
              "      <td>PE</td>\n",
              "      <td>56120.0</td>\n",
              "      <td>B</td>\n",
              "      <td>2714736</td>\n",
              "      <td>PREFEITURA MUNICIPAL DE VERDEJANTE</td>\n",
              "      <td>UNIDADE DE SAUDE DA FAMILIA DE GROSSOS</td>\n",
              "      <td>261610</td>\n",
              "      <td>VERDEJANTE</td>\n",
              "      <td>PE</td>\n",
              "      <td>201</td>\n",
              "      <td>Pessoas de 18 a 64 anos</td>\n",
              "      <td>2.0</td>\n",
              "      <td>Faixa Etária</td>\n",
              "      <td>216VCD206Z</td>\n",
              "      <td>FUNDACAO OSWALDO CRUZ</td>\n",
              "      <td>Organization/33781055000135</td>\n",
              "      <td>2021-07-30</td>\n",
              "      <td>1ª Dose</td>\n",
              "      <td>85</td>\n",
              "      <td>Vacina Covid-19 - Covishield</td>\n",
              "      <td>Novo PNI</td>\n",
              "      <td>2021-08-06T13:45:44.000Z</td>\n",
              "      <td>16341</td>\n",
              "    </tr>\n",
              "  </tbody>\n",
              "</table>\n",
              "</div>"
            ],
            "text/plain": [
              "                                 document_id  ... id_sistema_origem\n",
              "0  f2a49507-1215-412c-af15-bc198ec9f941-i0b0  ...             16341\n",
              "1  fec72d41-b707-437c-9286-320e8d9fec12-i0b0  ...             16341\n",
              "2  0f28f593-d6c9-4be0-8ec3-4fd716cbe613-i0b0  ...             16341\n",
              "3  0bc830d8-f280-43d2-b777-3b339d3a2c11-i0b0  ...             16341\n",
              "4  2acd9afb-2191-4b92-918e-d9bd46078117-i0b0  ...             16341\n",
              "\n",
              "[5 rows x 34 columns]"
            ]
          },
          "metadata": {},
          "execution_count": 7
        }
      ]
    },
    {
      "cell_type": "code",
      "metadata": {
        "colab": {
          "base_uri": "https://localhost:8080/"
        },
        "id": "7mrDhPhDJdoh",
        "outputId": "ba712fe5-9c05-4c38-dd70-c15dfaef8356"
      },
      "source": [
        "idhpe.info()"
      ],
      "execution_count": null,
      "outputs": [
        {
          "output_type": "stream",
          "name": "stdout",
          "text": [
            "<class 'pandas.core.frame.DataFrame'>\n",
            "RangeIndex: 185 entries, 0 to 184\n",
            "Data columns (total 6 columns):\n",
            " #   Column     Non-Null Count  Dtype \n",
            "---  ------     --------------  ----- \n",
            " 0   Codmun6    185 non-null    int64 \n",
            " 1   Município  185 non-null    object\n",
            " 2   IDMH       185 non-null    int64 \n",
            " 3   IDHM_E     185 non-null    int64 \n",
            " 4   IDHM_L     185 non-null    int64 \n",
            " 5   IDHM_R     185 non-null    int64 \n",
            "dtypes: int64(5), object(1)\n",
            "memory usage: 8.8+ KB\n"
          ]
        }
      ]
    },
    {
      "cell_type": "code",
      "metadata": {
        "id": "lxQSo8boJncx"
      },
      "source": [
        "colunas = ['paciente_idade', 'paciente_enumsexobiologico', 'paciente_racacor_valor','estabelecimento_municipio_codigo', 'paciente_endereco_nmmunicipio', 'vacina_grupoatendimento_nome', 'vacina_nome']\n",
        "covid = covid[colunas]"
      ],
      "execution_count": null,
      "outputs": []
    },
    {
      "cell_type": "code",
      "metadata": {
        "colab": {
          "base_uri": "https://localhost:8080/",
          "height": 383
        },
        "id": "UAYkfZmZJ2KB",
        "outputId": "4bb1168b-6a7e-4267-9c1a-14166a341521"
      },
      "source": [
        "covid.head()"
      ],
      "execution_count": null,
      "outputs": [
        {
          "output_type": "execute_result",
          "data": {
            "text/html": [
              "<div>\n",
              "<style scoped>\n",
              "    .dataframe tbody tr th:only-of-type {\n",
              "        vertical-align: middle;\n",
              "    }\n",
              "\n",
              "    .dataframe tbody tr th {\n",
              "        vertical-align: top;\n",
              "    }\n",
              "\n",
              "    .dataframe thead th {\n",
              "        text-align: right;\n",
              "    }\n",
              "</style>\n",
              "<table border=\"1\" class=\"dataframe\">\n",
              "  <thead>\n",
              "    <tr style=\"text-align: right;\">\n",
              "      <th></th>\n",
              "      <th>paciente_idade</th>\n",
              "      <th>paciente_enumsexobiologico</th>\n",
              "      <th>paciente_racacor_valor</th>\n",
              "      <th>estabelecimento_municipio_codigo</th>\n",
              "      <th>paciente_endereco_nmmunicipio</th>\n",
              "      <th>vacina_grupoatendimento_nome</th>\n",
              "      <th>vacina_nome</th>\n",
              "    </tr>\n",
              "  </thead>\n",
              "  <tbody>\n",
              "    <tr>\n",
              "      <th>0</th>\n",
              "      <td>36.0</td>\n",
              "      <td>M</td>\n",
              "      <td>PARDA</td>\n",
              "      <td>260530</td>\n",
              "      <td>EXU</td>\n",
              "      <td>Pessoas de 60 a 64 anos</td>\n",
              "      <td>Vacina covid-19 - BNT162b2 - BioNTech/Fosun Ph...</td>\n",
              "    </tr>\n",
              "    <tr>\n",
              "      <th>1</th>\n",
              "      <td>72.0</td>\n",
              "      <td>F</td>\n",
              "      <td>PARDA</td>\n",
              "      <td>260845</td>\n",
              "      <td>LAGOA DO CARRO</td>\n",
              "      <td>Pessoas de 70 a 74 anos</td>\n",
              "      <td>Covid-19-Coronavac-Sinovac/Butantan</td>\n",
              "    </tr>\n",
              "    <tr>\n",
              "      <th>2</th>\n",
              "      <td>59.0</td>\n",
              "      <td>M</td>\n",
              "      <td>SEM INFORMACAO</td>\n",
              "      <td>260290</td>\n",
              "      <td>CABO DE SANTO AGOSTINHO</td>\n",
              "      <td>Pessoas de 18 a 64 anos</td>\n",
              "      <td>Covid-19-AstraZeneca</td>\n",
              "    </tr>\n",
              "    <tr>\n",
              "      <th>3</th>\n",
              "      <td>71.0</td>\n",
              "      <td>M</td>\n",
              "      <td>AMARELA</td>\n",
              "      <td>261640</td>\n",
              "      <td>VITORIA DE SANTO ANTAO</td>\n",
              "      <td>Pessoas de 70 a 74 anos</td>\n",
              "      <td>Covid-19-Coronavac-Sinovac/Butantan</td>\n",
              "    </tr>\n",
              "    <tr>\n",
              "      <th>4</th>\n",
              "      <td>27.0</td>\n",
              "      <td>F</td>\n",
              "      <td>PARDA</td>\n",
              "      <td>261610</td>\n",
              "      <td>VERDEJANTE</td>\n",
              "      <td>Pessoas de 18 a 64 anos</td>\n",
              "      <td>Vacina Covid-19 - Covishield</td>\n",
              "    </tr>\n",
              "  </tbody>\n",
              "</table>\n",
              "</div>"
            ],
            "text/plain": [
              "   paciente_idade  ...                                        vacina_nome\n",
              "0            36.0  ...  Vacina covid-19 - BNT162b2 - BioNTech/Fosun Ph...\n",
              "1            72.0  ...                Covid-19-Coronavac-Sinovac/Butantan\n",
              "2            59.0  ...                               Covid-19-AstraZeneca\n",
              "3            71.0  ...                Covid-19-Coronavac-Sinovac/Butantan\n",
              "4            27.0  ...                       Vacina Covid-19 - Covishield\n",
              "\n",
              "[5 rows x 7 columns]"
            ]
          },
          "metadata": {},
          "execution_count": 10
        }
      ]
    },
    {
      "cell_type": "code",
      "metadata": {
        "id": "HwcKBSn4MmLi"
      },
      "source": [
        "covid.dropna(subset= ['paciente_racacor_valor'], inplace = True)"
      ],
      "execution_count": null,
      "outputs": []
    },
    {
      "cell_type": "code",
      "metadata": {
        "id": "g5fbLB7pJ7Vx",
        "colab": {
          "base_uri": "https://localhost:8080/"
        },
        "outputId": "376f4ce8-b5cb-48ac-bb29-de3dc57a3817"
      },
      "source": [
        "covid.info()"
      ],
      "execution_count": null,
      "outputs": [
        {
          "output_type": "stream",
          "name": "stdout",
          "text": [
            "<class 'pandas.core.frame.DataFrame'>\n",
            "Int64Index: 10056886 entries, 0 to 10056893\n",
            "Data columns (total 7 columns):\n",
            " #   Column                            Dtype  \n",
            "---  ------                            -----  \n",
            " 0   paciente_idade                    float64\n",
            " 1   paciente_enumsexobiologico        object \n",
            " 2   paciente_racacor_valor            object \n",
            " 3   estabelecimento_municipio_codigo  int64  \n",
            " 4   paciente_endereco_nmmunicipio     object \n",
            " 5   vacina_grupoatendimento_nome      object \n",
            " 6   vacina_nome                       object \n",
            "dtypes: float64(1), int64(1), object(5)\n",
            "memory usage: 613.8+ MB\n"
          ]
        }
      ]
    },
    {
      "cell_type": "code",
      "metadata": {
        "colab": {
          "base_uri": "https://localhost:8080/",
          "height": 586
        },
        "id": "NQJ2DCvaMqwy",
        "outputId": "1a08d2ff-c081-4c76-dd61-9ec1b34d4ab3"
      },
      "source": [
        "covid['vacina_nome'].value_counts().plot(kind='bar')"
      ],
      "execution_count": null,
      "outputs": [
        {
          "output_type": "execute_result",
          "data": {
            "text/plain": [
              "<matplotlib.axes._subplots.AxesSubplot at 0x7f27130dc910>"
            ]
          },
          "metadata": {},
          "execution_count": 13
        },
        {
          "output_type": "display_data",
          "data": {
            "image/png": "[encoded data removed]",
            "text/plain": [
              "<Figure size 432x288 with 1 Axes>"
            ]
          },
          "metadata": {
            "needs_background": "light"
          }
        }
      ]
    },
    {
      "cell_type": "code",
      "metadata": {
        "id": "NIfztT7AMt_B"
      },
      "source": [
        "sexo = covid['paciente_enumsexobiologico'].value_counts()"
      ],
      "execution_count": null,
      "outputs": []
    },
    {
      "cell_type": "code",
      "metadata": {
        "colab": {
          "base_uri": "https://localhost:8080/"
        },
        "id": "IX9p8-VYMwwQ",
        "outputId": "263b9fc2-5051-4dcc-d701-1f5280ff30bf"
      },
      "source": [
        "sexo.head()"
      ],
      "execution_count": null,
      "outputs": [
        {
          "output_type": "execute_result",
          "data": {
            "text/plain": [
              "F    5538263\n",
              "M    4518611\n",
              "I         12\n",
              "Name: paciente_enumsexobiologico, dtype: int64"
            ]
          },
          "metadata": {},
          "execution_count": 15
        }
      ]
    },
    {
      "cell_type": "code",
      "metadata": {
        "colab": {
          "base_uri": "https://localhost:8080/",
          "height": 296
        },
        "id": "FCtCUBDRMyg_",
        "outputId": "05f29479-c5ce-4c72-848f-ed0b3f5ff392"
      },
      "source": [
        "sexo.plot(kind='barh', color = ['red', 'blue'])"
      ],
      "execution_count": null,
      "outputs": [
        {
          "output_type": "execute_result",
          "data": {
            "text/plain": [
              "<matplotlib.axes._subplots.AxesSubplot at 0x7f27967ae110>"
            ]
          },
          "metadata": {},
          "execution_count": 16
        },
        {
          "output_type": "display_data",
          "data": {
            "image/png": "[encoded data removed]",
            "text/plain": [
              "<Figure size 432x288 with 1 Axes>"
            ]
          },
          "metadata": {
            "needs_background": "light"
          }
        }
      ]
    },
    {
      "cell_type": "code",
      "metadata": {
        "colab": {
          "base_uri": "https://localhost:8080/",
          "height": 300
        },
        "id": "6SmfDtJzM0ox",
        "outputId": "9cf5c487-4b4e-4c6e-8db6-70b0e75d309e"
      },
      "source": [
        "idhpe.describe()"
      ],
      "execution_count": null,
      "outputs": [
        {
          "output_type": "execute_result",
          "data": {
            "text/html": [
              "<div>\n",
              "<style scoped>\n",
              "    .dataframe tbody tr th:only-of-type {\n",
              "        vertical-align: middle;\n",
              "    }\n",
              "\n",
              "    .dataframe tbody tr th {\n",
              "        vertical-align: top;\n",
              "    }\n",
              "\n",
              "    .dataframe thead th {\n",
              "        text-align: right;\n",
              "    }\n",
              "</style>\n",
              "<table border=\"1\" class=\"dataframe\">\n",
              "  <thead>\n",
              "    <tr style=\"text-align: right;\">\n",
              "      <th></th>\n",
              "      <th>Codmun6</th>\n",
              "      <th>IDMH</th>\n",
              "      <th>IDHM_E</th>\n",
              "      <th>IDHM_L</th>\n",
              "      <th>IDHM_R</th>\n",
              "    </tr>\n",
              "  </thead>\n",
              "  <tbody>\n",
              "    <tr>\n",
              "      <th>count</th>\n",
              "      <td>185.000000</td>\n",
              "      <td>185.000000</td>\n",
              "      <td>185.000000</td>\n",
              "      <td>185.000000</td>\n",
              "      <td>185.000000</td>\n",
              "    </tr>\n",
              "    <tr>\n",
              "      <th>mean</th>\n",
              "      <td>260823.702703</td>\n",
              "      <td>596.248649</td>\n",
              "      <td>490.556757</td>\n",
              "      <td>755.659459</td>\n",
              "      <td>574.378378</td>\n",
              "    </tr>\n",
              "    <tr>\n",
              "      <th>std</th>\n",
              "      <td>470.173966</td>\n",
              "      <td>47.514561</td>\n",
              "      <td>67.966170</td>\n",
              "      <td>34.984278</td>\n",
              "      <td>47.082924</td>\n",
              "    </tr>\n",
              "    <tr>\n",
              "      <th>min</th>\n",
              "      <td>260005.000000</td>\n",
              "      <td>487.000000</td>\n",
              "      <td>354.000000</td>\n",
              "      <td>676.000000</td>\n",
              "      <td>477.000000</td>\n",
              "    </tr>\n",
              "    <tr>\n",
              "      <th>25%</th>\n",
              "      <td>260420.000000</td>\n",
              "      <td>567.000000</td>\n",
              "      <td>443.000000</td>\n",
              "      <td>731.000000</td>\n",
              "      <td>543.000000</td>\n",
              "    </tr>\n",
              "    <tr>\n",
              "      <th>50%</th>\n",
              "      <td>260820.000000</td>\n",
              "      <td>593.000000</td>\n",
              "      <td>489.000000</td>\n",
              "      <td>758.000000</td>\n",
              "      <td>566.000000</td>\n",
              "    </tr>\n",
              "    <tr>\n",
              "      <th>75%</th>\n",
              "      <td>261230.000000</td>\n",
              "      <td>613.000000</td>\n",
              "      <td>525.000000</td>\n",
              "      <td>778.000000</td>\n",
              "      <td>598.000000</td>\n",
              "    </tr>\n",
              "    <tr>\n",
              "      <th>max</th>\n",
              "      <td>261650.000000</td>\n",
              "      <td>788.000000</td>\n",
              "      <td>748.000000</td>\n",
              "      <td>839.000000</td>\n",
              "      <td>798.000000</td>\n",
              "    </tr>\n",
              "  </tbody>\n",
              "</table>\n",
              "</div>"
            ],
            "text/plain": [
              "             Codmun6        IDMH      IDHM_E      IDHM_L      IDHM_R\n",
              "count     185.000000  185.000000  185.000000  185.000000  185.000000\n",
              "mean   260823.702703  596.248649  490.556757  755.659459  574.378378\n",
              "std       470.173966   47.514561   67.966170   34.984278   47.082924\n",
              "min    260005.000000  487.000000  354.000000  676.000000  477.000000\n",
              "25%    260420.000000  567.000000  443.000000  731.000000  543.000000\n",
              "50%    260820.000000  593.000000  489.000000  758.000000  566.000000\n",
              "75%    261230.000000  613.000000  525.000000  778.000000  598.000000\n",
              "max    261650.000000  788.000000  748.000000  839.000000  798.000000"
            ]
          },
          "metadata": {},
          "execution_count": 18
        }
      ]
    },
    {
      "cell_type": "code",
      "metadata": {
        "id": "E94og22KM3Kh"
      },
      "source": [
        "vacinacao = pd.merge(idhpe,covid,left_on='Codmun6', right_on='estabelecimento_municipio_codigo')"
      ],
      "execution_count": null,
      "outputs": []
    },
    {
      "cell_type": "code",
      "metadata": {
        "colab": {
          "base_uri": "https://localhost:8080/",
          "height": 435
        },
        "id": "Fi1pZcWGM_gw",
        "outputId": "9f5579e0-4ca8-42cd-8ee7-6b366516e37e"
      },
      "source": [
        "vacinacao.head()"
      ],
      "execution_count": null,
      "outputs": [
        {
          "output_type": "execute_result",
          "data": {
            "text/html": [
              "<div>\n",
              "<style scoped>\n",
              "    .dataframe tbody tr th:only-of-type {\n",
              "        vertical-align: middle;\n",
              "    }\n",
              "\n",
              "    .dataframe tbody tr th {\n",
              "        vertical-align: top;\n",
              "    }\n",
              "\n",
              "    .dataframe thead th {\n",
              "        text-align: right;\n",
              "    }\n",
              "</style>\n",
              "<table border=\"1\" class=\"dataframe\">\n",
              "  <thead>\n",
              "    <tr style=\"text-align: right;\">\n",
              "      <th></th>\n",
              "      <th>Codmun6</th>\n",
              "      <th>Município</th>\n",
              "      <th>IDMH</th>\n",
              "      <th>IDHM_E</th>\n",
              "      <th>IDHM_L</th>\n",
              "      <th>IDHM_R</th>\n",
              "      <th>paciente_idade</th>\n",
              "      <th>paciente_enumsexobiologico</th>\n",
              "      <th>paciente_racacor_valor</th>\n",
              "      <th>estabelecimento_municipio_codigo</th>\n",
              "      <th>paciente_endereco_nmmunicipio</th>\n",
              "      <th>vacina_grupoatendimento_nome</th>\n",
              "      <th>vacina_nome</th>\n",
              "    </tr>\n",
              "  </thead>\n",
              "  <tbody>\n",
              "    <tr>\n",
              "      <th>0</th>\n",
              "      <td>260005</td>\n",
              "      <td>ABREU E LIMA</td>\n",
              "      <td>679</td>\n",
              "      <td>632</td>\n",
              "      <td>791</td>\n",
              "      <td>625</td>\n",
              "      <td>48.0</td>\n",
              "      <td>M</td>\n",
              "      <td>SEM INFORMACAO</td>\n",
              "      <td>260005</td>\n",
              "      <td>RECIFE</td>\n",
              "      <td>Outros</td>\n",
              "      <td>Covid-19-Coronavac-Sinovac/Butantan</td>\n",
              "    </tr>\n",
              "    <tr>\n",
              "      <th>1</th>\n",
              "      <td>260005</td>\n",
              "      <td>ABREU E LIMA</td>\n",
              "      <td>679</td>\n",
              "      <td>632</td>\n",
              "      <td>791</td>\n",
              "      <td>625</td>\n",
              "      <td>53.0</td>\n",
              "      <td>M</td>\n",
              "      <td>PRETA</td>\n",
              "      <td>260005</td>\n",
              "      <td>JABOATAO DOS GUARARAPES</td>\n",
              "      <td>Ensino Básico</td>\n",
              "      <td>Vacina Covid-19 - Covishield</td>\n",
              "    </tr>\n",
              "    <tr>\n",
              "      <th>2</th>\n",
              "      <td>260005</td>\n",
              "      <td>ABREU E LIMA</td>\n",
              "      <td>679</td>\n",
              "      <td>632</td>\n",
              "      <td>791</td>\n",
              "      <td>625</td>\n",
              "      <td>26.0</td>\n",
              "      <td>M</td>\n",
              "      <td>SEM INFORMACAO</td>\n",
              "      <td>260005</td>\n",
              "      <td>IGARASSU</td>\n",
              "      <td>Pessoas de 60 a 64 anos</td>\n",
              "      <td>Vacina covid-19 - BNT162b2 - BioNTech/Fosun Ph...</td>\n",
              "    </tr>\n",
              "    <tr>\n",
              "      <th>3</th>\n",
              "      <td>260005</td>\n",
              "      <td>ABREU E LIMA</td>\n",
              "      <td>679</td>\n",
              "      <td>632</td>\n",
              "      <td>791</td>\n",
              "      <td>625</td>\n",
              "      <td>17.0</td>\n",
              "      <td>M</td>\n",
              "      <td>PARDA</td>\n",
              "      <td>260005</td>\n",
              "      <td>ABREU E LIMA</td>\n",
              "      <td>NaN</td>\n",
              "      <td>Vacina covid-19 - BNT162b2 - BioNTech/Fosun Ph...</td>\n",
              "    </tr>\n",
              "    <tr>\n",
              "      <th>4</th>\n",
              "      <td>260005</td>\n",
              "      <td>ABREU E LIMA</td>\n",
              "      <td>679</td>\n",
              "      <td>632</td>\n",
              "      <td>791</td>\n",
              "      <td>625</td>\n",
              "      <td>17.0</td>\n",
              "      <td>F</td>\n",
              "      <td>PRETA</td>\n",
              "      <td>260005</td>\n",
              "      <td>ABREU E LIMA</td>\n",
              "      <td>NaN</td>\n",
              "      <td>Vacina covid-19 - BNT162b2 - BioNTech/Fosun Ph...</td>\n",
              "    </tr>\n",
              "  </tbody>\n",
              "</table>\n",
              "</div>"
            ],
            "text/plain": [
              "   Codmun6  ...                                        vacina_nome\n",
              "0   260005  ...                Covid-19-Coronavac-Sinovac/Butantan\n",
              "1   260005  ...                       Vacina Covid-19 - Covishield\n",
              "2   260005  ...  Vacina covid-19 - BNT162b2 - BioNTech/Fosun Ph...\n",
              "3   260005  ...  Vacina covid-19 - BNT162b2 - BioNTech/Fosun Ph...\n",
              "4   260005  ...  Vacina covid-19 - BNT162b2 - BioNTech/Fosun Ph...\n",
              "\n",
              "[5 rows x 13 columns]"
            ]
          },
          "metadata": {},
          "execution_count": 21
        }
      ]
    },
    {
      "cell_type": "code",
      "metadata": {
        "id": "5qEbjCScNFeP"
      },
      "source": [
        "vacinaspe = pd.merge(vacinacao, municipios, left_on='Codmun6', right_on='Codmun')"
      ],
      "execution_count": null,
      "outputs": []
    },
    {
      "cell_type": "code",
      "metadata": {
        "colab": {
          "base_uri": "https://localhost:8080/",
          "height": 435
        },
        "id": "iqlAS-JhNIFx",
        "outputId": "8cb4cfd6-f186-4d0c-c347-7f4466d7c2eb"
      },
      "source": [
        "vacinaspe.head()"
      ],
      "execution_count": null,
      "outputs": [
        {
          "output_type": "execute_result",
          "data": {
            "text/html": [
              "<div>\n",
              "<style scoped>\n",
              "    .dataframe tbody tr th:only-of-type {\n",
              "        vertical-align: middle;\n",
              "    }\n",
              "\n",
              "    .dataframe tbody tr th {\n",
              "        vertical-align: top;\n",
              "    }\n",
              "\n",
              "    .dataframe thead th {\n",
              "        text-align: right;\n",
              "    }\n",
              "</style>\n",
              "<table border=\"1\" class=\"dataframe\">\n",
              "  <thead>\n",
              "    <tr style=\"text-align: right;\">\n",
              "      <th></th>\n",
              "      <th>Codmun6</th>\n",
              "      <th>Município_x</th>\n",
              "      <th>IDMH</th>\n",
              "      <th>IDHM_E</th>\n",
              "      <th>IDHM_L</th>\n",
              "      <th>IDHM_R</th>\n",
              "      <th>paciente_idade</th>\n",
              "      <th>paciente_enumsexobiologico</th>\n",
              "      <th>paciente_racacor_valor</th>\n",
              "      <th>estabelecimento_municipio_codigo</th>\n",
              "      <th>paciente_endereco_nmmunicipio</th>\n",
              "      <th>vacina_grupoatendimento_nome</th>\n",
              "      <th>vacina_nome</th>\n",
              "      <th>Codmun</th>\n",
              "      <th>Município_y</th>\n",
              "      <th>latitude</th>\n",
              "      <th>longitude</th>\n",
              "    </tr>\n",
              "  </thead>\n",
              "  <tbody>\n",
              "    <tr>\n",
              "      <th>0</th>\n",
              "      <td>260005</td>\n",
              "      <td>ABREU E LIMA</td>\n",
              "      <td>679</td>\n",
              "      <td>632</td>\n",
              "      <td>791</td>\n",
              "      <td>625</td>\n",
              "      <td>48.0</td>\n",
              "      <td>M</td>\n",
              "      <td>SEM INFORMACAO</td>\n",
              "      <td>260005</td>\n",
              "      <td>RECIFE</td>\n",
              "      <td>Outros</td>\n",
              "      <td>Covid-19-Coronavac-Sinovac/Butantan</td>\n",
              "      <td>260005</td>\n",
              "      <td>ABREU E LIMA</td>\n",
              "      <td>-7.90072</td>\n",
              "      <td>-34.8984</td>\n",
              "    </tr>\n",
              "    <tr>\n",
              "      <th>1</th>\n",
              "      <td>260005</td>\n",
              "      <td>ABREU E LIMA</td>\n",
              "      <td>679</td>\n",
              "      <td>632</td>\n",
              "      <td>791</td>\n",
              "      <td>625</td>\n",
              "      <td>53.0</td>\n",
              "      <td>M</td>\n",
              "      <td>PRETA</td>\n",
              "      <td>260005</td>\n",
              "      <td>JABOATAO DOS GUARARAPES</td>\n",
              "      <td>Ensino Básico</td>\n",
              "      <td>Vacina Covid-19 - Covishield</td>\n",
              "      <td>260005</td>\n",
              "      <td>ABREU E LIMA</td>\n",
              "      <td>-7.90072</td>\n",
              "      <td>-34.8984</td>\n",
              "    </tr>\n",
              "    <tr>\n",
              "      <th>2</th>\n",
              "      <td>260005</td>\n",
              "      <td>ABREU E LIMA</td>\n",
              "      <td>679</td>\n",
              "      <td>632</td>\n",
              "      <td>791</td>\n",
              "      <td>625</td>\n",
              "      <td>26.0</td>\n",
              "      <td>M</td>\n",
              "      <td>SEM INFORMACAO</td>\n",
              "      <td>260005</td>\n",
              "      <td>IGARASSU</td>\n",
              "      <td>Pessoas de 60 a 64 anos</td>\n",
              "      <td>Vacina covid-19 - BNT162b2 - BioNTech/Fosun Ph...</td>\n",
              "      <td>260005</td>\n",
              "      <td>ABREU E LIMA</td>\n",
              "      <td>-7.90072</td>\n",
              "      <td>-34.8984</td>\n",
              "    </tr>\n",
              "    <tr>\n",
              "      <th>3</th>\n",
              "      <td>260005</td>\n",
              "      <td>ABREU E LIMA</td>\n",
              "      <td>679</td>\n",
              "      <td>632</td>\n",
              "      <td>791</td>\n",
              "      <td>625</td>\n",
              "      <td>17.0</td>\n",
              "      <td>M</td>\n",
              "      <td>PARDA</td>\n",
              "      <td>260005</td>\n",
              "      <td>ABREU E LIMA</td>\n",
              "      <td>NaN</td>\n",
              "      <td>Vacina covid-19 - BNT162b2 - BioNTech/Fosun Ph...</td>\n",
              "      <td>260005</td>\n",
              "      <td>ABREU E LIMA</td>\n",
              "      <td>-7.90072</td>\n",
              "      <td>-34.8984</td>\n",
              "    </tr>\n",
              "    <tr>\n",
              "      <th>4</th>\n",
              "      <td>260005</td>\n",
              "      <td>ABREU E LIMA</td>\n",
              "      <td>679</td>\n",
              "      <td>632</td>\n",
              "      <td>791</td>\n",
              "      <td>625</td>\n",
              "      <td>17.0</td>\n",
              "      <td>F</td>\n",
              "      <td>PRETA</td>\n",
              "      <td>260005</td>\n",
              "      <td>ABREU E LIMA</td>\n",
              "      <td>NaN</td>\n",
              "      <td>Vacina covid-19 - BNT162b2 - BioNTech/Fosun Ph...</td>\n",
              "      <td>260005</td>\n",
              "      <td>ABREU E LIMA</td>\n",
              "      <td>-7.90072</td>\n",
              "      <td>-34.8984</td>\n",
              "    </tr>\n",
              "  </tbody>\n",
              "</table>\n",
              "</div>"
            ],
            "text/plain": [
              "   Codmun6   Município_x  IDMH  ...   Município_y  latitude  longitude\n",
              "0   260005  ABREU E LIMA   679  ...  ABREU E LIMA  -7.90072   -34.8984\n",
              "1   260005  ABREU E LIMA   679  ...  ABREU E LIMA  -7.90072   -34.8984\n",
              "2   260005  ABREU E LIMA   679  ...  ABREU E LIMA  -7.90072   -34.8984\n",
              "3   260005  ABREU E LIMA   679  ...  ABREU E LIMA  -7.90072   -34.8984\n",
              "4   260005  ABREU E LIMA   679  ...  ABREU E LIMA  -7.90072   -34.8984\n",
              "\n",
              "[5 rows x 17 columns]"
            ]
          },
          "metadata": {},
          "execution_count": 23
        }
      ]
    },
    {
      "cell_type": "code",
      "metadata": {
        "colab": {
          "base_uri": "https://localhost:8080/",
          "height": 206
        },
        "id": "8JIHbKErPCJS",
        "outputId": "c750d997-80dc-4577-95b9-d53635cdd78e"
      },
      "source": [
        "corvacinados.head()"
      ],
      "execution_count": null,
      "outputs": [
        {
          "output_type": "execute_result",
          "data": {
            "text/html": [
              "<div>\n",
              "<style scoped>\n",
              "    .dataframe tbody tr th:only-of-type {\n",
              "        vertical-align: middle;\n",
              "    }\n",
              "\n",
              "    .dataframe tbody tr th {\n",
              "        vertical-align: top;\n",
              "    }\n",
              "\n",
              "    .dataframe thead th {\n",
              "        text-align: right;\n",
              "    }\n",
              "</style>\n",
              "<table border=\"1\" class=\"dataframe\">\n",
              "  <thead>\n",
              "    <tr style=\"text-align: right;\">\n",
              "      <th></th>\n",
              "      <th>COR</th>\n",
              "      <th>QUANTIDADE</th>\n",
              "    </tr>\n",
              "  </thead>\n",
              "  <tbody>\n",
              "    <tr>\n",
              "      <th>0</th>\n",
              "      <td>Parda</td>\n",
              "      <td>652816</td>\n",
              "    </tr>\n",
              "    <tr>\n",
              "      <th>1</th>\n",
              "      <td>Branca</td>\n",
              "      <td>534005</td>\n",
              "    </tr>\n",
              "    <tr>\n",
              "      <th>2</th>\n",
              "      <td>Preta</td>\n",
              "      <td>184963</td>\n",
              "    </tr>\n",
              "    <tr>\n",
              "      <th>3</th>\n",
              "      <td>Amarela</td>\n",
              "      <td>27805</td>\n",
              "    </tr>\n",
              "    <tr>\n",
              "      <th>4</th>\n",
              "      <td>Indígena</td>\n",
              "      <td>5297</td>\n",
              "    </tr>\n",
              "  </tbody>\n",
              "</table>\n",
              "</div>"
            ],
            "text/plain": [
              "        COR  QUANTIDADE\n",
              "0     Parda      652816\n",
              "1    Branca      534005\n",
              "2     Preta      184963\n",
              "3   Amarela       27805\n",
              "4  Indígena        5297"
            ]
          },
          "metadata": {},
          "execution_count": 34
        }
      ]
    },
    {
      "cell_type": "code",
      "metadata": {
        "colab": {
          "base_uri": "https://localhost:8080/",
          "height": 280
        },
        "id": "fUK6d7vlPnGx",
        "outputId": "983d41cb-c697-4138-c68f-a59476535f7f"
      },
      "source": [
        "corvacinados.plot(kind='bar', color = ['blue'])"
      ],
      "execution_count": null,
      "outputs": [
        {
          "output_type": "execute_result",
          "data": {
            "text/plain": [
              "<matplotlib.axes._subplots.AxesSubplot at 0x7f26acb1a150>"
            ]
          },
          "metadata": {},
          "execution_count": 41
        },
        {
          "output_type": "display_data",
          "data": {
            "image/png": "[encoded data removed]",
            "text/plain": [
              "<Figure size 432x288 with 1 Axes>"
            ]
          },
          "metadata": {
            "needs_background": "light"
          }
        }
      ]
    },
    {
      "cell_type": "code",
      "metadata": {
        "colab": {
          "base_uri": "https://localhost:8080/",
          "height": 206
        },
        "id": "6FVDNNONNWDB",
        "outputId": "f645f872-b26b-42be-fb06-dfe830f571ff"
      },
      "source": [
        "idhm.head()"
      ],
      "execution_count": null,
      "outputs": [
        {
          "output_type": "execute_result",
          "data": {
            "text/html": [
              "<div>\n",
              "<style scoped>\n",
              "    .dataframe tbody tr th:only-of-type {\n",
              "        vertical-align: middle;\n",
              "    }\n",
              "\n",
              "    .dataframe tbody tr th {\n",
              "        vertical-align: top;\n",
              "    }\n",
              "\n",
              "    .dataframe thead th {\n",
              "        text-align: right;\n",
              "    }\n",
              "</style>\n",
              "<table border=\"1\" class=\"dataframe\">\n",
              "  <thead>\n",
              "    <tr style=\"text-align: right;\">\n",
              "      <th></th>\n",
              "      <th>IDHM</th>\n",
              "      <th>LETALIDADE</th>\n",
              "    </tr>\n",
              "  </thead>\n",
              "  <tbody>\n",
              "    <tr>\n",
              "      <th>0</th>\n",
              "      <td>788</td>\n",
              "      <td>190</td>\n",
              "    </tr>\n",
              "    <tr>\n",
              "      <th>1</th>\n",
              "      <td>772</td>\n",
              "      <td>257</td>\n",
              "    </tr>\n",
              "    <tr>\n",
              "      <th>2</th>\n",
              "      <td>735</td>\n",
              "      <td>222</td>\n",
              "    </tr>\n",
              "    <tr>\n",
              "      <th>3</th>\n",
              "      <td>732</td>\n",
              "      <td>268</td>\n",
              "    </tr>\n",
              "    <tr>\n",
              "      <th>4</th>\n",
              "      <td>717</td>\n",
              "      <td>419</td>\n",
              "    </tr>\n",
              "  </tbody>\n",
              "</table>\n",
              "</div>"
            ],
            "text/plain": [
              "   IDHM  LETALIDADE\n",
              "0   788         190\n",
              "1   772         257\n",
              "2   735         222\n",
              "3   732         268\n",
              "4   717         419"
            ]
          },
          "metadata": {},
          "execution_count": 25
        }
      ]
    },
    {
      "cell_type": "code",
      "metadata": {
        "id": "Nhod2izMN0tS"
      },
      "source": [
        "correlation = idhm.corr()"
      ],
      "execution_count": null,
      "outputs": []
    },
    {
      "cell_type": "code",
      "metadata": {
        "colab": {
          "base_uri": "https://localhost:8080/",
          "height": 287
        },
        "id": "PUCDQ59gN5qg",
        "outputId": "6fffb2ed-7c20-454a-c652-622c748031b9"
      },
      "source": [
        "plot = sn.heatmap(correlation, annot = True, fmt=\".1f\", linewidths=.6)\n",
        "plot"
      ],
      "execution_count": null,
      "outputs": [
        {
          "output_type": "execute_result",
          "data": {
            "text/plain": [
              "<matplotlib.axes._subplots.AxesSubplot at 0x7f26b5896450>"
            ]
          },
          "metadata": {},
          "execution_count": 29
        },
        {
          "output_type": "display_data",
          "data": {
            "image/png": "[encoded data removed]",
            "text/plain": [
              "<Figure size 432x288 with 2 Axes>"
            ]
          },
          "metadata": {
            "needs_background": "light"
          }
        }
      ]
    },
    {
      "cell_type": "code",
      "metadata": {
        "colab": {
          "base_uri": "https://localhost:8080/",
          "height": 295
        },
        "id": "d3e58Ia6N7aA",
        "outputId": "290068d5-f9d1-46a5-b6fa-6ccdf5da8fb0"
      },
      "source": [
        "x = [idhm.IDHM]\n",
        "y = [idhm.LETALIDADE]\n",
        "\n",
        "titulo = \"Análise de correlação entre IDH e índice de letalidade por covid-19\"\n",
        "eixox = \"IDHM\"\n",
        "eixoy = \"LETALIDADE\"\n",
        "\n",
        "plt.title(titulo)\n",
        "plt.xlabel(eixox)\n",
        "plt.ylabel(eixoy)\n",
        "\n",
        "plt.scatter(x, y)\n",
        "\n",
        "plt.show()"
      ],
      "execution_count": null,
      "outputs": [
        {
          "output_type": "display_data",
          "data": {
            "image/png": "[encoded data removed]",
            "text/plain": [
              "<Figure size 432x288 with 1 Axes>"
            ]
          },
          "metadata": {
            "needs_background": "light"
          }
        }
      ]
    }
  ]
}